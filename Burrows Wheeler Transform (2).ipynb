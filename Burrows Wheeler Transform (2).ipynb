{
 "cells": [
  {
   "cell_type": "code",
   "execution_count": 1,
   "id": "601c74db-7523-48c0-afe0-56a05cc75273",
   "metadata": {},
   "outputs": [],
   "source": [
    "from Bio import SeqIO"
   ]
  },
  {
   "cell_type": "code",
   "execution_count": 56,
   "id": "6b9dedc6-8f6e-46d2-b65f-5e926b519161",
   "metadata": {},
   "outputs": [
    {
     "name": "stdout",
     "output_type": "stream",
     "text": [
      "NC_000001.11\n",
      "Seq('NNNNNNNNNNNNNNNNNNNNNNNNNNNNNNNNNNNNNNNNNNNNNNNNNNNNNN...NNN')\n",
      "248956422\n",
      "NT_187361.1\n",
      "Seq('GAATTCAGCTGAGAAGAACAGGCAAGGACTTAGGAAATATTCCTTATTTGAAGG...TTC')\n",
      "175055\n",
      "NT_187362.1\n",
      "Seq('AGGGGTCTGCTTAGAGAGGGTCTCATTAGTGGGGTCTAGTAGTGGGGTTTTGGT...TTC')\n",
      "32032\n",
      "NT_187363.1\n",
      "Seq('gatcgagactatcctggctaacacggtgaaaccccgtctctactaaaaatacaa...ATC')\n",
      "127682\n",
      "NT_187364.1\n",
      "Seq('gaattcattcgatgacgattccattcaattccgttcaatgattccattagattc...TTC')\n",
      "66860\n",
      "NT_187365.1\n",
      "Seq('AAACTGtgcagcctctatggaaaacagtaccgtggttcctcaaaaaaattaaga...ATC')\n",
      "40176\n",
      "NT_187366.1\n",
      "Seq('tgtgtatgtgtatgtgtatgtatgtgtatgtgtatgtgtatatgtatatgtata...GCT')\n",
      "42210\n",
      "NT_187367.1\n",
      "Seq('GAATTCTCAGAACTTTCAAAACACAAATCTTCATCCGCAGGGATGTTCAGGAGG...TTC')\n",
      "176043\n",
      "NT_187368.1\n",
      "Seq('GAGCATTCTCTAGTAGGAAGACCTTTTTAGAGTACAAAGGCCAGATCCTGCCCT...aac')\n",
      "40745\n",
      "NT_187369.1\n",
      "Seq('CTAAACACAAAAagtttagctgggcatgatggtgcatgcctgtaatctgagcta...GGA')\n",
      "41717\n",
      "NC_000002.12\n",
      "Seq('NNNNNNNNNNNNNNNNNNNNNNNNNNNNNNNNNNNNNNNNNNNNNNNNNNNNNN...NNN')\n",
      "242193529\n",
      "NT_187370.1\n",
      "Seq('GAATTCTCAGAAaccagtttgtgatgtgtgtactcaactaacagggttgaacct...ttc')\n",
      "161471\n",
      "NT_187371.1\n",
      "Seq('GAATTCTTTCTATAactctattcgattccattcgatgatgattccattctattc...ttc')\n",
      "153799\n",
      "NC_000003.12\n",
      "Seq('NNNNNNNNNNNNNNNNNNNNNNNNNNNNNNNNNNNNNNNNNNNNNNNNNNNNNN...NNN')\n",
      "198295559\n",
      "NT_167215.1\n",
      "Seq('GAATTCGTTGAGGAGCTTCTGGAAAGTGCACATTCTGACTCAGCAGGTATTGGA...ttc')\n",
      "155397\n",
      "NC_000004.12\n",
      "Seq('NNNNNNNNNNNNNNNNNNNNNNNNNNNNNNNNNNNNNNNNNNNNNNNNNNNNNN...NNN')\n",
      "190214555\n",
      "NT_113793.3\n",
      "Seq('gaattcaatggaatggaattcaatggaatgcaatgaaatacaatggaatggaat...ccc')\n",
      "209709\n",
      "NC_000005.10\n",
      "Seq('NNNNNNNNNNNNNNNNNNNNNNNNNNNNNNNNNNNNNNNNNNNNNNNNNNNNNN...NNN')\n",
      "181538259\n",
      "NT_113948.1\n",
      "Seq('gaattcttcaaagagttccagatatccacaggcagattctacaaaagaagtgtt...gat')\n",
      "92689\n",
      "NC_000006.12\n",
      "Seq('NNNNNNNNNNNNNNNNNNNNNNNNNNNNNNNNNNNNNNNNNNNNNNNNNNNNNN...NNN')\n",
      "170805979\n",
      "NC_000007.14\n",
      "Seq('NNNNNNNNNNNNNNNNNNNNNNNNNNNNNNNNNNNNNNNNNNNNNNNNNNNNNN...NNN')\n",
      "159345973\n",
      "NC_000008.11\n",
      "Seq('NNNNNNNNNNNNNNNNNNNNNNNNNNNNNNNNNNNNNNNNNNNNNNNNNNNNNN...NNN')\n",
      "145138636\n",
      "NC_000009.12\n",
      "Seq('NNNNNNNNNNNNNNNNNNNNNNNNNNNNNNNNNNNNNNNNNNNNNNNNNNNNNN...NNN')\n",
      "138394717\n",
      "NT_187372.1\n",
      "Seq('TTTTATTCATTGcctatacttttatttctaaactttctgTAACACTTTATCTTA...GCG')\n",
      "40062\n",
      "NT_187373.1\n",
      "Seq('AGGATCCTCTTCCTCATCCACAGATCCAACAGCCGGTAACATTCCGGCCTACAG...TGT')\n",
      "38054\n",
      "NT_187374.1\n",
      "Seq('GAATTCACTCAGCAGTCAGAAGAAAAGGAAGCCTCTTGTTGGAATTCATACTAA...TTC')\n",
      "176845\n",
      "NT_187375.1\n",
      "Seq('GCTCCTTTCAGATAGAGGCAAGGGATATTTGACTTTTTATCTCTAGTGTCTAGT...CTA')\n",
      "39050\n",
      "NC_000010.11\n",
      "Seq('NNNNNNNNNNNNNNNNNNNNNNNNNNNNNNNNNNNNNNNNNNNNNNNNNNNNNN...NNN')\n",
      "133797422\n",
      "NC_000011.10\n",
      "Seq('NNNNNNNNNNNNNNNNNNNNNNNNNNNNNNNNNNNNNNNNNNNNNNNNNNNNNN...GAG')\n",
      "113708154\n"
     ]
    }
   ],
   "source": [
    "for genes in SeqIO.parse('GRCh38_latest_genomic.fna', 'fasta'):\n",
    "    print(genes.id)\n",
    "    print(repr(genes.seq))\n",
    "    print(len(genes))"
   ]
  },
  {
   "cell_type": "code",
   "execution_count": 57,
   "id": "a082733f-d66e-4614-b8c8-6400c4fceb32",
   "metadata": {},
   "outputs": [],
   "source": [
    "# first burrows wheeler transform code attempt\n",
    "\n",
    "import argparse\n",
    "from operator import itemgetter\n",
    "\n",
    "def bwt(s):\n",
    "    n = len(s)\n",
    "    m = sorted(s[i:n]+ s[0:i] for i in range(n))\n",
    "    I = m.index(s)\n",
    "    L = ''.join(q[-1] for q in m)\n",
    "    return (I, L)\n",
    "\n",
    "\n",
    "def ibwt(I, L):\n",
    "    n = len(L)\n",
    "    X = sorted([(i, x) for i, x in enumerate(L)], key=itemgetter(1))\n",
    "    \n",
    "    T = [None for i in range(n)]\n",
    "    for i, y in enumerate(X):\n",
    "        j, _ = y\n",
    "        T[j] = i\n",
    "        \n",
    "        Tx = [I]\n",
    "        for i in range(1, n):\n",
    "            Tx.append(T[Tx[i-1]])\n",
    "            \n",
    "        S = [L[i] for i in Tx]\n",
    "        S.reverse()\n",
    "        return ''.join(S)"
   ]
  },
  {
   "cell_type": "code",
   "execution_count": 66,
   "id": "b3a0d401-09d4-44f3-b72f-11d236a865da",
   "metadata": {},
   "outputs": [],
   "source": [
    "from Bio import SeqIO\n",
    "\n",
    "with open('outfile.txt',\"w\") as f:\n",
    "        for genes in SeqIO.parse('GRCh38_latest_genomic.fna', \"fasta\"):\n",
    "                f.write(str(genes.id) + \"\\n\")\n",
    "                f.write(str(genes.seq[:10]) + \"\\n\")  #first 10 base positions\n",
    "                f.write(str(genes.seq[-10:]) + \"\\n\") #last 10 base positions"
   ]
  },
  {
   "cell_type": "code",
   "execution_count": 69,
   "id": "44bcd7d6-01b4-4ea4-a6e3-3281e5e2f2ab",
   "metadata": {},
   "outputs": [
    {
     "name": "stdout",
     "output_type": "stream",
     "text": [
      "NNNNNN\n"
     ]
    }
   ],
   "source": [
    "# i think we would have to copy out the entire sequence for an individual gene for biopython to slice. it won't let me specifiy a slice for an specific gene\n",
    "\n",
    "# this is an example of trying to extract a chromosome/piece of it\n",
    "from Bio.Seq import Seq\n",
    "\n",
    "seq = str(repr(genes.seq))\n",
    "print(seq[6:12])"
   ]
  },
  {
   "cell_type": "code",
   "execution_count": null,
   "id": "ea4717bd-a368-4701-9ab6-1b9380312850",
   "metadata": {},
   "outputs": [],
   "source": []
  },
  {
   "cell_type": "code",
   "execution_count": null,
   "id": "e2cb8dac-3376-4e37-9fca-ead15bdcf136",
   "metadata": {},
   "outputs": [],
   "source": []
  },
  {
   "cell_type": "code",
   "execution_count": 14,
   "id": "65a98acf-6f88-418d-b7f3-27c1c6698cc7",
   "metadata": {},
   "outputs": [],
   "source": [
    "# second bwt code attempt\n",
    "\n",
    "def bwt(s):\n",
    "    assert \"\\002\" not in s and \"\\003\" not in s, \"Input string cannot contain STX and ETX characters\"\n",
    "    s = \"\\002\" + s + \"\\003\"  # Add start and end of text marker\n",
    "    table = sorted(s[i:] + s[:i] for i in range(len(s)))  # Table of rotations of string\n",
    "    last_column = [row[-1:] for row in table]  # Last characters of each row\n",
    "    return \"\".join(last_column)  # Convert list of characters into string\n",
    "\n",
    "def ibwt(r):\n",
    "    \"\"\"Apply inverse Burrows-Wheeler transform.\"\"\"\n",
    "    table = [\"\"] * len(r)  # Make empty table\n",
    "    for i in range(len(r)):\n",
    "        table = sorted(r[i] + table[i] for i in range(len(r)))  # Add a column of r\n",
    "    s = [row for row in table if row.endswith(\"\\003\")][0]  # Find the correct row (ending in ETX)\n",
    "    return s.rstrip(\"\\003\").strip(\"\\002\")  # Get rid of start and end markers"
   ]
  },
  {
   "cell_type": "code",
   "execution_count": null,
   "id": "44950632-9360-44dc-93ea-59d5788739fb",
   "metadata": {},
   "outputs": [],
   "source": []
  }
 ],
 "metadata": {
  "kernelspec": {
   "display_name": "Python 3 (ipykernel)",
   "language": "python",
   "name": "python3"
  },
  "language_info": {
   "codemirror_mode": {
    "name": "ipython",
    "version": 3
   },
   "file_extension": ".py",
   "mimetype": "text/x-python",
   "name": "python",
   "nbconvert_exporter": "python",
   "pygments_lexer": "ipython3",
   "version": "3.10.8"
  }
 },
 "nbformat": 4,
 "nbformat_minor": 5
}
