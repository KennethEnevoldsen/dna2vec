{
 "cells": [
  {
   "cell_type": "code",
   "execution_count": 1,
   "id": "601c74db-7523-48c0-afe0-56a05cc75273",
   "metadata": {},
   "outputs": [],
   "source": [
    "from Bio import SeqIO"
   ]
  },
  {
   "cell_type": "code",
   "execution_count": 9,
   "id": "6b9dedc6-8f6e-46d2-b65f-5e926b519161",
   "metadata": {},
   "outputs": [
    {
     "name": "stdout",
     "output_type": "stream",
     "text": [
      "NC_000001.11 Homo sapiens chromosome 1, GRCh38.p14 Primary Assembly\n",
      "NT_187361.1 Homo sapiens chromosome 1 unlocalized genomic scaffold, GRCh38.p14 Primary Assembly HSCHR1_CTG1_UNLOCALIZED\n",
      "NT_187362.1 Homo sapiens chromosome 1 unlocalized genomic scaffold, GRCh38.p14 Primary Assembly HSCHR1_CTG2_UNLOCALIZED\n",
      "NT_187363.1 Homo sapiens chromosome 1 unlocalized genomic scaffold, GRCh38.p14 Primary Assembly HSCHR1_CTG3_UNLOCALIZED\n",
      "NT_187364.1 Homo sapiens chromosome 1 unlocalized genomic scaffold, GRCh38.p14 Primary Assembly HSCHR1_CTG4_UNLOCALIZED\n",
      "NT_187365.1 Homo sapiens chromosome 1 unlocalized genomic scaffold, GRCh38.p14 Primary Assembly HSCHR1_CTG5_UNLOCALIZED\n",
      "NT_187366.1 Homo sapiens chromosome 1 unlocalized genomic scaffold, GRCh38.p14 Primary Assembly HSCHR1_CTG6_UNLOCALIZED\n",
      "NT_187367.1 Homo sapiens chromosome 1 unlocalized genomic scaffold, GRCh38.p14 Primary Assembly HSCHR1_CTG7_UNLOCALIZED\n",
      "NT_187368.1 Homo sapiens chromosome 1 unlocalized genomic scaffold, GRCh38.p14 Primary Assembly HSCHR1_CTG8_UNLOCALIZED\n",
      "NT_187369.1 Homo sapiens chromosome 1 unlocalized genomic scaffold, GRCh38.p14 Primary Assembly HSCHR1_CTG9_UNLOCALIZED\n",
      "NC_000002.12 Homo sapiens chromosome 2, GRCh38.p14 Primary Assembly\n",
      "NT_187370.1 Homo sapiens chromosome 2 unlocalized genomic scaffold, GRCh38.p14 Primary Assembly HSCHR2_RANDOM_CTG1\n",
      "NT_187371.1 Homo sapiens chromosome 2 unlocalized genomic scaffold, GRCh38.p14 Primary Assembly HSCHR2_RANDOM_CTG2\n",
      "NC_000003.12 Homo sapiens chromosome 3, GRCh38.p14 Primary Assembly\n",
      "NT_167215.1 Homo sapiens chromosome 3 unlocalized genomic scaffold, GRCh38.p14 Primary Assembly HSCHR3UN_CTG2\n",
      "NC_000004.12 Homo sapiens chromosome 4, GRCh38.p14 Primary Assembly\n",
      "NT_113793.3 Homo sapiens chromosome 4 unlocalized genomic scaffold, GRCh38.p14 Primary Assembly HSCHR4_RANDOM_CTG4\n",
      "NC_000005.10 Homo sapiens chromosome 5, GRCh38.p14 Primary Assembly\n",
      "NT_113948.1 Homo sapiens chromosome 5 unlocalized genomic scaffold, GRCh38.p14 Primary Assembly HSCHR5_RANDOM_CTG1\n",
      "NC_000006.12 Homo sapiens chromosome 6, GRCh38.p14 Primary Assembly\n",
      "NC_000007.14 Homo sapiens chromosome 7, GRCh38.p14 Primary Assembly\n",
      "NC_000008.11 Homo sapiens chromosome 8, GRCh38.p14 Primary Assembly\n",
      "NC_000009.12 Homo sapiens chromosome 9, GRCh38.p14 Primary Assembly\n",
      "NT_187372.1 Homo sapiens chromosome 9 unlocalized genomic scaffold, GRCh38.p14 Primary Assembly HSCHR9_UNLOCALIZED_CTG1\n",
      "NT_187373.1 Homo sapiens chromosome 9 unlocalized genomic scaffold, GRCh38.p14 Primary Assembly HSCHR9_UNLOCALIZED_CTG2\n",
      "NT_187374.1 Homo sapiens chromosome 9 unlocalized genomic scaffold, GRCh38.p14 Primary Assembly HSCHR9_UNLOCALIZED_CTG3\n",
      "NT_187375.1 Homo sapiens chromosome 9 unlocalized genomic scaffold, GRCh38.p14 Primary Assembly HSCHR9_UNLOCALIZED_CTG4\n",
      "NC_000010.11 Homo sapiens chromosome 10, GRCh38.p14 Primary Assembly\n",
      "NC_000011.10 Homo sapiens chromosome 11, GRCh38.p14 Primary Assembly\n"
     ]
    }
   ],
   "source": [
    "for genes in SeqIO.parse('GRCh38_latest_genomic.fna', 'fasta'):\n",
    "    print(genes.description)"
   ]
  },
  {
   "cell_type": "code",
   "execution_count": 12,
   "id": "a082733f-d66e-4614-b8c8-6400c4fceb32",
   "metadata": {},
   "outputs": [],
   "source": [
    "# first burrows wheeler transform code attempt\n",
    "\n",
    "import argparse\n",
    "from operator import itemgetter\n",
    "\n",
    "def bwt(s):\n",
    "    n = len(s)\n",
    "    m = sorted(s[i:n]+ s[0:i] for i in range(n))\n",
    "    I = m.index(s)\n",
    "    L = ''.join(q[-1] for q in m)\n",
    "    return (I, L)\n",
    "\n",
    "\n",
    "def ibwt(I, L):\n",
    "    n = len(L)\n",
    "    X = sorted([(i, x) for i, x in enumerate(L)], key=itemgetter(1))\n",
    "    \n",
    "    T = [None for i in range(n)]\n",
    "    for i, y in enumerate(X):\n",
    "        j, _ = y\n",
    "        T[j] = i\n",
    "        \n",
    "        Tx = [I]\n",
    "        for i in range(1, n):\n",
    "            Tx.append(T[Tx[i-1]])\n",
    "            \n",
    "        S = [L[i] for i in Tx]\n",
    "        S.reverse()\n",
    "        return ''.join(S)"
   ]
  },
  {
   "cell_type": "code",
   "execution_count": 13,
   "id": "b3a0d401-09d4-44f3-b72f-11d236a865da",
   "metadata": {},
   "outputs": [],
   "source": [
    "# not sure how to extract individual genes in Biopython"
   ]
  },
  {
   "cell_type": "code",
   "execution_count": 14,
   "id": "65a98acf-6f88-418d-b7f3-27c1c6698cc7",
   "metadata": {},
   "outputs": [],
   "source": [
    "# second bwt code attempt\n",
    "\n",
    "def bwt(s):\n",
    "    assert \"\\002\" not in s and \"\\003\" not in s, \"Input string cannot contain STX and ETX characters\"\n",
    "    s = \"\\002\" + s + \"\\003\"  # Add start and end of text marker\n",
    "    table = sorted(s[i:] + s[:i] for i in range(len(s)))  # Table of rotations of string\n",
    "    last_column = [row[-1:] for row in table]  # Last characters of each row\n",
    "    return \"\".join(last_column)  # Convert list of characters into string\n",
    "\n",
    "def ibwt(r):\n",
    "    \"\"\"Apply inverse Burrows-Wheeler transform.\"\"\"\n",
    "    table = [\"\"] * len(r)  # Make empty table\n",
    "    for i in range(len(r)):\n",
    "        table = sorted(r[i] + table[i] for i in range(len(r)))  # Add a column of r\n",
    "    s = [row for row in table if row.endswith(\"\\003\")][0]  # Find the correct row (ending in ETX)\n",
    "    return s.rstrip(\"\\003\").strip(\"\\002\")  # Get rid of start and end markers"
   ]
  },
  {
   "cell_type": "code",
   "execution_count": null,
   "id": "44950632-9360-44dc-93ea-59d5788739fb",
   "metadata": {},
   "outputs": [],
   "source": []
  }
 ],
 "metadata": {
  "kernelspec": {
   "display_name": "Python 3 (ipykernel)",
   "language": "python",
   "name": "python3"
  },
  "language_info": {
   "codemirror_mode": {
    "name": "ipython",
    "version": 3
   },
   "file_extension": ".py",
   "mimetype": "text/x-python",
   "name": "python",
   "nbconvert_exporter": "python",
   "pygments_lexer": "ipython3",
   "version": "3.10.8"
  }
 },
 "nbformat": 4,
 "nbformat_minor": 5
}
