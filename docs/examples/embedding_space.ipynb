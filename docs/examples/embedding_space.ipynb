{
 "cells": [
  {
   "cell_type": "code",
   "execution_count": 1,
   "metadata": {},
   "outputs": [],
   "source": [
    "from dna2vec.vector_store import VectorStore\n",
    "from pathlib import Path\n",
    "import os"
   ]
  },
  {
   "cell_type": "code",
   "execution_count": 2,
   "metadata": {},
   "outputs": [
    {
     "name": "stdout",
     "output_type": "stream",
     "text": [
      "/Users/au561649/Github/dna2vec/data/subsequences_sample.txt\n"
     ]
    }
   ],
   "source": [
    "project_repo = Path(os.getcwd()).parent.parent\n",
    "data = project_repo / \"data\" / \"subsequences_sample.txt\"\n",
    "print(data)\n",
    "# load sequences\n",
    "with open(data, \"r\") as f:\n",
    "    sequences = f.read().split(\"\\n\")"
   ]
  },
  {
   "cell_type": "code",
   "execution_count": 3,
   "metadata": {},
   "outputs": [],
   "source": [
    "vector_store = VectorStore()\n",
    "vector_store.add_sequences(sequences)"
   ]
  },
  {
   "cell_type": "code",
   "execution_count": 8,
   "metadata": {},
   "outputs": [
    {
     "data": {
      "text/html": [
       "<style>\n",
       "        .bk-notebook-logo {\n",
       "            display: block;\n",
       "            width: 20px;\n",
       "            height: 20px;\n",
       "            background-image: url(data:image/png;base64,iVBORw0KGgoAAAANSUhEUgAAABQAAAAUCAYAAACNiR0NAAAABHNCSVQICAgIfAhkiAAAAAlwSFlzAAALEgAACxIB0t1+/AAAABx0RVh0U29mdHdhcmUAQWRvYmUgRmlyZXdvcmtzIENTNui8sowAAAOkSURBVDiNjZRtaJVlGMd/1/08zzln5zjP1LWcU9N0NkN8m2CYjpgQYQXqSs0I84OLIC0hkEKoPtiH3gmKoiJDU7QpLgoLjLIQCpEsNJ1vqUOdO7ppbuec5+V+rj4ctwzd8IIbbi6u+8f1539dt3A78eXC7QizUF7gyV1fD1Yqg4JWz84yffhm0qkFqBogB9rM8tZdtwVsPUhWhGcFJngGeWrPzHm5oaMmkfEg1usvLFyc8jLRqDOMru7AyC8saQr7GG7f5fvDeH7Ej8CM66nIF+8yngt6HWaKh7k49Soy9nXurCi1o3qUbS3zWfrYeQDTB/Qj6kX6Ybhw4B+bOYoLKCC9H3Nu/leUTZ1JdRWkkn2ldcCamzrcf47KKXdAJllSlxAOkRgyHsGC/zRday5Qld9DyoM4/q/rUoy/CXh3jzOu3bHUVZeU+DEn8FInkPBFlu3+nW3Nw0mk6vCDiWg8CeJaxEwuHS3+z5RgY+YBR6V1Z1nxSOfoaPa4LASWxxdNp+VWTk7+4vzaou8v8PN+xo+KY2xsw6une2frhw05CTYOmQvsEhjhWjn0bmXPjpE1+kplmmkP3suftwTubK9Vq22qKmrBhpY4jvd5afdRA3wGjFAgcnTK2s4hY0/GPNIb0nErGMCRxWOOX64Z8RAC4oCXdklmEvcL8o0BfkNK4lUg9HTl+oPlQxdNo3Mg4Nv175e/1LDGzZen30MEjRUtmXSfiTVu1kK8W4txyV6BMKlbgk3lMwYCiusNy9fVfvvwMxv8Ynl6vxoByANLTWplvuj/nF9m2+PDtt1eiHPBr1oIfhCChQMBw6Aw0UulqTKZdfVvfG7VcfIqLG9bcldL/+pdWTLxLUy8Qq38heUIjh4XlzZxzQm19lLFlr8vdQ97rjZVOLf8nclzckbcD4wxXMidpX30sFd37Fv/GtwwhzhxGVAprjbg0gCAEeIgwCZyTV2Z1REEW8O4py0wsjeloKoMr6iCY6dP92H6Vw/oTyICIthibxjm/DfN9lVz8IqtqKYLUXfoKVMVQVVJOElGjrnnUt9T9wbgp8AyYKaGlqingHZU/uG2NTZSVqwHQTWkx9hxjkpWDaCg6Ckj5qebgBVbT3V3NNXMSiWSDdGV3hrtzla7J+duwPOToIg42ChPQOQjspnSlp1V+Gjdged7+8UN5CRAV7a5EdFNwCjEaBR27b3W890TE7g24NAP/mMDXRWrGoFPQI9ls/MWO2dWFAar/xcOIImbbpA3zgAAAABJRU5ErkJggg==);\n",
       "        }\n",
       "    </style>\n",
       "    <div>\n",
       "        <a href=\"https://bokeh.org\" target=\"_blank\" class=\"bk-notebook-logo\"></a>\n",
       "        <span id=\"p1369\">Loading BokehJS ...</span>\n",
       "    </div>\n"
      ]
     },
     "metadata": {},
     "output_type": "display_data"
    },
    {
     "data": {
      "application/javascript": "(function(root) {\n  function now() {\n    return new Date();\n  }\n\n  const force = true;\n\n  if (typeof root._bokeh_onload_callbacks === \"undefined\" || force === true) {\n    root._bokeh_onload_callbacks = [];\n    root._bokeh_is_loading = undefined;\n  }\n\nconst JS_MIME_TYPE = 'application/javascript';\n  const HTML_MIME_TYPE = 'text/html';\n  const EXEC_MIME_TYPE = 'application/vnd.bokehjs_exec.v0+json';\n  const CLASS_NAME = 'output_bokeh rendered_html';\n\n  /**\n   * Render data to the DOM node\n   */\n  function render(props, node) {\n    const script = document.createElement(\"script\");\n    node.appendChild(script);\n  }\n\n  /**\n   * Handle when an output is cleared or removed\n   */\n  function handleClearOutput(event, handle) {\n    const cell = handle.cell;\n\n    const id = cell.output_area._bokeh_element_id;\n    const server_id = cell.output_area._bokeh_server_id;\n    // Clean up Bokeh references\n    if (id != null && id in Bokeh.index) {\n      Bokeh.index[id].model.document.clear();\n      delete Bokeh.index[id];\n    }\n\n    if (server_id !== undefined) {\n      // Clean up Bokeh references\n      const cmd_clean = \"from bokeh.io.state import curstate; print(curstate().uuid_to_server['\" + server_id + \"'].get_sessions()[0].document.roots[0]._id)\";\n      cell.notebook.kernel.execute(cmd_clean, {\n        iopub: {\n          output: function(msg) {\n            const id = msg.content.text.trim();\n            if (id in Bokeh.index) {\n              Bokeh.index[id].model.document.clear();\n              delete Bokeh.index[id];\n            }\n          }\n        }\n      });\n      // Destroy server and session\n      const cmd_destroy = \"import bokeh.io.notebook as ion; ion.destroy_server('\" + server_id + \"')\";\n      cell.notebook.kernel.execute(cmd_destroy);\n    }\n  }\n\n  /**\n   * Handle when a new output is added\n   */\n  function handleAddOutput(event, handle) {\n    const output_area = handle.output_area;\n    const output = handle.output;\n\n    // limit handleAddOutput to display_data with EXEC_MIME_TYPE content only\n    if ((output.output_type != \"display_data\") || (!Object.prototype.hasOwnProperty.call(output.data, EXEC_MIME_TYPE))) {\n      return\n    }\n\n    const toinsert = output_area.element.find(\".\" + CLASS_NAME.split(' ')[0]);\n\n    if (output.metadata[EXEC_MIME_TYPE][\"id\"] !== undefined) {\n      toinsert[toinsert.length - 1].firstChild.textContent = output.data[JS_MIME_TYPE];\n      // store reference to embed id on output_area\n      output_area._bokeh_element_id = output.metadata[EXEC_MIME_TYPE][\"id\"];\n    }\n    if (output.metadata[EXEC_MIME_TYPE][\"server_id\"] !== undefined) {\n      const bk_div = document.createElement(\"div\");\n      bk_div.innerHTML = output.data[HTML_MIME_TYPE];\n      const script_attrs = bk_div.children[0].attributes;\n      for (let i = 0; i < script_attrs.length; i++) {\n        toinsert[toinsert.length - 1].firstChild.setAttribute(script_attrs[i].name, script_attrs[i].value);\n        toinsert[toinsert.length - 1].firstChild.textContent = bk_div.children[0].textContent\n      }\n      // store reference to server id on output_area\n      output_area._bokeh_server_id = output.metadata[EXEC_MIME_TYPE][\"server_id\"];\n    }\n  }\n\n  function register_renderer(events, OutputArea) {\n\n    function append_mime(data, metadata, element) {\n      // create a DOM node to render to\n      const toinsert = this.create_output_subarea(\n        metadata,\n        CLASS_NAME,\n        EXEC_MIME_TYPE\n      );\n      this.keyboard_manager.register_events(toinsert);\n      // Render to node\n      const props = {data: data, metadata: metadata[EXEC_MIME_TYPE]};\n      render(props, toinsert[toinsert.length - 1]);\n      element.append(toinsert);\n      return toinsert\n    }\n\n    /* Handle when an output is cleared or removed */\n    events.on('clear_output.CodeCell', handleClearOutput);\n    events.on('delete.Cell', handleClearOutput);\n\n    /* Handle when a new output is added */\n    events.on('output_added.OutputArea', handleAddOutput);\n\n    /**\n     * Register the mime type and append_mime function with output_area\n     */\n    OutputArea.prototype.register_mime_type(EXEC_MIME_TYPE, append_mime, {\n      /* Is output safe? */\n      safe: true,\n      /* Index of renderer in `output_area.display_order` */\n      index: 0\n    });\n  }\n\n  // register the mime type if in Jupyter Notebook environment and previously unregistered\n  if (root.Jupyter !== undefined) {\n    const events = require('base/js/events');\n    const OutputArea = require('notebook/js/outputarea').OutputArea;\n\n    if (OutputArea.prototype.mime_types().indexOf(EXEC_MIME_TYPE) == -1) {\n      register_renderer(events, OutputArea);\n    }\n  }\n  if (typeof (root._bokeh_timeout) === \"undefined\" || force === true) {\n    root._bokeh_timeout = Date.now() + 5000;\n    root._bokeh_failed_load = false;\n  }\n\n  const NB_LOAD_WARNING = {'data': {'text/html':\n     \"<div style='background-color: #fdd'>\\n\"+\n     \"<p>\\n\"+\n     \"BokehJS does not appear to have successfully loaded. If loading BokehJS from CDN, this \\n\"+\n     \"may be due to a slow or bad network connection. Possible fixes:\\n\"+\n     \"</p>\\n\"+\n     \"<ul>\\n\"+\n     \"<li>re-rerun `output_notebook()` to attempt to load from CDN again, or</li>\\n\"+\n     \"<li>use INLINE resources instead, as so:</li>\\n\"+\n     \"</ul>\\n\"+\n     \"<code>\\n\"+\n     \"from bokeh.resources import INLINE\\n\"+\n     \"output_notebook(resources=INLINE)\\n\"+\n     \"</code>\\n\"+\n     \"</div>\"}};\n\n  function display_loaded() {\n    const el = document.getElementById(\"p1369\");\n    if (el != null) {\n      el.textContent = \"BokehJS is loading...\";\n    }\n    if (root.Bokeh !== undefined) {\n      if (el != null) {\n        el.textContent = \"BokehJS \" + root.Bokeh.version + \" successfully loaded.\";\n      }\n    } else if (Date.now() < root._bokeh_timeout) {\n      setTimeout(display_loaded, 100)\n    }\n  }\n\n  function run_callbacks() {\n    try {\n      root._bokeh_onload_callbacks.forEach(function(callback) {\n        if (callback != null)\n          callback();\n      });\n    } finally {\n      delete root._bokeh_onload_callbacks\n    }\n    console.debug(\"Bokeh: all callbacks have finished\");\n  }\n\n  function load_libs(css_urls, js_urls, callback) {\n    if (css_urls == null) css_urls = [];\n    if (js_urls == null) js_urls = [];\n\n    root._bokeh_onload_callbacks.push(callback);\n    if (root._bokeh_is_loading > 0) {\n      console.debug(\"Bokeh: BokehJS is being loaded, scheduling callback at\", now());\n      return null;\n    }\n    if (js_urls == null || js_urls.length === 0) {\n      run_callbacks();\n      return null;\n    }\n    console.debug(\"Bokeh: BokehJS not loaded, scheduling load and callback at\", now());\n    root._bokeh_is_loading = css_urls.length + js_urls.length;\n\n    function on_load() {\n      root._bokeh_is_loading--;\n      if (root._bokeh_is_loading === 0) {\n        console.debug(\"Bokeh: all BokehJS libraries/stylesheets loaded\");\n        run_callbacks()\n      }\n    }\n\n    function on_error(url) {\n      console.error(\"failed to load \" + url);\n    }\n\n    for (let i = 0; i < css_urls.length; i++) {\n      const url = css_urls[i];\n      const element = document.createElement(\"link\");\n      element.onload = on_load;\n      element.onerror = on_error.bind(null, url);\n      element.rel = \"stylesheet\";\n      element.type = \"text/css\";\n      element.href = url;\n      console.debug(\"Bokeh: injecting link tag for BokehJS stylesheet: \", url);\n      document.body.appendChild(element);\n    }\n\n    for (let i = 0; i < js_urls.length; i++) {\n      const url = js_urls[i];\n      const element = document.createElement('script');\n      element.onload = on_load;\n      element.onerror = on_error.bind(null, url);\n      element.async = false;\n      element.src = url;\n      console.debug(\"Bokeh: injecting script tag for BokehJS library: \", url);\n      document.head.appendChild(element);\n    }\n  };\n\n  function inject_raw_css(css) {\n    const element = document.createElement(\"style\");\n    element.appendChild(document.createTextNode(css));\n    document.body.appendChild(element);\n  }\n\n  const js_urls = [\"https://cdn.bokeh.org/bokeh/release/bokeh-3.1.0.min.js\", \"https://cdn.bokeh.org/bokeh/release/bokeh-gl-3.1.0.min.js\", \"https://cdn.bokeh.org/bokeh/release/bokeh-widgets-3.1.0.min.js\", \"https://cdn.bokeh.org/bokeh/release/bokeh-tables-3.1.0.min.js\", \"https://cdn.bokeh.org/bokeh/release/bokeh-mathjax-3.1.0.min.js\"];\n  const css_urls = [];\n\n  const inline_js = [    function(Bokeh) {\n      Bokeh.set_log_level(\"info\");\n    },\nfunction(Bokeh) {\n    }\n  ];\n\n  function run_inline_js() {\n    if (root.Bokeh !== undefined || force === true) {\n          for (let i = 0; i < inline_js.length; i++) {\n      inline_js[i].call(root, root.Bokeh);\n    }\nif (force === true) {\n        display_loaded();\n      }} else if (Date.now() < root._bokeh_timeout) {\n      setTimeout(run_inline_js, 100);\n    } else if (!root._bokeh_failed_load) {\n      console.log(\"Bokeh: BokehJS failed to load within specified timeout.\");\n      root._bokeh_failed_load = true;\n    } else if (force !== true) {\n      const cell = $(document.getElementById(\"p1369\")).parents('.cell').data().cell;\n      cell.output_area.append_execute_result(NB_LOAD_WARNING)\n    }\n  }\n\n  if (root._bokeh_is_loading === 0) {\n    console.debug(\"Bokeh: BokehJS loaded, going straight to plotting\");\n    run_inline_js();\n  } else {\n    load_libs(css_urls, js_urls, function() {\n      console.debug(\"Bokeh: BokehJS plotting callback run at\", now());\n      run_inline_js();\n    });\n  }\n}(window));",
      "application/vnd.bokehjs_load.v0+json": ""
     },
     "metadata": {},
     "output_type": "display_data"
    },
    {
     "name": "stderr",
     "output_type": "stream",
     "text": [
      "BokehUserWarning: ColumnDataSource's columns must be of the same length. Current lengths: ('desc', 501), ('x', 500), ('y', 500)\n"
     ]
    },
    {
     "data": {
      "text/html": [
       "\n",
       "  <div id=\"fee3fe27-668a-49fb-bd62-1d7c8982509a\" data-root-id=\"p1373\" style=\"display: contents;\"></div>\n"
      ]
     },
     "metadata": {},
     "output_type": "display_data"
    },
    {
     "data": {
      "application/javascript": "(function(root) {\n  function embed_document(root) {\n  const docs_json = {\"a4b45c3e-2410-4a1a-bbe5-e3c99ce83972\":{\"version\":\"3.1.0\",\"title\":\"Bokeh Application\",\"defs\":[],\"roots\":[{\"type\":\"object\",\"name\":\"Figure\",\"id\":\"p1373\",\"attributes\":{\"width\":400,\"height\":400,\"x_range\":{\"type\":\"object\",\"name\":\"DataRange1d\",\"id\":\"p1374\"},\"y_range\":{\"type\":\"object\",\"name\":\"DataRange1d\",\"id\":\"p1375\"},\"x_scale\":{\"type\":\"object\",\"name\":\"LinearScale\",\"id\":\"p1387\"},\"y_scale\":{\"type\":\"object\",\"name\":\"LinearScale\",\"id\":\"p1389\"},\"title\":{\"type\":\"object\",\"name\":\"Title\",\"id\":\"p1376\",\"attributes\":{\"text\":\"UMAP projection of the DNA sequences\"}},\"renderers\":[{\"type\":\"object\",\"name\":\"GlyphRenderer\",\"id\":\"p1434\",\"attributes\":{\"data_source\":{\"type\":\"object\",\"name\":\"ColumnDataSource\",\"id\":\"p1370\",\"attributes\":{\"selected\":{\"type\":\"object\",\"name\":\"Selection\",\"id\":\"p1372\",\"attributes\":{\"indices\":[],\"line_indices\":[]}},\"selection_policy\":{\"type\":\"object\",\"name\":\"UnionRenderers\",\"id\":\"p1371\"},\"data\":{\"type\":\"map\",\"entries\":[[\"x\",{\"type\":\"ndarray\",\"array\":{\"type\":\"bytes\",\"data\":\"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\"},\"shape\":[500],\"dtype\":\"float32\",\"order\":\"little\"}],[\"y\",{\"type\":\"ndarray\",\"array\":{\"type\":\"bytes\",\"data\":\"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\"},\"shape\":[500],\"dtype\":\"float32\",\"order\":\"little\"}],[\"desc\",[\"GCAACTCCAAA\",\"CTTAAAATAAAATCCCCAC\",\"CTAACAAAAAAA\",\"ACCTCCATCGCTAACCCCACTAAAA\",\"AACCTGCCCCTACTCCTCCTAGA\",\"AATCAACGCCCATAA\",\"CCCCATTCTCCTCCTATCCCTCAACCCC\",\"AGGCATAA\",\"CTAACCTCCTCGGACTCCTGCCTCACTC\",\"TGAATATTGTACGGTACCATAAATAC\",\"AAAAAA\",\"CCTCAACTATCACACA\",\"CTTAATTATA\",\"CACGTCATTATTGGCTCAACTTTCC\",\"ATTAACAACATAAAAC\",\"CATCGGGCGAGGCCTATATTACGGAT\",\"TGTACTATCCCTATGA\",\"ATTCTACTGACTATCCTAGAA\",\"GGGCCTAGCCCTAC\",\"ATTATGATAATCATATTTAC\",\"TCGTAGTAACAGCCATTCT\",\"CACACCTCATATCCTCCCTACTA\",\"CTTCGAAGCCGCCGCCTGATACTGGCA\",\"GCAAGCCTCGCTAACCTCGCCTTACCCCC\",\"CTGACACTG\",\"ACCTCCCCACC\",\"ATCACTCGAGACG\",\"TAATTATAACATTCACAGCCAC\",\"GCCACTTATCCAGTGAACCACTATCACGA\",\"CTAAGATTAAAAATGCCC\",\"TAGTACATAAAAA\",\"ACAAAGCATAATATTTCGCCCACTA\",\"CAAATCACCACAGGACTATTCCTA\",\"CTCCTCATTCTAACCTGAA\",\"CATCAACTGCA\",\"TATATAAACTCA\",\"CTTCACG\",\"ATAGCTACTCTCATAACCCTC\",\"ACTACTTCTCCATAATATTCAT\",\"CACGGGCT\",\"TTACACTCAC\",\"CCCACAACAATATT\",\"ACGGCTACATAGAAAAATCCACCCCT\",\"TACCCTAGCCAACCCCTTAAAC\",\"TACACCAACCACCCAA\",\"CCACTCCCTCTTAG\",\"ATTACGGA\",\"CTACATATTTACCACAACAC\",\"CTAGGATACCAA\",\"CCGCCGCCTGATACTGGCATTTTGTAG\",\"ACTTCAGGGTCATAAAGCCTAAATAGCCC\",\"TAGCCCACACGT\",\"TTCAACCAATAGCCCTGGCC\",\"CTCTATTTTACCCTCCTAC\",\"ATCATAGAATTCTCACTGTGATATATAA\",\"TTTCTACTCCAAAGACCACATCATCGAAA\",\"CTATCTCCCTAATTGAA\",\"CTCGAACTGACACTGAGCC\",\"ATTCT\",\"GCACATTTTATTTCTCCAACATACTCGG\",\"AACTTAATATGACTAG\",\"AATACTCAAATGGGCCTGTCCTTGTAGT\",\"GATCCTCCCGAATCA\",\"TACTCATGCACCTAATTGGAA\",\"CCAAACT\",\"TCATC\",\"TTACCGAGA\",\"AGTAGCATCCG\",\"CTGCCTAGCAAAC\",\"CATCCCCTTAT\",\"CACATCATCGAA\",\"TAGCAA\",\"CGTAGCCTTCTCCACTTCAA\",\"ATCCATTGGTCTTAGGCCCCAAAAATT\",\"GATACGGGATAATCCTATTTATTACCTC\",\"GTAAAGA\",\"GCCCATGTCGAA\",\"TTAAACG\",\"AATCACC\",\"CAACGCCCATAATCATACA\",\"TTCCCCA\",\"CTTTCATGG\",\"AAGCCCGAATGATATTTCCTATTCGCC\",\"ACCACTCCAGCCTAGCCC\",\"CTTATGAGCGGGC\",\"AACCCCACAAACCCCATTA\",\"CAAACAACAAAGCA\",\"ATCTGGTTCCTACTTCA\",\"GTACCACCCAA\",\"CCGCATCCCCCTTCCAAACAACAA\",\"ACCGAATT\",\"AATCAACCC\",\"AACACCCCTCC\",\"TACTGGGAGAACTCTCTGT\",\"TTATTGCA\",\"TGGCCTATGAG\",\"GGACTTCAAACTCTACTCCCACT\",\"TAGTAA\",\"TACCTTCTTATTATTTG\",\"TCTCATAATCGCCCACGGGCTTACATCCT\",\"CAAACATATC\",\"TTTTAAAGGATAACAG\",\"CCACTCCCTCTTAGCCAATATTGT\",\"TAACCTGCCACTAAT\",\"GTACATAAAAACCCAATCCACATCAAA\",\"TTACAGGACTCAACATACTAGTCACAGCC\",\"ATAAC\",\"GGTTTGACTATTTCTGTATGTCTCCATCT\",\"TATCAAACTCCTGAGCCAACAACTTAATA\",\"AAAAAACTATTAAACCC\",\"CCCAATC\",\"ACTAATCAAC\",\"CCCACCCCAGTCT\",\"GGGGAAGCA\",\"TAGACCTAACCTGACTAGAAAAG\",\"TGTGATTTCACTTCCA\",\"CCCATTCTCCTCCTATCCC\",\"ACAGGACTCAACATACTAGTCACAGCCC\",\"ATAAAATCCCCACTATGCACATTT\",\"AGTTCAATGAATCTGAGGAGG\",\"GCATTTTGTAGATGTGGTTTGACT\",\"CTATCCCTCAA\",\"TAAACCG\",\"ATAACCATG\",\"CTCAAGGACTTCAAACTCTACTCCCACT\",\"TAACAACCTATTCCAACTGTT\",\"CGCCTC\",\"TTTTTCTGAGCCTTTTACCACTCCAG\",\"AATAAATTA\",\"AGGGG\",\"AACACTCACCAAGACCTCAACCC\",\"GTCACT\",\"ATGTCGAAGCCCCCAT\",\"AATATATACA\",\"TCTCATCGCTACCTCCCTGACAAGCGC\",\"TCCCCTTATGAGCGGGCACAGTGATTA\",\"AACCGTATCGGCGATATCGGTTTCATCC\",\"CCAAGGCCACCACACACCACC\",\"CCTGACTCCT\",\"AACAAGCTC\",\"GGCCAT\",\"AGGAATAATACTATCGCTGTTCATTA\",\"CCGCCTTTTCATCAATCGCC\",\"CGTTC\",\"TATCATCACC\",\"GCCATGT\",\"AAACTTAC\",\"TCAACCC\",\"CGCCTTACCCCCCACTATTAACC\",\"CATAAATATTA\",\"TGCATACTCTTCA\",\"CACTCACCAAGA\",\"ATCACGAAAAA\",\"CCACAACCTTAA\",\"GACAGTCCCACCCTC\",\"TTCATCAATCGCCCACATCACT\",\"TCCTACCTCCATCG\",\"ATAACCTCCCC\",\"CATAGGCTATGTCCTCCCGT\",\"CTAATAGAAAACAACCGAAA\",\"CTATCCATTGGTCTTAGGCCCCAA\",\"GCCTAGCCCTACTAGTCTCAA\",\"CACCT\",\"ACTCTGTTCGCAGCAG\",\"CTACCCTAG\",\"CCTACTAGTCTCAATCTCCAACACATA\",\"TACTCCCACTAAT\",\"CTAACAAACTAGGAGGCGTCCTT\",\"TTTTTTGTAGCCACAGGCTT\",\"TCATCAATCGCCCACATCACTCGA\",\"GATGACTTCTAGCAAGCCTCGCTAAC\",\"CCATC\",\"CTGTACCCACGCCTTCTTCAAAGC\",\"TATACACCAACAAACAATGTT\",\"CATTCAAGCA\",\"ATGCCCTAGCCCACTTCTTACCAC\",\"AGCTTTT\",\"ACTAGTATCCTTAATCATTTTTATTGCCA\",\"CCCACAAACCCCATTACTAAACCCACACT\",\"AAACAAAGCATACATCATTATT\",\"ACTCCACTCAAGCACTAT\",\"AACCCC\",\"CCCCCAT\",\"CCTAATTACCATA\",\"CCCCA\",\"AGCAG\",\"GCCTGAGCCCTATCTATTACTCTCA\",\"ACGAGTGCGGCTTCGACCCTATAT\",\"TTTATTTCTCCA\",\"AGAAAAT\",\"AGATA\",\"CACTCCTAAACACATC\",\"CTGCGCCCTTACACAAAATGACA\",\"TCAAGCACTGCTTATTACAATTTTACT\",\"CTTATTAATCATCATCCT\",\"TTCTTTATCT\",\"CATAATGACCCACCAAT\",\"AAAATTCAGAATAATAACACACCCGA\",\"CTATGT\",\"CTCTA\",\"CTAAACACATCCGTATTAC\",\"ACTCT\",\"ACAAGATATTCGAAAAATAG\",\"CAATCGGC\",\"CCATTTACCGTACATAGCACA\",\"CCATTAGCACCCAAAGCTAAG\",\"CCCCATTCTCCTCCTATC\",\"CCACAGGACT\",\"TACAATTTTACTG\",\"CACCCTCATGTTCATACACCTATCCCCC\",\"CCATACTAGTTATTATCGAAA\",\"GCCCATGACCCCTAACAGGGGCCCT\",\"TAGGCCT\",\"ATCTA\",\"TTGCATACTCTTCAATCAGCCACAT\",\"CACGTCATTATTGGCTCAACTTTCCTC\",\"CAACTAA\",\"TCATATTTACCAAATGCCCCTC\",\"AAATAAATTAAAAA\",\"ACCCACCAATCACATGCCTATCATAT\",\"CGCTCAC\",\"CCTAGACCAAGAAGTTAT\",\"GTACATTACTGCCAGCCACCAT\",\"CCTTGTACTATCCCTATGA\",\"AGTAACAGCCATTCTCATCCAAACCCC\",\"AAAAGAGTAATAAA\",\"CCACTAATAGCTTTTTGATGA\",\"CAAGC\",\"CTCCTCCTAGCAGCA\",\"AACTATCTCCCTAATTGAAA\",\"GTACTTGCCGCAGT\",\"TACATAA\",\"ACAGAACTAATCATATTTTATATCTTCTT\",\"GAGGCGTCCTTGCCCTA\",\"GGCGTAGGAAT\",\"GTTCATCGGCTGAGAGG\",\"CAACA\",\"CAGAAAATAGCCCACTAA\",\"GTATTACTCGCATCAGGA\",\"TAGACAGTCCCACCCTCACACGA\",\"TACCTAACCAACAAACTTA\",\"ACTCTC\",\"CACTCCCTCTTAGCCAATATTGTGCCT\",\"TCCTTCTTGCTCATCAGTTGATGATA\",\"ACCCTAACAAAAAAAACTCATACCCCCAT\",\"ATCCTCCTGCTTGCAACTATAGCAAC\",\"ATCGGCATTATCCTCCTGCTTGCAAC\",\"GACTACTCAAAACCATACCTCTCA\",\"ATTCATGTGC\",\"TACCATCATTGGACAAGTAGCATCCG\",\"GCTACCCTT\",\"CGCACTCACAGT\",\"GCACAAGAGTGCTACT\",\"CAAACTTAA\",\"AAAGACCA\",\"ATCAATCACCTGAGCTC\",\"ACATAAAAACCCAATCCACATCAA\",\"CAATAATCCCCATCCTCCA\",\"ATTGACTCCTAGCCGCAGACCTCCTCA\",\"TTACTTCTCTTCCTTCTCTCCTTA\",\"TCTTCTTACTCATCCGC\",\"CTTATTAATCATCA\",\"GAACAAGATATTCGAAAAATAGG\",\"TCAGAAGTTTTTTTCTTCGCAGGATTTT\",\"GTGCAACTCCAAATAAAAGTAAT\",\"TACCGTTAACTTCCAATTAACTAGTTT\",\"CAAACCTAC\",\"CCCATAAATAGGAGAAGGCTTAGAA\",\"AACATTTTTTGTAGCCACAGGCTTCCA\",\"GGAATAATACTAT\",\"AACCTGCCACTAATAGTTATGTCAT\",\"ACATC\",\"TAACCA\",\"ACACATAATGACCCACCAATCACATG\",\"TGACATCAAAAAAATCGTAGCCTTCTCCA\",\"GGTCAACCTCGCTTCCC\",\"CCTATCTAGGCCTTCTTACG\",\"CACTTCAACCT\",\"CGCCTACAC\",\"CCTCTCTCAAGGACTTCAAACTCTACT\",\"GTTTAACCAAAACATCAGAT\",\"GTAGTATAA\",\"CAACACAATGGGGCTCACTCACCCACCAC\",\"CTTTACATCCAAACATCA\",\"TACGAACGC\",\"CAATTATATTACTACCACTGA\",\"CCATTAAACGCCTGGCAG\",\"ACTCTGTTCGCAGCAGTCTGCGCC\",\"GACCTAAAATCGCTCA\",\"GCCTTCATAGGCTATGTCCT\",\"TACCCCTACCA\",\"ATTGA\",\"TCTCCAACA\",\"ACCCATATAACCTC\",\"TACACCAGT\",\"AACTCT\",\"ACATCAAGCCCGAA\",\"CCACACTTATCCCCACCTTGGCT\",\"TCTAA\",\"ACTTCAAGT\",\"TATGGTATAATACGCCTCAC\",\"CCCATATAACCTCCCCCAAA\",\"AAAAAT\",\"ATCCCTCTTATTAATCATCATCCT\",\"CACTATTCTCACCAGA\",\"AATCTCC\",\"AATTC\",\"TAAATATAGTTTAACCAAAACAT\",\"AACAATTTC\",\"ATAGGGG\",\"GCATC\",\"TTTACTGGGTCTCT\",\"CTCCACCCCTGACTCC\",\"TTCCAACTGTTCATCGG\",\"GTAGCATTGTTCGTTACA\",\"GAGAAAGCACATACCAAGGCCAC\",\"CCCATGT\",\"GCCAACACAGCAGCCATTCAA\",\"TCCGATAAAATC\",\"GCCCTCCTTTTACC\",\"ATTTTT\",\"ATTGTTCGTTACA\",\"TTACCTCA\",\"TAACCCCACTAAAACACTCACCAAG\",\"TCCTCTCTCAAGGACTT\",\"CTATCACACATCAACTGCAACTCCAAAG\",\"ATTTACCACAACACAATGGGGCTCACTCA\",\"TCCACTCCATAACGCTCCTCATACTAGGC\",\"CCCCATTACTAAAC\",\"ATCGCTCATTGCA\",\"ACATCTG\",\"ACTAATC\",\"GGAAGCCT\",\"ATTATATTACTACCACTGACA\",\"TCTTCCTTCTCTCCTTAATGACATTAAC\",\"AATATTCAT\",\"TTAACCCTAACAAAAAAAACT\",\"ACCTGACTCCTACCCCT\",\"CTATGAGGCATAATTATAACAAGCTCCAT\",\"CCGACCACACCGC\",\"CCATAATATTCATCCCTGTAG\",\"AACCCACACTCAACAGAAACAAAG\",\"ATAGTACCGTTAACTTCCAATTAACTAGT\",\"CTAGGCCTACTAACCAA\",\"ACGTAAATTATGGCTGAATCATC\",\"CATGCACC\",\"ACGCCCGAGCAGA\",\"CACCTTGGCTATC\",\"GAAGCCCCCATCGCTGGG\",\"CCTGACAAGCGCCTATAGCACTCG\",\"ACTCCTGCCTCACTCATTT\",\"TCATAATCCTCTCTCAAGGACTTCA\",\"CTAGCAG\",\"CCGCAGACCTCCTCATTCTAACCTGAATC\",\"CACCCTTAACAGTACATAGTACATA\",\"CTTACCCCCCACTATTAACCTACTG\",\"CACTCACAACACCCTAGGCT\",\"CACTGACATGA\",\"CAGCCCTCGCTGTCACTTTCCTAGG\",\"ATTACAAACTT\",\"TTAACTCCA\",\"AATGATGGCGCGATGTAACACGAGAAA\",\"ACTTCTCTTCCTTCT\",\"TAGGAATCACCTCCCATTC\",\"GGGCCTGTCCTTG\",\"TCGCCCACTAAGCCAA\",\"ACCCTATATC\",\"CTCAACCCCTGACCCCCA\",\"ACTCGAGACGTA\",\"GCCACATAGCCCT\",\"CGACCC\",\"TACACCAAC\",\"CACCCTAACCCTGACTTCCCTAA\",\"ACTAGTTTTGACAACATTCA\",\"ATAGT\",\"TTATGTCATCCCTCTTATTAATCA\",\"CTAATCCAAGC\",\"TTTTTGTAGCCACAGGC\",\"CATAATCC\",\"TCAATGAATCTGAGGAGGCTACT\",\"ACAATCCCCTATCTAG\",\"CCAACACAGCA\",\"AACCCCACAAACCC\",\"GTAGGAATTATATCCTTCTTGCT\",\"ACACTCC\",\"TCCTCACAGGTTTCTAC\",\"AGTCCCACCCTCACACGATTCTTT\",\"CTATTACTCTCA\",\"GCTACTCTCATAA\",\"GGGCC\",\"TAGGCTATGTCCTCCCG\",\"ATCTGCTTCATCCGCCAACTAATATTTCA\",\"TCAACCCTCAACTATCACACA\",\"CACCCCGCTAAATCCCCTAGAAGTCCCA\",\"AATCCCCACT\",\"CTAAACCTAC\",\"TACTCAAAACCATACC\",\"TATACTAGCATTTACCA\",\"ATACTCGGATTCTACCCTA\",\"CAAGCTCCATCTGCCTACGA\",\"AGCCCTTCTAAACGCTAATCCAAGC\",\"CAGGATACT\",\"CCCTGAC\",\"CCAAAACATCAGATTGTGAATCTG\",\"GCATGATGAAACTTCGGCTCAC\",\"ACCCACCACATTA\",\"TCCAACATACTCGGATTC\",\"TGACA\",\"CCTATACTCCCTCTACATATTTACCA\",\"TCTAATTCTACTGACTATCC\",\"TGAATCGGAGGACAACCAGTAAGCTACCC\",\"CTTTTAGTATAAATAG\",\"CCTGGCAGCCGGAAGCCTAT\",\"ATTCTCATCC\",\"ATTTCACTTCCACTCCATAACGCTCCTC\",\"TTCCAAACAACAATCCCCCTCTACC\",\"GCCAACAC\",\"TTACGGACTCCA\",\"AAGCCTCTACCTGCACGACAAC\",\"AGGAATTAT\",\"ACAAAAAA\",\"CTCATTCTAACCTGAATCGGAGGACA\",\"TTCTTACGAGCCAAAACCTGC\",\"CCTAA\",\"GGCTATCATCACCCGATGAGGCAA\",\"GCATCACCCCGCTAAATCCC\",\"TCTTCTTAGTAGCTATT\",\"CACAGCC\",\"TTCACCCACA\",\"GCCCTAGCCCACTTCTTACCACA\",\"ATTTACATA\",\"GAATCTGAGGAGGCTACTCAGTAGACAGT\",\"CCCCCTGACAAAAC\",\"AGTATTGACTCACCCATCAACA\",\"CCCTTCCAAACAACAAT\",\"TCTAATAGAAAACAACCGAAACCAAAT\",\"CTTAC\",\"CAACA\",\"ACGTAAATTATGGCTGAAT\",\"TGACAAGCGCCTATA\",\"CCCTAAGCTTCAAACTAGACTACTTCTCC\",\"TCAACGCCCATAATCATACAA\",\"TTTAC\",\"ATACACCAGTCTT\",\"AATTG\",\"ACTAGGAGGCGTCCTTGCCC\",\"CCTTACACAA\",\"ACTTATGACTCCCTAAAGCCC\",\"CCCATTACT\",\"TTACTAC\",\"CCCTTTTACCATCATTGGACAAGTAGC\",\"TTTTATAGTAAAGATACCTCTTTAC\",\"CCCACTAGGATACC\",\"CAACATACTCGGATTCTACCCTA\",\"CTGTCCTTGTAGTATAAACTAATAC\",\"TAAACCCACACTC\",\"TCCTT\",\"ACACTAACCATATACCA\",\"AGTAACTA\",\"TCTTC\",\"TACCAAATGCCC\",\"ACACCC\",\"ATAAAATTCTTC\",\"TTAGGC\",\"GGCCACCACACACCACCTGTCCAAAA\",\"AATCAGCCCAATTAGGTCTCCA\",\"TCTAT\",\"ACCTACTCATGCACCT\",\"ACAAACTTACTATCCGCCATCCCATACAT\",\"CGCAGTACTCTTAAAACTAG\",\"ACTAAGCCAATCACTTTAT\",\"CAAACATCACTTTGGCTTC\",\"GTTACATGGTCCATCATAGAATTCT\",\"CTAAAA\",\"TACTACCACTGACATGACTTTCC\",\"TTCAGGGTCA\",\"CGATCC\",\"ACCACAGGACTATTCCTAGCCA\",\"CAATTCTCCGATCCGTCCCTAA\",\"CATCCTAGCAATAATCCCC\",\"ATCACCACTCTGTTCGCAGCAGT\",\"ATCTAT\",\"TTATCCTACACTCCAACTCATGAGACCCA\",\"AACCA\",\"CCCGCATCCCCCTTCCAAA\",\"ACTAATAGCTTTTTGATGACTTCTAGC\",\"CTAATCGTCCCAACAATTATATT\",\"AAACATATC\",\"CCTCGGAC\",\"GACATCATTACCGGGTTTTCCTCTTGTA\",\"AGGCGGCTATGGTA\",\"ACCCCCTGAAGCTTCACCGGCGCA\",\"CCCCTACTC\",\"TGAAACTTCG\",\"CCCTTC\",\"GAATTATATCCTTCT\",\"AGTTCTTCAAATATCTACTC\",\"TCCTAGCCATGCACTACTCACCA\",\"GGGGTAGCTAAAGTGAACTGTATCCGACA\",\"CTATCCATCCTCATCCTAGCAATAATC\",\"\"]]]}}},\"view\":{\"type\":\"object\",\"name\":\"CDSView\",\"id\":\"p1435\",\"attributes\":{\"filter\":{\"type\":\"object\",\"name\":\"AllIndices\",\"id\":\"p1436\"}}},\"glyph\":{\"type\":\"object\",\"name\":\"Scatter\",\"id\":\"p1431\",\"attributes\":{\"x\":{\"type\":\"field\",\"field\":\"x\"},\"y\":{\"type\":\"field\",\"field\":\"y\"},\"line_color\":{\"type\":\"value\",\"value\":\"#1f77b4\"},\"fill_color\":{\"type\":\"value\",\"value\":\"#1f77b4\"}}},\"nonselection_glyph\":{\"type\":\"object\",\"name\":\"Scatter\",\"id\":\"p1432\",\"attributes\":{\"x\":{\"type\":\"field\",\"field\":\"x\"},\"y\":{\"type\":\"field\",\"field\":\"y\"},\"line_color\":{\"type\":\"value\",\"value\":\"#1f77b4\"},\"line_alpha\":{\"type\":\"value\",\"value\":0.1},\"fill_color\":{\"type\":\"value\",\"value\":\"#1f77b4\"},\"fill_alpha\":{\"type\":\"value\",\"value\":0.1},\"hatch_alpha\":{\"type\":\"value\",\"value\":0.1}}},\"muted_glyph\":{\"type\":\"object\",\"name\":\"Scatter\",\"id\":\"p1433\",\"attributes\":{\"x\":{\"type\":\"field\",\"field\":\"x\"},\"y\":{\"type\":\"field\",\"field\":\"y\"},\"line_color\":{\"type\":\"value\",\"value\":\"#1f77b4\"},\"line_alpha\":{\"type\":\"value\",\"value\":0.2},\"fill_color\":{\"type\":\"value\",\"value\":\"#1f77b4\"},\"fill_alpha\":{\"type\":\"value\",\"value\":0.2},\"hatch_alpha\":{\"type\":\"value\",\"value\":0.2}}}}}],\"toolbar\":{\"type\":\"object\",\"name\":\"Toolbar\",\"id\":\"p1378\",\"attributes\":{\"tools\":[{\"type\":\"object\",\"name\":\"PanTool\",\"id\":\"p1405\"},{\"type\":\"object\",\"name\":\"WheelZoomTool\",\"id\":\"p1406\"},{\"type\":\"object\",\"name\":\"BoxZoomTool\",\"id\":\"p1407\",\"attributes\":{\"overlay\":{\"type\":\"object\",\"name\":\"BoxAnnotation\",\"id\":\"p1408\",\"attributes\":{\"syncable\":false,\"level\":\"overlay\",\"visible\":false,\"left_units\":\"canvas\",\"right_units\":\"canvas\",\"bottom_units\":\"canvas\",\"top_units\":\"canvas\",\"line_color\":\"black\",\"line_alpha\":1.0,\"line_width\":2,\"line_dash\":[4,4],\"fill_color\":\"lightgrey\",\"fill_alpha\":0.5}}}},{\"type\":\"object\",\"name\":\"ResetTool\",\"id\":\"p1409\"},{\"type\":\"object\",\"name\":\"SaveTool\",\"id\":\"p1410\"},{\"type\":\"object\",\"name\":\"LassoSelectTool\",\"id\":\"p1411\",\"attributes\":{\"renderers\":\"auto\",\"overlay\":{\"type\":\"object\",\"name\":\"PolyAnnotation\",\"id\":\"p1412\",\"attributes\":{\"syncable\":false,\"level\":\"overlay\",\"visible\":false,\"xs\":[],\"ys\":[],\"editable\":true,\"line_color\":\"black\",\"line_alpha\":1.0,\"line_width\":2,\"line_dash\":[4,4],\"fill_color\":\"lightgrey\",\"fill_alpha\":0.5}}}},{\"type\":\"object\",\"name\":\"PolySelectTool\",\"id\":\"p1413\",\"attributes\":{\"renderers\":\"auto\",\"overlay\":{\"type\":\"object\",\"name\":\"PolyAnnotation\",\"id\":\"p1414\",\"attributes\":{\"syncable\":false,\"level\":\"overlay\",\"visible\":false,\"xs\":[],\"ys\":[],\"editable\":true,\"line_color\":\"black\",\"line_alpha\":1.0,\"line_width\":2,\"line_dash\":[4,4],\"fill_color\":\"lightgrey\",\"fill_alpha\":0.5}}}},{\"type\":\"object\",\"name\":\"HoverTool\",\"id\":\"p1418\",\"attributes\":{\"renderers\":\"auto\",\"tooltips\":[[\"umap emb.\",\"($x, $y)\"],[\"Sequence\",\"@desc\"]]}}]}},\"left\":[{\"type\":\"object\",\"name\":\"LinearAxis\",\"id\":\"p1398\",\"attributes\":{\"ticker\":{\"type\":\"object\",\"name\":\"BasicTicker\",\"id\":\"p1401\",\"attributes\":{\"mantissas\":[1,2,5]}},\"formatter\":{\"type\":\"object\",\"name\":\"BasicTickFormatter\",\"id\":\"p1399\"},\"major_label_policy\":{\"type\":\"object\",\"name\":\"AllLabels\",\"id\":\"p1400\"}}}],\"below\":[{\"type\":\"object\",\"name\":\"LinearAxis\",\"id\":\"p1391\",\"attributes\":{\"ticker\":{\"type\":\"object\",\"name\":\"BasicTicker\",\"id\":\"p1394\",\"attributes\":{\"mantissas\":[1,2,5]}},\"formatter\":{\"type\":\"object\",\"name\":\"BasicTickFormatter\",\"id\":\"p1392\"},\"major_label_policy\":{\"type\":\"object\",\"name\":\"AllLabels\",\"id\":\"p1393\"}}}],\"center\":[{\"type\":\"object\",\"name\":\"Grid\",\"id\":\"p1397\",\"attributes\":{\"axis\":{\"id\":\"p1391\"}}},{\"type\":\"object\",\"name\":\"Grid\",\"id\":\"p1404\",\"attributes\":{\"dimension\":1,\"axis\":{\"id\":\"p1398\"}}}]}}],\"callbacks\":{\"type\":\"map\"}}};\n  const render_items = [{\"docid\":\"a4b45c3e-2410-4a1a-bbe5-e3c99ce83972\",\"roots\":{\"p1373\":\"fee3fe27-668a-49fb-bd62-1d7c8982509a\"},\"root_ids\":[\"p1373\"]}];\n  root.Bokeh.embed.embed_items_notebook(docs_json, render_items);\n  }\n  if (root.Bokeh !== undefined) {\n    embed_document(root);\n  } else {\n    let attempts = 0;\n    const timer = setInterval(function(root) {\n      if (root.Bokeh !== undefined) {\n        clearInterval(timer);\n        embed_document(root);\n      } else {\n        attempts++;\n        if (attempts > 100) {\n          clearInterval(timer);\n          console.log(\"Bokeh: ERROR: Unable to run BokehJS code because BokehJS library is missing\");\n        }\n      }\n    }, 10, root)\n  }\n})(window);",
      "application/vnd.bokehjs_exec.v0+json": ""
     },
     "metadata": {
      "application/vnd.bokehjs_exec.v0+json": {
       "id": "p1373"
      }
     },
     "output_type": "display_data"
    },
    {
     "name": "stdout",
     "output_type": "stream",
     "text": [
      "huggingface/tokenizers: The current process just got forked, after parallelism has already been used. Disabling parallelism to avoid deadlocks...\n",
      "To disable this warning, you can either:\n",
      "\t- Avoid using `tokenizers` before the fork if possible\n",
      "\t- Explicitly set the environment variable TOKENIZERS_PARALLELISM=(true | false)\n"
     ]
    }
   ],
   "source": [
    "import umap\n",
    "from bokeh.io import output_notebook, show\n",
    "from bokeh.plotting import figure\n",
    "from bokeh.models import ColumnDataSource\n",
    "output_notebook()\n",
    "# create 2 dimensional embedding\n",
    "reducer = umap.UMAP(\n",
    "    n_neighbors=15, n_components=2, metric=\"cosine\"\n",
    ")\n",
    "\n",
    "umap_embeddings = reducer.fit_transform(list(vector_store.seq2vec.values()))\n",
    "\n",
    "# plot the 2 dimensional data points - where it is possible to interactively\n",
    "# see the original sequence\n",
    "source = ColumnDataSource(data=dict(\n",
    "    x=umap_embeddings[:, 0],\n",
    "    y=umap_embeddings[:, 1],\n",
    "    desc=sequences,\n",
    "))\n",
    "\n",
    "TOOLTIPS = [\n",
    "    (\"umap emb.\", \"($x, $y)\"),\n",
    "    (\"Sequence\", \"@desc\"),\n",
    "]\n",
    "# with poly_select\n",
    "p = figure(width=400, height=400, tooltips=TOOLTIPS,\n",
    "           title=\"UMAP projection of the DNA sequences\",\n",
    "              tools=\"pan,wheel_zoom,box_zoom,reset,save,lasso_select,poly_select\"\n",
    "           )\n",
    "\n",
    "p.scatter('x', 'y',  source=source)\n",
    "\n",
    "\n",
    "show(p)\n"
   ]
  },
  {
   "cell_type": "code",
   "execution_count": 9,
   "metadata": {},
   "outputs": [
    {
     "data": {
      "text/plain": [
       "'/Users/au561649/Github/dna2vec/docs/examples/example.html'"
      ]
     },
     "execution_count": 9,
     "metadata": {},
     "output_type": "execute_result"
    }
   ],
   "source": [
    "from bokeh.plotting import figure, output_file, save\n",
    "# set output to static HTML file\n",
    "output_file(filename=\"example.html\", title=\"Umap projection of DNA sequences\")\n",
    "save(p)"
   ]
  },
  {
   "cell_type": "code",
   "execution_count": null,
   "metadata": {},
   "outputs": [],
   "source": []
  }
 ],
 "metadata": {
  "kernelspec": {
   "display_name": "dna2vec",
   "language": "python",
   "name": "python3"
  },
  "language_info": {
   "codemirror_mode": {
    "name": "ipython",
    "version": 3
   },
   "file_extension": ".py",
   "mimetype": "text/x-python",
   "name": "python",
   "nbconvert_exporter": "python",
   "pygments_lexer": "ipython3",
   "version": "3.10.10"
  },
  "orig_nbformat": 4
 },
 "nbformat": 4,
 "nbformat_minor": 2
}
