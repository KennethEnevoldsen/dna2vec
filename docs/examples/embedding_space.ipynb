{
 "cells": [
  {
   "cell_type": "code",
   "execution_count": 1,
   "metadata": {},
   "outputs": [],
   "source": [
    "from dna2vec.vector_store import VectorStore\n",
    "from pathlib import Path\n",
    "import os"
   ]
  },
  {
   "cell_type": "code",
   "execution_count": 2,
   "metadata": {},
   "outputs": [
    {
     "name": "stdout",
     "output_type": "stream",
     "text": [
      "/Users/au561649/Github/dna2vec/data/subsequences_sample.txt\n"
     ]
    }
   ],
   "source": [
    "project_repo = Path(os.getcwd()).parent.parent\n",
    "data = project_repo / \"data\" / \"subsequences_sample.txt\"\n",
    "print(data)\n",
    "# load sequences\n",
    "with open(data, \"r\") as f:\n",
    "    sequences = f.read().split(\"\\n\")"
   ]
  },
  {
   "cell_type": "code",
   "execution_count": 3,
   "metadata": {},
   "outputs": [],
   "source": [
    "vector_store = VectorStore()\n",
    "vector_store.add_sequences(sequences)"
   ]
  },
  {
   "cell_type": "code",
   "execution_count": 5,
   "metadata": {},
   "outputs": [
    {
     "data": {
      "text/html": [
       "<style>\n",
       "        .bk-notebook-logo {\n",
       "            display: block;\n",
       "            width: 20px;\n",
       "            height: 20px;\n",
       "            background-image: url(data:image/png;base64,iVBORw0KGgoAAAANSUhEUgAAABQAAAAUCAYAAACNiR0NAAAABHNCSVQICAgIfAhkiAAAAAlwSFlzAAALEgAACxIB0t1+/AAAABx0RVh0U29mdHdhcmUAQWRvYmUgRmlyZXdvcmtzIENTNui8sowAAAOkSURBVDiNjZRtaJVlGMd/1/08zzln5zjP1LWcU9N0NkN8m2CYjpgQYQXqSs0I84OLIC0hkEKoPtiH3gmKoiJDU7QpLgoLjLIQCpEsNJ1vqUOdO7ppbuec5+V+rj4ctwzd8IIbbi6u+8f1539dt3A78eXC7QizUF7gyV1fD1Yqg4JWz84yffhm0qkFqBogB9rM8tZdtwVsPUhWhGcFJngGeWrPzHm5oaMmkfEg1usvLFyc8jLRqDOMru7AyC8saQr7GG7f5fvDeH7Ej8CM66nIF+8yngt6HWaKh7k49Soy9nXurCi1o3qUbS3zWfrYeQDTB/Qj6kX6Ybhw4B+bOYoLKCC9H3Nu/leUTZ1JdRWkkn2ldcCamzrcf47KKXdAJllSlxAOkRgyHsGC/zRday5Qld9DyoM4/q/rUoy/CXh3jzOu3bHUVZeU+DEn8FInkPBFlu3+nW3Nw0mk6vCDiWg8CeJaxEwuHS3+z5RgY+YBR6V1Z1nxSOfoaPa4LASWxxdNp+VWTk7+4vzaou8v8PN+xo+KY2xsw6une2frhw05CTYOmQvsEhjhWjn0bmXPjpE1+kplmmkP3suftwTubK9Vq22qKmrBhpY4jvd5afdRA3wGjFAgcnTK2s4hY0/GPNIb0nErGMCRxWOOX64Z8RAC4oCXdklmEvcL8o0BfkNK4lUg9HTl+oPlQxdNo3Mg4Nv175e/1LDGzZen30MEjRUtmXSfiTVu1kK8W4txyV6BMKlbgk3lMwYCiusNy9fVfvvwMxv8Ynl6vxoByANLTWplvuj/nF9m2+PDtt1eiHPBr1oIfhCChQMBw6Aw0UulqTKZdfVvfG7VcfIqLG9bcldL/+pdWTLxLUy8Qq38heUIjh4XlzZxzQm19lLFlr8vdQ97rjZVOLf8nclzckbcD4wxXMidpX30sFd37Fv/GtwwhzhxGVAprjbg0gCAEeIgwCZyTV2Z1REEW8O4py0wsjeloKoMr6iCY6dP92H6Vw/oTyICIthibxjm/DfN9lVz8IqtqKYLUXfoKVMVQVVJOElGjrnnUt9T9wbgp8AyYKaGlqingHZU/uG2NTZSVqwHQTWkx9hxjkpWDaCg6Ckj5qebgBVbT3V3NNXMSiWSDdGV3hrtzla7J+duwPOToIg42ChPQOQjspnSlp1V+Gjdged7+8UN5CRAV7a5EdFNwCjEaBR27b3W890TE7g24NAP/mMDXRWrGoFPQI9ls/MWO2dWFAar/xcOIImbbpA3zgAAAABJRU5ErkJggg==);\n",
       "        }\n",
       "    </style>\n",
       "    <div>\n",
       "        <a href=\"https://bokeh.org\" target=\"_blank\" class=\"bk-notebook-logo\"></a>\n",
       "        <span id=\"p1146\">Loading BokehJS ...</span>\n",
       "    </div>\n"
      ]
     },
     "metadata": {},
     "output_type": "display_data"
    },
    {
     "data": {
      "application/javascript": "(function(root) {\n  function now() {\n    return new Date();\n  }\n\n  const force = true;\n\n  if (typeof root._bokeh_onload_callbacks === \"undefined\" || force === true) {\n    root._bokeh_onload_callbacks = [];\n    root._bokeh_is_loading = undefined;\n  }\n\nconst JS_MIME_TYPE = 'application/javascript';\n  const HTML_MIME_TYPE = 'text/html';\n  const EXEC_MIME_TYPE = 'application/vnd.bokehjs_exec.v0+json';\n  const CLASS_NAME = 'output_bokeh rendered_html';\n\n  /**\n   * Render data to the DOM node\n   */\n  function render(props, node) {\n    const script = document.createElement(\"script\");\n    node.appendChild(script);\n  }\n\n  /**\n   * Handle when an output is cleared or removed\n   */\n  function handleClearOutput(event, handle) {\n    const cell = handle.cell;\n\n    const id = cell.output_area._bokeh_element_id;\n    const server_id = cell.output_area._bokeh_server_id;\n    // Clean up Bokeh references\n    if (id != null && id in Bokeh.index) {\n      Bokeh.index[id].model.document.clear();\n      delete Bokeh.index[id];\n    }\n\n    if (server_id !== undefined) {\n      // Clean up Bokeh references\n      const cmd_clean = \"from bokeh.io.state import curstate; print(curstate().uuid_to_server['\" + server_id + \"'].get_sessions()[0].document.roots[0]._id)\";\n      cell.notebook.kernel.execute(cmd_clean, {\n        iopub: {\n          output: function(msg) {\n            const id = msg.content.text.trim();\n            if (id in Bokeh.index) {\n              Bokeh.index[id].model.document.clear();\n              delete Bokeh.index[id];\n            }\n          }\n        }\n      });\n      // Destroy server and session\n      const cmd_destroy = \"import bokeh.io.notebook as ion; ion.destroy_server('\" + server_id + \"')\";\n      cell.notebook.kernel.execute(cmd_destroy);\n    }\n  }\n\n  /**\n   * Handle when a new output is added\n   */\n  function handleAddOutput(event, handle) {\n    const output_area = handle.output_area;\n    const output = handle.output;\n\n    // limit handleAddOutput to display_data with EXEC_MIME_TYPE content only\n    if ((output.output_type != \"display_data\") || (!Object.prototype.hasOwnProperty.call(output.data, EXEC_MIME_TYPE))) {\n      return\n    }\n\n    const toinsert = output_area.element.find(\".\" + CLASS_NAME.split(' ')[0]);\n\n    if (output.metadata[EXEC_MIME_TYPE][\"id\"] !== undefined) {\n      toinsert[toinsert.length - 1].firstChild.textContent = output.data[JS_MIME_TYPE];\n      // store reference to embed id on output_area\n      output_area._bokeh_element_id = output.metadata[EXEC_MIME_TYPE][\"id\"];\n    }\n    if (output.metadata[EXEC_MIME_TYPE][\"server_id\"] !== undefined) {\n      const bk_div = document.createElement(\"div\");\n      bk_div.innerHTML = output.data[HTML_MIME_TYPE];\n      const script_attrs = bk_div.children[0].attributes;\n      for (let i = 0; i < script_attrs.length; i++) {\n        toinsert[toinsert.length - 1].firstChild.setAttribute(script_attrs[i].name, script_attrs[i].value);\n        toinsert[toinsert.length - 1].firstChild.textContent = bk_div.children[0].textContent\n      }\n      // store reference to server id on output_area\n      output_area._bokeh_server_id = output.metadata[EXEC_MIME_TYPE][\"server_id\"];\n    }\n  }\n\n  function register_renderer(events, OutputArea) {\n\n    function append_mime(data, metadata, element) {\n      // create a DOM node to render to\n      const toinsert = this.create_output_subarea(\n        metadata,\n        CLASS_NAME,\n        EXEC_MIME_TYPE\n      );\n      this.keyboard_manager.register_events(toinsert);\n      // Render to node\n      const props = {data: data, metadata: metadata[EXEC_MIME_TYPE]};\n      render(props, toinsert[toinsert.length - 1]);\n      element.append(toinsert);\n      return toinsert\n    }\n\n    /* Handle when an output is cleared or removed */\n    events.on('clear_output.CodeCell', handleClearOutput);\n    events.on('delete.Cell', handleClearOutput);\n\n    /* Handle when a new output is added */\n    events.on('output_added.OutputArea', handleAddOutput);\n\n    /**\n     * Register the mime type and append_mime function with output_area\n     */\n    OutputArea.prototype.register_mime_type(EXEC_MIME_TYPE, append_mime, {\n      /* Is output safe? */\n      safe: true,\n      /* Index of renderer in `output_area.display_order` */\n      index: 0\n    });\n  }\n\n  // register the mime type if in Jupyter Notebook environment and previously unregistered\n  if (root.Jupyter !== undefined) {\n    const events = require('base/js/events');\n    const OutputArea = require('notebook/js/outputarea').OutputArea;\n\n    if (OutputArea.prototype.mime_types().indexOf(EXEC_MIME_TYPE) == -1) {\n      register_renderer(events, OutputArea);\n    }\n  }\n  if (typeof (root._bokeh_timeout) === \"undefined\" || force === true) {\n    root._bokeh_timeout = Date.now() + 5000;\n    root._bokeh_failed_load = false;\n  }\n\n  const NB_LOAD_WARNING = {'data': {'text/html':\n     \"<div style='background-color: #fdd'>\\n\"+\n     \"<p>\\n\"+\n     \"BokehJS does not appear to have successfully loaded. If loading BokehJS from CDN, this \\n\"+\n     \"may be due to a slow or bad network connection. Possible fixes:\\n\"+\n     \"</p>\\n\"+\n     \"<ul>\\n\"+\n     \"<li>re-rerun `output_notebook()` to attempt to load from CDN again, or</li>\\n\"+\n     \"<li>use INLINE resources instead, as so:</li>\\n\"+\n     \"</ul>\\n\"+\n     \"<code>\\n\"+\n     \"from bokeh.resources import INLINE\\n\"+\n     \"output_notebook(resources=INLINE)\\n\"+\n     \"</code>\\n\"+\n     \"</div>\"}};\n\n  function display_loaded() {\n    const el = document.getElementById(\"p1146\");\n    if (el != null) {\n      el.textContent = \"BokehJS is loading...\";\n    }\n    if (root.Bokeh !== undefined) {\n      if (el != null) {\n        el.textContent = \"BokehJS \" + root.Bokeh.version + \" successfully loaded.\";\n      }\n    } else if (Date.now() < root._bokeh_timeout) {\n      setTimeout(display_loaded, 100)\n    }\n  }\n\n  function run_callbacks() {\n    try {\n      root._bokeh_onload_callbacks.forEach(function(callback) {\n        if (callback != null)\n          callback();\n      });\n    } finally {\n      delete root._bokeh_onload_callbacks\n    }\n    console.debug(\"Bokeh: all callbacks have finished\");\n  }\n\n  function load_libs(css_urls, js_urls, callback) {\n    if (css_urls == null) css_urls = [];\n    if (js_urls == null) js_urls = [];\n\n    root._bokeh_onload_callbacks.push(callback);\n    if (root._bokeh_is_loading > 0) {\n      console.debug(\"Bokeh: BokehJS is being loaded, scheduling callback at\", now());\n      return null;\n    }\n    if (js_urls == null || js_urls.length === 0) {\n      run_callbacks();\n      return null;\n    }\n    console.debug(\"Bokeh: BokehJS not loaded, scheduling load and callback at\", now());\n    root._bokeh_is_loading = css_urls.length + js_urls.length;\n\n    function on_load() {\n      root._bokeh_is_loading--;\n      if (root._bokeh_is_loading === 0) {\n        console.debug(\"Bokeh: all BokehJS libraries/stylesheets loaded\");\n        run_callbacks()\n      }\n    }\n\n    function on_error(url) {\n      console.error(\"failed to load \" + url);\n    }\n\n    for (let i = 0; i < css_urls.length; i++) {\n      const url = css_urls[i];\n      const element = document.createElement(\"link\");\n      element.onload = on_load;\n      element.onerror = on_error.bind(null, url);\n      element.rel = \"stylesheet\";\n      element.type = \"text/css\";\n      element.href = url;\n      console.debug(\"Bokeh: injecting link tag for BokehJS stylesheet: \", url);\n      document.body.appendChild(element);\n    }\n\n    for (let i = 0; i < js_urls.length; i++) {\n      const url = js_urls[i];\n      const element = document.createElement('script');\n      element.onload = on_load;\n      element.onerror = on_error.bind(null, url);\n      element.async = false;\n      element.src = url;\n      console.debug(\"Bokeh: injecting script tag for BokehJS library: \", url);\n      document.head.appendChild(element);\n    }\n  };\n\n  function inject_raw_css(css) {\n    const element = document.createElement(\"style\");\n    element.appendChild(document.createTextNode(css));\n    document.body.appendChild(element);\n  }\n\n  const js_urls = [\"https://cdn.bokeh.org/bokeh/release/bokeh-3.1.0.min.js\", \"https://cdn.bokeh.org/bokeh/release/bokeh-gl-3.1.0.min.js\", \"https://cdn.bokeh.org/bokeh/release/bokeh-widgets-3.1.0.min.js\", \"https://cdn.bokeh.org/bokeh/release/bokeh-tables-3.1.0.min.js\", \"https://cdn.bokeh.org/bokeh/release/bokeh-mathjax-3.1.0.min.js\"];\n  const css_urls = [];\n\n  const inline_js = [    function(Bokeh) {\n      Bokeh.set_log_level(\"info\");\n    },\nfunction(Bokeh) {\n    }\n  ];\n\n  function run_inline_js() {\n    if (root.Bokeh !== undefined || force === true) {\n          for (let i = 0; i < inline_js.length; i++) {\n      inline_js[i].call(root, root.Bokeh);\n    }\nif (force === true) {\n        display_loaded();\n      }} else if (Date.now() < root._bokeh_timeout) {\n      setTimeout(run_inline_js, 100);\n    } else if (!root._bokeh_failed_load) {\n      console.log(\"Bokeh: BokehJS failed to load within specified timeout.\");\n      root._bokeh_failed_load = true;\n    } else if (force !== true) {\n      const cell = $(document.getElementById(\"p1146\")).parents('.cell').data().cell;\n      cell.output_area.append_execute_result(NB_LOAD_WARNING)\n    }\n  }\n\n  if (root._bokeh_is_loading === 0) {\n    console.debug(\"Bokeh: BokehJS loaded, going straight to plotting\");\n    run_inline_js();\n  } else {\n    load_libs(css_urls, js_urls, function() {\n      console.debug(\"Bokeh: BokehJS plotting callback run at\", now());\n      run_inline_js();\n    });\n  }\n}(window));",
      "application/vnd.bokehjs_load.v0+json": ""
     },
     "metadata": {},
     "output_type": "display_data"
    },
    {
     "name": "stderr",
     "output_type": "stream",
     "text": [
      "BokehUserWarning: ColumnDataSource's columns must be of the same length. Current lengths: ('desc', 501), ('x', 500), ('y', 500)\n"
     ]
    },
    {
     "data": {
      "text/html": [
       "\n",
       "  <div id=\"cf5701ee-0eb4-471f-8799-c8d42ea57ac2\" data-root-id=\"p1150\" style=\"display: contents;\"></div>\n"
      ]
     },
     "metadata": {},
     "output_type": "display_data"
    },
    {
     "data": {
      "application/javascript": "(function(root) {\n  function embed_document(root) {\n  const docs_json = {\"a7d2040e-900b-4fb3-bb95-527874b96819\":{\"version\":\"3.1.0\",\"title\":\"Bokeh Application\",\"defs\":[],\"roots\":[{\"type\":\"object\",\"name\":\"Figure\",\"id\":\"p1150\",\"attributes\":{\"width\":400,\"height\":400,\"x_range\":{\"type\":\"object\",\"name\":\"DataRange1d\",\"id\":\"p1151\"},\"y_range\":{\"type\":\"object\",\"name\":\"DataRange1d\",\"id\":\"p1152\"},\"x_scale\":{\"type\":\"object\",\"name\":\"LinearScale\",\"id\":\"p1164\"},\"y_scale\":{\"type\":\"object\",\"name\":\"LinearScale\",\"id\":\"p1166\"},\"title\":{\"type\":\"object\",\"name\":\"Title\",\"id\":\"p1153\",\"attributes\":{\"text\":\"UMAP projection of the DNA sequences\"}},\"renderers\":[{\"type\":\"object\",\"name\":\"GlyphRenderer\",\"id\":\"p1211\",\"attributes\":{\"data_source\":{\"type\":\"object\",\"name\":\"ColumnDataSource\",\"id\":\"p1147\",\"attributes\":{\"selected\":{\"type\":\"object\",\"name\":\"Selection\",\"id\":\"p1149\",\"attributes\":{\"indices\":[],\"line_indices\":[]}},\"selection_policy\":{\"type\":\"object\",\"name\":\"UnionRenderers\",\"id\":\"p1148\"},\"data\":{\"type\":\"map\",\"entries\":[[\"x\",{\"type\":\"ndarray\",\"array\":{\"type\":\"bytes\",\"data\":\"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\"},\"shape\":[500],\"dtype\":\"float32\",\"order\":\"little\"}],[\"y\",{\"type\":\"ndarray\",\"array\":{\"type\":\"bytes\",\"data\":\"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\"},\"shape\":[500],\"dtype\":\"float32\",\"order\":\"little\"}],[\"desc\",[\"GCAACTCCAAA\",\"CTTAAAATAAAATCCCCAC\",\"CTAACAAAAAAA\",\"ACCTCCATCGCTAACCCCACTAAAA\",\"AACCTGCCCCTACTCCTCCTAGA\",\"AATCAACGCCCATAA\",\"CCCCATTCTCCTCCTATCCCTCAACCCC\",\"AGGCATAA\",\"CTAACCTCCTCGGACTCCTGCCTCACTC\",\"TGAATATTGTACGGTACCATAAATAC\",\"AAAAAA\",\"CCTCAACTATCACACA\",\"CTTAATTATA\",\"CACGTCATTATTGGCTCAACTTTCC\",\"ATTAACAACATAAAAC\",\"CATCGGGCGAGGCCTATATTACGGAT\",\"TGTACTATCCCTATGA\",\"ATTCTACTGACTATCCTAGAA\",\"GGGCCTAGCCCTAC\",\"ATTATGATAATCATATTTAC\",\"TCGTAGTAACAGCCATTCT\",\"CACACCTCATATCCTCCCTACTA\",\"CTTCGAAGCCGCCGCCTGATACTGGCA\",\"GCAAGCCTCGCTAACCTCGCCTTACCCCC\",\"CTGACACTG\",\"ACCTCCCCACC\",\"ATCACTCGAGACG\",\"TAATTATAACATTCACAGCCAC\",\"GCCACTTATCCAGTGAACCACTATCACGA\",\"CTAAGATTAAAAATGCCC\",\"TAGTACATAAAAA\",\"ACAAAGCATAATATTTCGCCCACTA\",\"CAAATCACCACAGGACTATTCCTA\",\"CTCCTCATTCTAACCTGAA\",\"CATCAACTGCA\",\"TATATAAACTCA\",\"CTTCACG\",\"ATAGCTACTCTCATAACCCTC\",\"ACTACTTCTCCATAATATTCAT\",\"CACGGGCT\",\"TTACACTCAC\",\"CCCACAACAATATT\",\"ACGGCTACATAGAAAAATCCACCCCT\",\"TACCCTAGCCAACCCCTTAAAC\",\"TACACCAACCACCCAA\",\"CCACTCCCTCTTAG\",\"ATTACGGA\",\"CTACATATTTACCACAACAC\",\"CTAGGATACCAA\",\"CCGCCGCCTGATACTGGCATTTTGTAG\",\"ACTTCAGGGTCATAAAGCCTAAATAGCCC\",\"TAGCCCACACGT\",\"TTCAACCAATAGCCCTGGCC\",\"CTCTATTTTACCCTCCTAC\",\"ATCATAGAATTCTCACTGTGATATATAA\",\"TTTCTACTCCAAAGACCACATCATCGAAA\",\"CTATCTCCCTAATTGAA\",\"CTCGAACTGACACTGAGCC\",\"ATTCT\",\"GCACATTTTATTTCTCCAACATACTCGG\",\"AACTTAATATGACTAG\",\"AATACTCAAATGGGCCTGTCCTTGTAGT\",\"GATCCTCCCGAATCA\",\"TACTCATGCACCTAATTGGAA\",\"CCAAACT\",\"TCATC\",\"TTACCGAGA\",\"AGTAGCATCCG\",\"CTGCCTAGCAAAC\",\"CATCCCCTTAT\",\"CACATCATCGAA\",\"TAGCAA\",\"CGTAGCCTTCTCCACTTCAA\",\"ATCCATTGGTCTTAGGCCCCAAAAATT\",\"GATACGGGATAATCCTATTTATTACCTC\",\"GTAAAGA\",\"GCCCATGTCGAA\",\"TTAAACG\",\"AATCACC\",\"CAACGCCCATAATCATACA\",\"TTCCCCA\",\"CTTTCATGG\",\"AAGCCCGAATGATATTTCCTATTCGCC\",\"ACCACTCCAGCCTAGCCC\",\"CTTATGAGCGGGC\",\"AACCCCACAAACCCCATTA\",\"CAAACAACAAAGCA\",\"ATCTGGTTCCTACTTCA\",\"GTACCACCCAA\",\"CCGCATCCCCCTTCCAAACAACAA\",\"ACCGAATT\",\"AATCAACCC\",\"AACACCCCTCC\",\"TACTGGGAGAACTCTCTGT\",\"TTATTGCA\",\"TGGCCTATGAG\",\"GGACTTCAAACTCTACTCCCACT\",\"TAGTAA\",\"TACCTTCTTATTATTTG\",\"TCTCATAATCGCCCACGGGCTTACATCCT\",\"CAAACATATC\",\"TTTTAAAGGATAACAG\",\"CCACTCCCTCTTAGCCAATATTGT\",\"TAACCTGCCACTAAT\",\"GTACATAAAAACCCAATCCACATCAAA\",\"TTACAGGACTCAACATACTAGTCACAGCC\",\"ATAAC\",\"GGTTTGACTATTTCTGTATGTCTCCATCT\",\"TATCAAACTCCTGAGCCAACAACTTAATA\",\"AAAAAACTATTAAACCC\",\"CCCAATC\",\"ACTAATCAAC\",\"CCCACCCCAGTCT\",\"GGGGAAGCA\",\"TAGACCTAACCTGACTAGAAAAG\",\"TGTGATTTCACTTCCA\",\"CCCATTCTCCTCCTATCCC\",\"ACAGGACTCAACATACTAGTCACAGCCC\",\"ATAAAATCCCCACTATGCACATTT\",\"AGTTCAATGAATCTGAGGAGG\",\"GCATTTTGTAGATGTGGTTTGACT\",\"CTATCCCTCAA\",\"TAAACCG\",\"ATAACCATG\",\"CTCAAGGACTTCAAACTCTACTCCCACT\",\"TAACAACCTATTCCAACTGTT\",\"CGCCTC\",\"TTTTTCTGAGCCTTTTACCACTCCAG\",\"AATAAATTA\",\"AGGGG\",\"AACACTCACCAAGACCTCAACCC\",\"GTCACT\",\"ATGTCGAAGCCCCCAT\",\"AATATATACA\",\"TCTCATCGCTACCTCCCTGACAAGCGC\",\"TCCCCTTATGAGCGGGCACAGTGATTA\",\"AACCGTATCGGCGATATCGGTTTCATCC\",\"CCAAGGCCACCACACACCACC\",\"CCTGACTCCT\",\"AACAAGCTC\",\"GGCCAT\",\"AGGAATAATACTATCGCTGTTCATTA\",\"CCGCCTTTTCATCAATCGCC\",\"CGTTC\",\"TATCATCACC\",\"GCCATGT\",\"AAACTTAC\",\"TCAACCC\",\"CGCCTTACCCCCCACTATTAACC\",\"CATAAATATTA\",\"TGCATACTCTTCA\",\"CACTCACCAAGA\",\"ATCACGAAAAA\",\"CCACAACCTTAA\",\"GACAGTCCCACCCTC\",\"TTCATCAATCGCCCACATCACT\",\"TCCTACCTCCATCG\",\"ATAACCTCCCC\",\"CATAGGCTATGTCCTCCCGT\",\"CTAATAGAAAACAACCGAAA\",\"CTATCCATTGGTCTTAGGCCCCAA\",\"GCCTAGCCCTACTAGTCTCAA\",\"CACCT\",\"ACTCTGTTCGCAGCAG\",\"CTACCCTAG\",\"CCTACTAGTCTCAATCTCCAACACATA\",\"TACTCCCACTAAT\",\"CTAACAAACTAGGAGGCGTCCTT\",\"TTTTTTGTAGCCACAGGCTT\",\"TCATCAATCGCCCACATCACTCGA\",\"GATGACTTCTAGCAAGCCTCGCTAAC\",\"CCATC\",\"CTGTACCCACGCCTTCTTCAAAGC\",\"TATACACCAACAAACAATGTT\",\"CATTCAAGCA\",\"ATGCCCTAGCCCACTTCTTACCAC\",\"AGCTTTT\",\"ACTAGTATCCTTAATCATTTTTATTGCCA\",\"CCCACAAACCCCATTACTAAACCCACACT\",\"AAACAAAGCATACATCATTATT\",\"ACTCCACTCAAGCACTAT\",\"AACCCC\",\"CCCCCAT\",\"CCTAATTACCATA\",\"CCCCA\",\"AGCAG\",\"GCCTGAGCCCTATCTATTACTCTCA\",\"ACGAGTGCGGCTTCGACCCTATAT\",\"TTTATTTCTCCA\",\"AGAAAAT\",\"AGATA\",\"CACTCCTAAACACATC\",\"CTGCGCCCTTACACAAAATGACA\",\"TCAAGCACTGCTTATTACAATTTTACT\",\"CTTATTAATCATCATCCT\",\"TTCTTTATCT\",\"CATAATGACCCACCAAT\",\"AAAATTCAGAATAATAACACACCCGA\",\"CTATGT\",\"CTCTA\",\"CTAAACACATCCGTATTAC\",\"ACTCT\",\"ACAAGATATTCGAAAAATAG\",\"CAATCGGC\",\"CCATTTACCGTACATAGCACA\",\"CCATTAGCACCCAAAGCTAAG\",\"CCCCATTCTCCTCCTATC\",\"CCACAGGACT\",\"TACAATTTTACTG\",\"CACCCTCATGTTCATACACCTATCCCCC\",\"CCATACTAGTTATTATCGAAA\",\"GCCCATGACCCCTAACAGGGGCCCT\",\"TAGGCCT\",\"ATCTA\",\"TTGCATACTCTTCAATCAGCCACAT\",\"CACGTCATTATTGGCTCAACTTTCCTC\",\"CAACTAA\",\"TCATATTTACCAAATGCCCCTC\",\"AAATAAATTAAAAA\",\"ACCCACCAATCACATGCCTATCATAT\",\"CGCTCAC\",\"CCTAGACCAAGAAGTTAT\",\"GTACATTACTGCCAGCCACCAT\",\"CCTTGTACTATCCCTATGA\",\"AGTAACAGCCATTCTCATCCAAACCCC\",\"AAAAGAGTAATAAA\",\"CCACTAATAGCTTTTTGATGA\",\"CAAGC\",\"CTCCTCCTAGCAGCA\",\"AACTATCTCCCTAATTGAAA\",\"GTACTTGCCGCAGT\",\"TACATAA\",\"ACAGAACTAATCATATTTTATATCTTCTT\",\"GAGGCGTCCTTGCCCTA\",\"GGCGTAGGAAT\",\"GTTCATCGGCTGAGAGG\",\"CAACA\",\"CAGAAAATAGCCCACTAA\",\"GTATTACTCGCATCAGGA\",\"TAGACAGTCCCACCCTCACACGA\",\"TACCTAACCAACAAACTTA\",\"ACTCTC\",\"CACTCCCTCTTAGCCAATATTGTGCCT\",\"TCCTTCTTGCTCATCAGTTGATGATA\",\"ACCCTAACAAAAAAAACTCATACCCCCAT\",\"ATCCTCCTGCTTGCAACTATAGCAAC\",\"ATCGGCATTATCCTCCTGCTTGCAAC\",\"GACTACTCAAAACCATACCTCTCA\",\"ATTCATGTGC\",\"TACCATCATTGGACAAGTAGCATCCG\",\"GCTACCCTT\",\"CGCACTCACAGT\",\"GCACAAGAGTGCTACT\",\"CAAACTTAA\",\"AAAGACCA\",\"ATCAATCACCTGAGCTC\",\"ACATAAAAACCCAATCCACATCAA\",\"CAATAATCCCCATCCTCCA\",\"ATTGACTCCTAGCCGCAGACCTCCTCA\",\"TTACTTCTCTTCCTTCTCTCCTTA\",\"TCTTCTTACTCATCCGC\",\"CTTATTAATCATCA\",\"GAACAAGATATTCGAAAAATAGG\",\"TCAGAAGTTTTTTTCTTCGCAGGATTTT\",\"GTGCAACTCCAAATAAAAGTAAT\",\"TACCGTTAACTTCCAATTAACTAGTTT\",\"CAAACCTAC\",\"CCCATAAATAGGAGAAGGCTTAGAA\",\"AACATTTTTTGTAGCCACAGGCTTCCA\",\"GGAATAATACTAT\",\"AACCTGCCACTAATAGTTATGTCAT\",\"ACATC\",\"TAACCA\",\"ACACATAATGACCCACCAATCACATG\",\"TGACATCAAAAAAATCGTAGCCTTCTCCA\",\"GGTCAACCTCGCTTCCC\",\"CCTATCTAGGCCTTCTTACG\",\"CACTTCAACCT\",\"CGCCTACAC\",\"CCTCTCTCAAGGACTTCAAACTCTACT\",\"GTTTAACCAAAACATCAGAT\",\"GTAGTATAA\",\"CAACACAATGGGGCTCACTCACCCACCAC\",\"CTTTACATCCAAACATCA\",\"TACGAACGC\",\"CAATTATATTACTACCACTGA\",\"CCATTAAACGCCTGGCAG\",\"ACTCTGTTCGCAGCAGTCTGCGCC\",\"GACCTAAAATCGCTCA\",\"GCCTTCATAGGCTATGTCCT\",\"TACCCCTACCA\",\"ATTGA\",\"TCTCCAACA\",\"ACCCATATAACCTC\",\"TACACCAGT\",\"AACTCT\",\"ACATCAAGCCCGAA\",\"CCACACTTATCCCCACCTTGGCT\",\"TCTAA\",\"ACTTCAAGT\",\"TATGGTATAATACGCCTCAC\",\"CCCATATAACCTCCCCCAAA\",\"AAAAAT\",\"ATCCCTCTTATTAATCATCATCCT\",\"CACTATTCTCACCAGA\",\"AATCTCC\",\"AATTC\",\"TAAATATAGTTTAACCAAAACAT\",\"AACAATTTC\",\"ATAGGGG\",\"GCATC\",\"TTTACTGGGTCTCT\",\"CTCCACCCCTGACTCC\",\"TTCCAACTGTTCATCGG\",\"GTAGCATTGTTCGTTACA\",\"GAGAAAGCACATACCAAGGCCAC\",\"CCCATGT\",\"GCCAACACAGCAGCCATTCAA\",\"TCCGATAAAATC\",\"GCCCTCCTTTTACC\",\"ATTTTT\",\"ATTGTTCGTTACA\",\"TTACCTCA\",\"TAACCCCACTAAAACACTCACCAAG\",\"TCCTCTCTCAAGGACTT\",\"CTATCACACATCAACTGCAACTCCAAAG\",\"ATTTACCACAACACAATGGGGCTCACTCA\",\"TCCACTCCATAACGCTCCTCATACTAGGC\",\"CCCCATTACTAAAC\",\"ATCGCTCATTGCA\",\"ACATCTG\",\"ACTAATC\",\"GGAAGCCT\",\"ATTATATTACTACCACTGACA\",\"TCTTCCTTCTCTCCTTAATGACATTAAC\",\"AATATTCAT\",\"TTAACCCTAACAAAAAAAACT\",\"ACCTGACTCCTACCCCT\",\"CTATGAGGCATAATTATAACAAGCTCCAT\",\"CCGACCACACCGC\",\"CCATAATATTCATCCCTGTAG\",\"AACCCACACTCAACAGAAACAAAG\",\"ATAGTACCGTTAACTTCCAATTAACTAGT\",\"CTAGGCCTACTAACCAA\",\"ACGTAAATTATGGCTGAATCATC\",\"CATGCACC\",\"ACGCCCGAGCAGA\",\"CACCTTGGCTATC\",\"GAAGCCCCCATCGCTGGG\",\"CCTGACAAGCGCCTATAGCACTCG\",\"ACTCCTGCCTCACTCATTT\",\"TCATAATCCTCTCTCAAGGACTTCA\",\"CTAGCAG\",\"CCGCAGACCTCCTCATTCTAACCTGAATC\",\"CACCCTTAACAGTACATAGTACATA\",\"CTTACCCCCCACTATTAACCTACTG\",\"CACTCACAACACCCTAGGCT\",\"CACTGACATGA\",\"CAGCCCTCGCTGTCACTTTCCTAGG\",\"ATTACAAACTT\",\"TTAACTCCA\",\"AATGATGGCGCGATGTAACACGAGAAA\",\"ACTTCTCTTCCTTCT\",\"TAGGAATCACCTCCCATTC\",\"GGGCCTGTCCTTG\",\"TCGCCCACTAAGCCAA\",\"ACCCTATATC\",\"CTCAACCCCTGACCCCCA\",\"ACTCGAGACGTA\",\"GCCACATAGCCCT\",\"CGACCC\",\"TACACCAAC\",\"CACCCTAACCCTGACTTCCCTAA\",\"ACTAGTTTTGACAACATTCA\",\"ATAGT\",\"TTATGTCATCCCTCTTATTAATCA\",\"CTAATCCAAGC\",\"TTTTTGTAGCCACAGGC\",\"CATAATCC\",\"TCAATGAATCTGAGGAGGCTACT\",\"ACAATCCCCTATCTAG\",\"CCAACACAGCA\",\"AACCCCACAAACCC\",\"GTAGGAATTATATCCTTCTTGCT\",\"ACACTCC\",\"TCCTCACAGGTTTCTAC\",\"AGTCCCACCCTCACACGATTCTTT\",\"CTATTACTCTCA\",\"GCTACTCTCATAA\",\"GGGCC\",\"TAGGCTATGTCCTCCCG\",\"ATCTGCTTCATCCGCCAACTAATATTTCA\",\"TCAACCCTCAACTATCACACA\",\"CACCCCGCTAAATCCCCTAGAAGTCCCA\",\"AATCCCCACT\",\"CTAAACCTAC\",\"TACTCAAAACCATACC\",\"TATACTAGCATTTACCA\",\"ATACTCGGATTCTACCCTA\",\"CAAGCTCCATCTGCCTACGA\",\"AGCCCTTCTAAACGCTAATCCAAGC\",\"CAGGATACT\",\"CCCTGAC\",\"CCAAAACATCAGATTGTGAATCTG\",\"GCATGATGAAACTTCGGCTCAC\",\"ACCCACCACATTA\",\"TCCAACATACTCGGATTC\",\"TGACA\",\"CCTATACTCCCTCTACATATTTACCA\",\"TCTAATTCTACTGACTATCC\",\"TGAATCGGAGGACAACCAGTAAGCTACCC\",\"CTTTTAGTATAAATAG\",\"CCTGGCAGCCGGAAGCCTAT\",\"ATTCTCATCC\",\"ATTTCACTTCCACTCCATAACGCTCCTC\",\"TTCCAAACAACAATCCCCCTCTACC\",\"GCCAACAC\",\"TTACGGACTCCA\",\"AAGCCTCTACCTGCACGACAAC\",\"AGGAATTAT\",\"ACAAAAAA\",\"CTCATTCTAACCTGAATCGGAGGACA\",\"TTCTTACGAGCCAAAACCTGC\",\"CCTAA\",\"GGCTATCATCACCCGATGAGGCAA\",\"GCATCACCCCGCTAAATCCC\",\"TCTTCTTAGTAGCTATT\",\"CACAGCC\",\"TTCACCCACA\",\"GCCCTAGCCCACTTCTTACCACA\",\"ATTTACATA\",\"GAATCTGAGGAGGCTACTCAGTAGACAGT\",\"CCCCCTGACAAAAC\",\"AGTATTGACTCACCCATCAACA\",\"CCCTTCCAAACAACAAT\",\"TCTAATAGAAAACAACCGAAACCAAAT\",\"CTTAC\",\"CAACA\",\"ACGTAAATTATGGCTGAAT\",\"TGACAAGCGCCTATA\",\"CCCTAAGCTTCAAACTAGACTACTTCTCC\",\"TCAACGCCCATAATCATACAA\",\"TTTAC\",\"ATACACCAGTCTT\",\"AATTG\",\"ACTAGGAGGCGTCCTTGCCC\",\"CCTTACACAA\",\"ACTTATGACTCCCTAAAGCCC\",\"CCCATTACT\",\"TTACTAC\",\"CCCTTTTACCATCATTGGACAAGTAGC\",\"TTTTATAGTAAAGATACCTCTTTAC\",\"CCCACTAGGATACC\",\"CAACATACTCGGATTCTACCCTA\",\"CTGTCCTTGTAGTATAAACTAATAC\",\"TAAACCCACACTC\",\"TCCTT\",\"ACACTAACCATATACCA\",\"AGTAACTA\",\"TCTTC\",\"TACCAAATGCCC\",\"ACACCC\",\"ATAAAATTCTTC\",\"TTAGGC\",\"GGCCACCACACACCACCTGTCCAAAA\",\"AATCAGCCCAATTAGGTCTCCA\",\"TCTAT\",\"ACCTACTCATGCACCT\",\"ACAAACTTACTATCCGCCATCCCATACAT\",\"CGCAGTACTCTTAAAACTAG\",\"ACTAAGCCAATCACTTTAT\",\"CAAACATCACTTTGGCTTC\",\"GTTACATGGTCCATCATAGAATTCT\",\"CTAAAA\",\"TACTACCACTGACATGACTTTCC\",\"TTCAGGGTCA\",\"CGATCC\",\"ACCACAGGACTATTCCTAGCCA\",\"CAATTCTCCGATCCGTCCCTAA\",\"CATCCTAGCAATAATCCCC\",\"ATCACCACTCTGTTCGCAGCAGT\",\"ATCTAT\",\"TTATCCTACACTCCAACTCATGAGACCCA\",\"AACCA\",\"CCCGCATCCCCCTTCCAAA\",\"ACTAATAGCTTTTTGATGACTTCTAGC\",\"CTAATCGTCCCAACAATTATATT\",\"AAACATATC\",\"CCTCGGAC\",\"GACATCATTACCGGGTTTTCCTCTTGTA\",\"AGGCGGCTATGGTA\",\"ACCCCCTGAAGCTTCACCGGCGCA\",\"CCCCTACTC\",\"TGAAACTTCG\",\"CCCTTC\",\"GAATTATATCCTTCT\",\"AGTTCTTCAAATATCTACTC\",\"TCCTAGCCATGCACTACTCACCA\",\"GGGGTAGCTAAAGTGAACTGTATCCGACA\",\"CTATCCATCCTCATCCTAGCAATAATC\",\"\"]]]}}},\"view\":{\"type\":\"object\",\"name\":\"CDSView\",\"id\":\"p1212\",\"attributes\":{\"filter\":{\"type\":\"object\",\"name\":\"AllIndices\",\"id\":\"p1213\"}}},\"glyph\":{\"type\":\"object\",\"name\":\"Scatter\",\"id\":\"p1208\",\"attributes\":{\"x\":{\"type\":\"field\",\"field\":\"x\"},\"y\":{\"type\":\"field\",\"field\":\"y\"},\"line_color\":{\"type\":\"value\",\"value\":\"#1f77b4\"},\"fill_color\":{\"type\":\"value\",\"value\":\"#1f77b4\"}}},\"nonselection_glyph\":{\"type\":\"object\",\"name\":\"Scatter\",\"id\":\"p1209\",\"attributes\":{\"x\":{\"type\":\"field\",\"field\":\"x\"},\"y\":{\"type\":\"field\",\"field\":\"y\"},\"line_color\":{\"type\":\"value\",\"value\":\"#1f77b4\"},\"line_alpha\":{\"type\":\"value\",\"value\":0.1},\"fill_color\":{\"type\":\"value\",\"value\":\"#1f77b4\"},\"fill_alpha\":{\"type\":\"value\",\"value\":0.1},\"hatch_alpha\":{\"type\":\"value\",\"value\":0.1}}},\"muted_glyph\":{\"type\":\"object\",\"name\":\"Scatter\",\"id\":\"p1210\",\"attributes\":{\"x\":{\"type\":\"field\",\"field\":\"x\"},\"y\":{\"type\":\"field\",\"field\":\"y\"},\"line_color\":{\"type\":\"value\",\"value\":\"#1f77b4\"},\"line_alpha\":{\"type\":\"value\",\"value\":0.2},\"fill_color\":{\"type\":\"value\",\"value\":\"#1f77b4\"},\"fill_alpha\":{\"type\":\"value\",\"value\":0.2},\"hatch_alpha\":{\"type\":\"value\",\"value\":0.2}}}}}],\"toolbar\":{\"type\":\"object\",\"name\":\"Toolbar\",\"id\":\"p1155\",\"attributes\":{\"tools\":[{\"type\":\"object\",\"name\":\"PanTool\",\"id\":\"p1182\"},{\"type\":\"object\",\"name\":\"WheelZoomTool\",\"id\":\"p1183\"},{\"type\":\"object\",\"name\":\"BoxZoomTool\",\"id\":\"p1184\",\"attributes\":{\"overlay\":{\"type\":\"object\",\"name\":\"BoxAnnotation\",\"id\":\"p1185\",\"attributes\":{\"syncable\":false,\"level\":\"overlay\",\"visible\":false,\"left_units\":\"canvas\",\"right_units\":\"canvas\",\"bottom_units\":\"canvas\",\"top_units\":\"canvas\",\"line_color\":\"black\",\"line_alpha\":1.0,\"line_width\":2,\"line_dash\":[4,4],\"fill_color\":\"lightgrey\",\"fill_alpha\":0.5}}}},{\"type\":\"object\",\"name\":\"ResetTool\",\"id\":\"p1186\"},{\"type\":\"object\",\"name\":\"SaveTool\",\"id\":\"p1187\"},{\"type\":\"object\",\"name\":\"LassoSelectTool\",\"id\":\"p1188\",\"attributes\":{\"renderers\":\"auto\",\"overlay\":{\"type\":\"object\",\"name\":\"PolyAnnotation\",\"id\":\"p1189\",\"attributes\":{\"syncable\":false,\"level\":\"overlay\",\"visible\":false,\"xs\":[],\"ys\":[],\"editable\":true,\"line_color\":\"black\",\"line_alpha\":1.0,\"line_width\":2,\"line_dash\":[4,4],\"fill_color\":\"lightgrey\",\"fill_alpha\":0.5}}}},{\"type\":\"object\",\"name\":\"PolySelectTool\",\"id\":\"p1190\",\"attributes\":{\"renderers\":\"auto\",\"overlay\":{\"type\":\"object\",\"name\":\"PolyAnnotation\",\"id\":\"p1191\",\"attributes\":{\"syncable\":false,\"level\":\"overlay\",\"visible\":false,\"xs\":[],\"ys\":[],\"editable\":true,\"line_color\":\"black\",\"line_alpha\":1.0,\"line_width\":2,\"line_dash\":[4,4],\"fill_color\":\"lightgrey\",\"fill_alpha\":0.5}}}},{\"type\":\"object\",\"name\":\"HoverTool\",\"id\":\"p1195\",\"attributes\":{\"renderers\":\"auto\",\"tooltips\":[[\"(x,y)\",\"($x, $y)\"],[\"desc\",\"@desc\"]]}}]}},\"left\":[{\"type\":\"object\",\"name\":\"LinearAxis\",\"id\":\"p1175\",\"attributes\":{\"ticker\":{\"type\":\"object\",\"name\":\"BasicTicker\",\"id\":\"p1178\",\"attributes\":{\"mantissas\":[1,2,5]}},\"formatter\":{\"type\":\"object\",\"name\":\"BasicTickFormatter\",\"id\":\"p1176\"},\"major_label_policy\":{\"type\":\"object\",\"name\":\"AllLabels\",\"id\":\"p1177\"}}}],\"below\":[{\"type\":\"object\",\"name\":\"LinearAxis\",\"id\":\"p1168\",\"attributes\":{\"ticker\":{\"type\":\"object\",\"name\":\"BasicTicker\",\"id\":\"p1171\",\"attributes\":{\"mantissas\":[1,2,5]}},\"formatter\":{\"type\":\"object\",\"name\":\"BasicTickFormatter\",\"id\":\"p1169\"},\"major_label_policy\":{\"type\":\"object\",\"name\":\"AllLabels\",\"id\":\"p1170\"}}}],\"center\":[{\"type\":\"object\",\"name\":\"Grid\",\"id\":\"p1174\",\"attributes\":{\"axis\":{\"id\":\"p1168\"}}},{\"type\":\"object\",\"name\":\"Grid\",\"id\":\"p1181\",\"attributes\":{\"dimension\":1,\"axis\":{\"id\":\"p1175\"}}}]}}],\"callbacks\":{\"type\":\"map\"}}};\n  const render_items = [{\"docid\":\"a7d2040e-900b-4fb3-bb95-527874b96819\",\"roots\":{\"p1150\":\"cf5701ee-0eb4-471f-8799-c8d42ea57ac2\"},\"root_ids\":[\"p1150\"]}];\n  root.Bokeh.embed.embed_items_notebook(docs_json, render_items);\n  }\n  if (root.Bokeh !== undefined) {\n    embed_document(root);\n  } else {\n    let attempts = 0;\n    const timer = setInterval(function(root) {\n      if (root.Bokeh !== undefined) {\n        clearInterval(timer);\n        embed_document(root);\n      } else {\n        attempts++;\n        if (attempts > 100) {\n          clearInterval(timer);\n          console.log(\"Bokeh: ERROR: Unable to run BokehJS code because BokehJS library is missing\");\n        }\n      }\n    }, 10, root)\n  }\n})(window);",
      "application/vnd.bokehjs_exec.v0+json": ""
     },
     "metadata": {
      "application/vnd.bokehjs_exec.v0+json": {
       "id": "p1150"
      }
     },
     "output_type": "display_data"
    }
   ],
   "source": [
    "import umap\n",
    "from bokeh.io import output_notebook, show\n",
    "from bokeh.plotting import figure\n",
    "from bokeh.models import ColumnDataSource\n",
    "output_notebook()\n",
    "# create 2 dimensional embedding\n",
    "reducer = umap.UMAP(\n",
    "    n_neighbors=15, n_components=2, metric=\"cosine\"\n",
    ")\n",
    "\n",
    "umap_embeddings = reducer.fit_transform(list(vector_store.seq2vec.values()))\n",
    "\n",
    "# plot the 2 dimensional data points - where it is possible to interactively\n",
    "# see the original sequence\n",
    "source = ColumnDataSource(data=dict(\n",
    "    x=umap_embeddings[:, 0],\n",
    "    y=umap_embeddings[:, 1],\n",
    "    desc=sequences,\n",
    "))\n",
    "\n",
    "TOOLTIPS = [\n",
    "    (\"(x,y)\", \"($x, $y)\"),\n",
    "    (\"desc\", \"@desc\"),\n",
    "]\n",
    "# with poly_select\n",
    "p = figure(width=400, height=400, tooltips=TOOLTIPS,\n",
    "           title=\"UMAP projection of the DNA sequences\",\n",
    "              tools=\"pan,wheel_zoom,box_zoom,reset,save,lasso_select,poly_select\"\n",
    "           )\n",
    "\n",
    "p.scatter('x', 'y',  source=source)\n",
    "\n",
    "\n",
    "show(p)\n"
   ]
  },
  {
   "cell_type": "code",
   "execution_count": 7,
   "metadata": {},
   "outputs": [
    {
     "data": {
      "text/plain": [
       "'/Users/au561649/Github/dna2vec/docs/examples/example.html'"
      ]
     },
     "execution_count": 7,
     "metadata": {},
     "output_type": "execute_result"
    }
   ],
   "source": [
    "from bokeh.plotting import figure, output_file, save\n",
    "# set output to static HTML file\n",
    "output_file(filename=\"example.html\", title=\"Umap projection of DNA sequences\")\n",
    "save(p)"
   ]
  },
  {
   "cell_type": "code",
   "execution_count": null,
   "metadata": {},
   "outputs": [],
   "source": []
  }
 ],
 "metadata": {
  "kernelspec": {
   "display_name": "dna2vec",
   "language": "python",
   "name": "python3"
  },
  "language_info": {
   "codemirror_mode": {
    "name": "ipython",
    "version": 3
   },
   "file_extension": ".py",
   "mimetype": "text/x-python",
   "name": "python",
   "nbconvert_exporter": "python",
   "pygments_lexer": "ipython3",
   "version": "3.10.10"
  },
  "orig_nbformat": 4
 },
 "nbformat": 4,
 "nbformat_minor": 2
}
