{
 "cells": [
  {
   "attachments": {},
   "cell_type": "markdown",
   "metadata": {},
   "source": [
    "## Initialize"
   ]
  },
  {
   "cell_type": "code",
   "execution_count": 1,
   "metadata": {},
   "outputs": [
    {
     "name": "stderr",
     "output_type": "stream",
     "text": [
      "/mnt/SSD2/pholur/environments/dna2vec/lib/python3.11/site-packages/pinecone/index.py:4: TqdmWarning: IProgress not found. Please update jupyter and ipywidgets. See https://ipywidgets.readthedocs.io/en/stable/user_install.html\n",
      "  from tqdm.autonotebook import tqdm\n"
     ]
    }
   ],
   "source": [
    "%load_ext autoreload\n",
    "%autoreload 2\n",
    "\n",
    "import sys\n",
    "sys.path.append(\"../src/\")\n",
    "import torch\n",
    "\n",
    "from dna2vec.pinecone_store import PineconeStore"
   ]
  },
  {
   "attachments": {},
   "cell_type": "markdown",
   "metadata": {},
   "source": [
    "## Load Baselines"
   ]
  },
  {
   "cell_type": "code",
   "execution_count": 2,
   "metadata": {},
   "outputs": [
    {
     "name": "stdout",
     "output_type": "stream",
     "text": [
      "Checkpoints loaded.\n"
     ]
    }
   ],
   "source": [
    "checkpoints = {}\n",
    "\n",
    "checkpoints[\"trained\"] = {}\n",
    "checkpoints[\"trained\"][\"model\"] = torch.load(\"/mnt/SSD5/pholur/checkpoints/checkpoint_smooth-rock-29.pt\")\n",
    "\n",
    "checkpoints[\"init\"] = {}\n",
    "checkpoints[\"init\"][\"model\"] = torch.load(\"/mnt/SSD5/pholur/checkpoints/checkpoint_initalialized.pt\")\n",
    "\n",
    "print(\"Checkpoints loaded.\")\n",
    "\n",
    "from dna2vec.trainer import ContrastiveTrainer\n",
    "from dna2vec.model import model_from_config\n",
    "# The path for the tokenizer isn't relative.\n",
    "for baseline in checkpoints:\n",
    "    config = checkpoints[baseline][\"model\"][\"config\"]\n",
    "    config.model_config.tokenizer_path = \"/home/pholur/dna2vec/src/model/tokenizers/dna_tokenizer_10k.json\"\n",
    "    encoder, pooling, tokenizer = model_from_config(config.model_config)\n",
    "    checkpoints[baseline][\"encoder\"] = encoder\n",
    "    checkpoints[baseline][\"pooling\"] = pooling\n",
    "    checkpoints[baseline][\"tokenizer\"] = tokenizer\n",
    "    checkpoints[baseline][\"pineconestore\"] = PineconeStore(\n",
    "                                                                device = torch.device(\"cuda:3\"),\n",
    "                                                                index_name = baseline,\n",
    "                                                                metric = \"cosine\",\n",
    "                                                                model_params = {\n",
    "                                                                    \"tokenizer\": tokenizer,\n",
    "                                                                    \"model\": encoder,\n",
    "                                                                    \"pooling\": pooling\n",
    "                                                                }\n",
    "                                                            )"
   ]
  },
  {
   "attachments": {},
   "cell_type": "markdown",
   "metadata": {},
   "source": [
    "## Load global DNA sequence"
   ]
  },
  {
   "cell_type": "code",
   "execution_count": 4,
   "metadata": {},
   "outputs": [
    {
     "name": "stderr",
     "output_type": "stream",
     "text": [
      "3785it [10:21,  6.09it/s]\n"
     ]
    }
   ],
   "source": [
    "# checkpoints[\"init\"][\"pineconestore\"].trigger_pinecone_upsertion(\"/home/pholur/dna2vec/tests/data/subsequences_sample_train.txt\")\n",
    "# checkpoints[\"trained\"][\"pineconestore\"].trigger_pinecone_upsertion(\"/home/pholur/dna2vec/tests/data/subsequences_sample_train.txt\")"
   ]
  },
  {
   "attachments": {},
   "cell_type": "markdown",
   "metadata": {},
   "source": [
    "## Validation"
   ]
  },
  {
   "cell_type": "code",
   "execution_count": 11,
   "metadata": {},
   "outputs": [
    {
     "name": "stdout",
     "output_type": "stream",
     "text": [
      "237\n",
      "Trained.\n",
      "{'position': '30134000', 'text': 'TGGAGCTTCTAAGTAAGCACACAGTTAGACAAGCTTGCTGTGTAGGGAGTGGCTAGTGAAGGGAAGGTAAAGGTGATAACTGCATTTCTAAAAAGATAAGTAGGAAGTGGGGAACaggggaaaaggaggaaagagaaaagaagaaaataataatttaaaaaataactaagtccctttctcttagaaaaatgggGGTACTCAGTTATAGACAGATTATTCCACCCTTCTATGACTCAGATTTTTCATCTGTATCTAAGATGGGTTTAATAATAGATCCATTCCATACAGTTGTTGTGAGGACTACATAAATTAACATGGGTAAAAATACTTAGAATACTGAGTAGCACAAGATAAATACTATACCAGTACTATCATTATTGTTATGATGCTGTTGTGATTCATTTGGGTGCATAAAGCATTACTTCATGAAGGACAGAGCTAACTAAATACttcttgatactttttttttttgcttataaaaaAGGTCCTCATGTCTTCAGAAATTGTAAAAAGTTCTCCAACCATTTCCTTCCCTTTACCTAAGTTTTCTTAccctttgtcttccttttcagCTTGTTCACATAAAATACTACACATATGTCTATTCTATATTCAAGATATGTCACTCAAACtggatcaaaaaaaaagaaaaccctaataCTTCTCAATGTTTTCTAGGAAATAAACACAATGATATAGCACTGCtctgagaaaatgtaaaaaaaagaatagaaaagaaacaaggcTGCCAGTGTACTATACTGCCATGTAGCGTCGCCAAAAGCCACTGCTTGTTATTCGTTATCTGTGGTGTGTTCATCTTGAAATTCAGATAGCCAGTCCACAAAAGACAAAACTCAGCCCTGCCTGAAGTCTTTCTGCAGAATTCTAACTGACCTAAGCTGTACTAGTGAAACAGAGTTGTTACAGTGGACATAGTTAACCCTATTTTCCTGGTACACGTTAGGTGACACGAGGCTTCCCAGGAACACAGTGGAAC'}\n",
      "{'position': '231924000', 'text': 'CAGAATCATTCTTCTCCCTGTGCAGGGGAGAGTCAAGATCACAGACAACTACAGCCTTTGCAGAACTGGGGAGAGGCCCACAGCCGAGTGAGGTCTGGCTGCAAAGAGAGGAAGGGCACTGGTTAAAACCTCGGGCAGGTGGGAGTGGCCATGGGCCAGGGTGTGCTGGTTTCTCTGGTCATTGACAAATATTTCCACGAGTCTGTTCGGGGTGCAGTGGGTCCTAGAGTGCCTTAGGCCAGCACTTCGCCCTTAAGCTGTTCAATATGGAGAGGTGAATGGGTTCACAAACTGTGAAAAAGTGTTCTGTACTGTAAAAAAGAGACAGTGTGCTGGACAGGCGCTCTTGTTTCCCTCCGGGAGAAGATCCGACACTGACAAGGGTTTCTGGGGAGGAGACAGCAGCTTGCCCGTAGCCTGGGATGGGACAGTCAAGGTGTGGGACAGGCAGTGGCAGCTGCTGAGCTGGAGGCAAGAAAGCGAGAAAGCCAGGTAAGCCTGATCCTAACGCACATGACTGTCAATGTCAGAGGCTGGGATGTTATTCAGTGGGCACGGGCAGGCGGCAGGAAtagagaggagggaaagaggagaggtgaGGCTCTCTGCAGCAGTAAATTACCACCACGCGGCACCCGGCAGGGGGTGGCGGTAGGGCAGAGGTTTCCAGCCCTAGTGCGGGGTGAGACCCCACACCAGAAACGGAGCCCAGAGCACCGGTTGGGTCGGGACAGGGTTGGTGAGGGACTCTGGGACGTGTTGAGTTCGAGGCTGGGgcaaataatatttactttagtGTCTTTCCTATTCCCTGAAATAGTGCCACAAGCACTGAGATTCACCCCCGAAGCCACCAGGCTGCAGCTGCCTCAGGACCCTGGACAGACCAGTTTGCCCACTGCCTGGGTTTAGAGAAGGGACAGGAATCGGAGTGTCCCAGGCAGAAGGGCGCTCTGACAGTGCCAGCAGAGGGCTACTCTCACTACAGGGGGCATGGTGG'}\n",
      "{'position': '85566000', 'text': 'CACTATTTGCTTTTTTGGGTGTGTGCATCAAAGGGATACTTGAAAgtgaaaagaatgagagaaagtattttaaaaccatATCTGATgagggtctagtatccagaatatgtaaagaactcctgcaactcaacaatgaaaaagacaacccaaataaaaataggcagaggggctgggcacagtggctcacgcccataatcccaaaactttgggaggccaaggtgggaggatcgcttgaggtcaggagtttgagaccagcctggatgacatggtgaaaccccatctctacaaaaaaatacaaaaaagtagccgggtgagGTGTccacccctagctaattttttgtacagatctggtttctccatgttgcccaggttggtctcgaactcctgatctcaagcaatcctcctgccctggcctcccaaaatgtttggattatgggcgtgagccactgcaccaggccaaagGTTAGTTTAATTGCACAAGTGCTTTTTCTTGACAAACCATGAGACAACTATTATATGCAGAAGTGCTATATGCATATTTCCCATTTCttcacacaaaatattaaaaagacatgtACTGTAGGGTCAAGATTTAATACAATTAATAATTTGTACTGCTTCATCAGggatactcattttttttttttttttttgagaccgagtctcactatgtcgccccactagagtgcagtggcacgatcttggctcactgcaacctgactccctggttcaagcgattctcctgcctcagcctcctgagtagctgggattacaggcacgcacccaccatgcccagctaatttttgtgtttttagtagagaaggggtttctctatgttggtcaggctggtctcgaactcgtgacctcaggtgatccacccgtgttggcctcccaaagtgctgggattacaggtgtgagccaccacacccagcttcatCAAGGACGTTCTTAATAGAaagtggcatttttaaaaattgcaagtgCATGGCATTGAGGAATG'}\n",
      "{'position': '98290000', 'text': 'ATATTCTGTAATTCTTCTATAATGTGATTCTCAATAGAAAATTTCAGGTATATTAGTCTGCTtctacattgctataaagaactacctgagactgggtaatttatgaagaaaataggtttaattgacacagttcataggctgtacaggaggcacaattggggaggccacaggaaacttacaatcatggcagaaggcaaaggggaagcaagcacatattcacatggccagcatgagagagagagtgaaaggggaggtgccacacactttcaaacaaccagatcttttGATAActttatcacaagaacagcactaggagaatggtgctaaaccacccccatgatccagccacctcccaccaggccccacctccaacactggaacttgtaattcaacatgagatttggatggggacacagagccaaaccatatcactaggcTACCCAGTATTTATCATTTTCAGCATCTGCATTCACTTTTTCTCATCAATTATTTCTGCTTTGTCTTTTTCAGCAACAGAAATTGCAAGGAAATCcaacaaagaaaaccaaatcaAAAAGACCAGATCCCCTCAAAGGACAGAAGGTTATTGCaagatgtgatgaaaatggcttttattttccaggtagtttttttttttttaatttcgtGAGgcttttgttaaataatttgataCTAGGGACAAGAAGTTTCAACCTGTGCTTTTGCTAGAACACTGACATTTCATGAGCTGGCCTGAGCTAGTCCACTTTTCACAGAGAAGAAGTGGAATATCTCTGGCCAGCTCATGAAATGAGCGTATTTGGGCCCCCCAAAAAAGTAGCCAGAAAAATGcacttattttaatttctcattttttagtaaacaaatttttattaccCATTTACTGCGTTGCatgtatgtaatattttgaaagtactGGTCTAATGGTATGAGCAAAAAGGTGAACATTCTTGCTTTTTGGAGATTACATCTTAAAGGAGACAGACAAGCAatgaaataa'}\n",
      "{'position': '161312000', 'text': 'TTCCACTGGAAAAAAGTCCTTAAGAAAGTGAGAATATGAAGTTTTAACTACTTTgcacaaataagaaaacagaggaatTAGAAATACAGTAAGATAACAAATACGGAGTAGCTTGAAAAGGATTGAGCATCAGtctgaaaagtaattttttttttttttttgagatggagtatcgttctgtcacccaggctggagtgcggtggcgcgatctcggctcactgtaacttccaccttctgggttcaagtgattctcctgcctcagcctcctgagtagctgggattataagcacccgtcaccacgcccagctaatttttgtgttttcagtagagacggggttttgccatgttggccaggctggtcttgaacccctgacctcaagtgatctgcccccctcggcctcccagagtgctgggattacaggcatgagccactgcacctggccaaaaattgatttattttaaatccaGCATGGACATGATCTAGCAATATCAGGTTCTAATCAGACataaagtgagaaagaaaaagtggaaagTAATCAACTTTTGAAAGTACTGATACcttttttgtactatttttacCAGTTAGGATTCTAAATATTATTGTATGTATGACATTATGTTAGGTATAAACACTTTATTCATATTGTCTGATAATATTTTCCATAAAGTTAATTATATCATGAATGAGCTTTTGAGTCTTCTACTTTTTGATAGCTGTAAAAACTTGGTTTAGATCCATCGacctttttattgcttttatttctaagaattgaaagtgttcccttttaTGTTAAGTATAACACATTCACTTTGTGAGTCTTTCTGCTAAATTCTGCGAAATGCAAGTCCCTATCTCCAGTGTGATTTAGTAATGTGAAATATGCCCAGCATTTTGAAACCCAGTAAGTGGCAAACTATGTGAGGAAGAAGGATCTGTGTTGGTAGCCATGCTCAGGATGGGGTTGCCAATGACAGTAGCTAGTGTTTATTATATGCTTAC'}\n",
      "Baseline.\n",
      "{'position': '177350000', 'text': 'gggtggtgtgtgtgtgagacaagatcagctggggtggtgtgtgtgtgtgtgtgtgagacaagaTCAGCtagggtggtgtgtgtgtgagacaagaccagctggggtggtgtgtgtgtataacaagATCAgctggggttgtgtgtgtgtgtgacaagatCAGctggtgtggggggtgtgtgtgtgtgagacaagatcagctggggtggtgtgtgtgtataacaagATCAgctggggttgtgtgtgtgtgtgacaagatcagctggtgtggggtgtgtgtgtgtgtgagacaagatcagctggggtggtgtgtgtgtgtgtgacaacatcagctggggtggtgtgtgtgtgagacaagaTCAGCTGgggtggtgtgtatgtgtgtgacaaAATCAgctggggtggtgtgtgtgtgtgagacaagaccagctggggtggtgtgtgtgtataacaagATCAGCTGGGGTTGTGTGCGTGTGTGACAAGATCAgctggtgtggggtggggtgtgtgtgacAAGATCAgctggggtggtgtgtgtgtgtgagacaagatcagctggggtggtgtgtgtgtgagacaagaTCAgctggggttgtgtgtgtgtgtgtgtgacaagatcagctggtgtggggtgtgtgtgtgtgagacaagatcagctggggtggtgtgtgtgtgtgtgagacaagatcagctggggtggtgtgtgtgtgtgagacaagaTCAGCTGGggtggtgtgtctgtgtgagacAAGATCAgctggggtggtgtgtgtgtataacaagATCAgctggggttgtgtgtgtgtgtgacaataTCAGCTgcggttgtgtgtgtgtgagacaagaTCAGCTGaggtggtgtgtctgtgtgtgtgtgagagagagagagacaagatcAGCTGgagtggtttgtgtgtgtgtgtgtgtgagacaagatcagctggggtggtgtgtgtgtgtgtgtgtgagattgagagagagagagagacaagatcAGCTG'}\n",
      "{'position': '131924000', 'text': 'CCTGAAGAAAACAtgttaaatattaactatttgaaTGAGGTTCATCTAAATAAGAATGATTGTCAAGATTCAAATGAGTAAATATACAGATTTTAATTAGTGTCATTCCTGGCATTGTGTATCATTTCATAAATCAAAAAACTTAACAGAGACTCCCCATTGCATATATGAAAGAACTAAGAGAGGGATAAGGATGCCAACAGGATCTCTTTCAGAAGTGGGTCCCACTATcacttcactgttttttttttctctttttttttttttttttgatacagggtctccatctgtctcctaggctggagcgcagtggcacagtctcggctcactctatcctctgcctcccgggttcaagatatCATCTAGCTTCAGCCttgctagtagctgggactacaagcgtgcgccatcatgcctggttaatttttgtatttttagtagagatagggcttcaccatgttggggaggctggtcttgaactcctgacctcaggtgatccacccatcttggcctcccaaagagctgggattacaggcgtgagccacggcacccagccccgTACTATTATTTCtatctgaaaaatgtaaaatgttttatggCTCTCAATGTGATCACAAATTCCAATAAAAATGCCTGAAAATTCACTCACAAACATCATCATAATAATAAGGTAATAATCATCCATTATTTTGCAAGTAGAATGTGAAACCTACAAAAGCAGAATTAAATATTGCTGAAAACACTGATCGAGTATGAGCTCAGGTTCAAATAAACTAATACCAAGATgttaatatatttatctattaattttctttaatggaGACTTTTAGCCCATGAAAGGTAGAAATCTTCTCCAAAATTAAGGTTCTTTCTAACATACAGTGATCTGTCTGATAGAAATAAAggaatgtggctgggcacagtggctcacgcctgtaatccccgcactttgggaggcccaggagggtggatcacaaggtcaggagattgaaaccatcctggc'}\n",
      "{'position': '218190000', 'text': 'atgaagttctagaacaggTGAAACTAATCTGAAAATAATCAGAGCAGAAGTTACCTCTGggaggatggaggcagagacaAACCAGCCATGGGGGGACATGAGAGGATTTTTAGGAATGATGGTAATGTTTTCTATATTGATGGGCATTGGGATTACACAGGGGCACCTATTAGTTGAAACTTAGTGAAtatacacttaagatttgtgcacttCATTGTCTACAAATTTTACATCAAAAGAAAACactaaaggccaggtgcagtggctcacgcctgtaatcctagcactttaggaggccaaggtaggaggatcacttgaggtcaggagtttgagaccagcctggccaacatggtgaagccccgtctctactaaaaatacaaaaattagcagggcatggtggcgcatgcctgtaatcccagctacttgggaggctgaggcaggagaatcacttgaatttgggaggcggaggttgcagtgagccaagatcgcaccactgcactccagtgtgggcaacagagactccgtctcaaaaaaaaaaaaaaaactataaacaaatattGATCTCTAATCAATGATGTACACACTGATGTATTTAGGGAGAAGTATACTGGTGTCCACAGTTACTTTGAAACACATCCAAAAGAATAGATTAATGGCTATAGGGATGGATAATGGATAAATATGAGATAAAGCAGGTAAAATGTTAATGGCAGAATCTAGGTAGTAGATGTACAAGTAGACAGTGAAATTCTgtcaacttttcttttctcttttttttttttttttttttttgagatggagtttcactcttgttgcccaggctggagtgcgatggcgtgatctcagctcgctgcaacctctgcctcctgggttcaagcaattctcctgcctcagcctcccgagtagttgggattacaggcatgagccaccacacctggctaattttttgtatttttaatagacagcgtttctccatgttggtcaggctggtctcaaactc'}\n",
      "{'position': '116577000', 'text': 'TCAACTTTACTTAAAGACTGAGTGCACTTTGGCCCTGGGTGGTGAGGTTTGTGGGCACTCAAGTTTTCACCACTGGGGGAGataattcccctctggctagggttGGTTTAAACGCCCCTTCTGTGGGCAGGCAACAATTGAGTTTGGTCCAGTACTCCTTGCTTCTCTAACAAAACAGCAATAAGTTctatgcctcacaattgctgtttTCTCCTCCGCATGACCAAGAGAAGCTCTCTGCACCAAGCCTCCGCTACCAGGGGTGGGCGGTGGTGGTAGGGGTGCCGTCAAGGATTctggcctgttttttaaaaatctcttcattGCCTCTTTTAgcgatatgaagttaaaaccaggtacggccgggcgcggtggctcacgcctgtaatcccagcactttgggaggccgaggcgggcggatgacgaggtcaggagatcgagaccatcccggctaaaacggtgaaaccccgtctctactaaaaatacaaaaaaattagccggacgtagtggcgggtgcctgtagtcccagctacttgggaggctgaggcaggagaatggcgtgaacccgggaggcggagcttgcagtgagccgagatcccgccactgcactccagcctgggcaacagagcgagactccgtctcaaaaaaaaaaaaaaaaaaaaaaaaaaccaggtactatgaatGCTCATATGacttttggttcttatgaaggtgttttatCGGTGTAGATAGctgttaacttggtgtccttgtgAGGGGGACAATCAGTGGAACTTTCTAGtcaccatcttgctccacctctgtgtgaaaatgttttcttaagtGAAAAATAGTACAAAGTGTCTATCTGATAGtgacaggagacagacaaatttCCAGGTAGACAGGGATGGGTCACCTGTGAAACCCAACCTTCAAGTCAAAGGTGGCCTGAAACCTAAAAGTCGAACTTCTTGTTCTGGATAGAATCCATGAACAGAGTGAAAACTTTTATCCCtgt'}\n",
      "{'position': '182958000', 'text': 'GTGGAGCATAACGTGTAAGGTAAAGTACAGAGGTTTCAACTATTAGGAAGGGCCTTGAATGCCAAGCTAGAGGTTGGATTGTAAACTGCAGGCAAAAAGACAgcgacaattttttaaaatagccacagCATGaggagacattttcttttcttttcttttcttttgagaaggagtttcactcttgttgcccaggctggaatgcaatggcacaatctcagctcactgcaacctctgcctcctgggttctcctgcctcagcctcctgagctgctgggactacagtcgactgccaccacacccagctaattttatttgtatatttttagtagagatggggtttcgccatgttggccaggctggtctcgaactcctgacctcaggagatccacctgcctcggcctcccaaagtgctgggattacaagcgtgagccaccatgcctggccatgaagAGGTAATTTTCTAAGGATAACTCTGATATTGGcagaagaaaacactgaaaaaggaaaattgtAACAGAGCTGCTAGAAATAGTTCAGACAAGGCATGAAAAAGGGATATGAAATAGgcaagtgtaataaaaaaattttaatgggcAGATCTGAGACAGACTTCTGAGATAAAATTGAAAGGATTCAGTAACTTAGATGTGTGAGAGAAGCAGGAATCAAGTATGACACAGAGGTTTCTACCTAACACATTGTTAAGaccaataattaaaacaaaaaaaccacacaggTACAAATCAGAAATAATTGATTTCACTTGACAGGTAACAAAGCAggcaaatgagaaataagaaataacattttaggtAGAAGGAGAGCTTCACTGTACATTACAGTAGCCACATGTGAAATGTGCCCAGTCCAAATTCAGCTGTGTTATAAGATaaacaccagatttcaaagatttagtataataaaaactatacaatATTTCATTCATATGATTACATGCTGACATAATAACATTTTGGGGTATATAGGGTTgaatcattgtt'}\n"
     ]
    }
   ],
   "source": [
    "query = \"NNNNNNNNNNNNNNNNNNNNNNNNNNNNNNNNNNNNNNNNNNNNNNNNNNNNNNNNNNNNNNNNNNNNNNNNNNNNNNNNNNNNNNNNNNNNNNNNNNNNNNNNNNNNNNNNNNNNNNNNNNNNNNNNNNNNNNNNNNNNNNNNNNNNNNNNNNNNNNNNNNNNNNNNNNNNNNNNNNNNNNNNNNNNNNNNNNNNNNNNNNNNNNNNNNNNNNNNNNNNNNNNNNNNNNNNNNNNN\" # <> 56755036\" # <> 158078701\n",
    "# query = \"CTGAAACGGAGCTATTAGTGGGGAGAGCTGATGTCCCAGTTCTTGTTTAACTTGGAAGAAAGATTTTCACCAAGAGGCAGTACAAAGATGACAGATAACTTCATTGAAAAGAAATACAGTGTAAACACCTTACTGTAGAAAAATAGGGAGGACAGGGCTGATCGTGCATGAAAACAGCCTAAGAGTCTTGTGCAGGGAAGTTACTCTAACTGTAACTTACAACAACTTAGTAGATTATACTTTTGTAAACAGAAGtgaagcatttatcttttttcttgcttGATTATTTACATAATCAAGCAAAATCtaacaaaacaataatattttaacaataatatttttaaaacaataatagtcTTACTTTGATTATGATCAAAAATGATGGTTACTACAGAGAGAATTTTTATGTTTCAATGGAAAAGTAtaacatggccaggcatggttgcacatgcctataattacagcactttgggaggccaggagttcaacatcagcctgggcaacatggtgaaaccacgtctctaccaaaaatacaaaaattagatgggcatggtggcatgtgcctgtagtcccaggtaatcaggaggctgaggagggaggatcgtttgcacccgggaagtagaggttgcagtgagctgagattgcacctttgcactccagcctaggcgacagagccagatcctgtctcaaaaaaaatttttttaaaggaaaactacagCCATTGTGGGTTATCAGATTCTagtcttgtttcttgtttctggGCTATTTTTACCTCTTTGTAAACTGCATCCTGCCATCTGATGAATTTTGTCCCACAATGATACTTGGGGAACAAGAAGCCAATTATTGTCTCTCCTACTAATGTATCTATTGTCAGTTAATTTGAAGGTCTCCAACCCTGGAACAAAGTTAGAAGAGGAAGGTTCTGCTCCCCAAAATGCATAAccaaattgtggtacattcatGTAATGGAACACTATTTAGCCATAGAAACGAACAA\"\n",
    "# query = \"tgtgcccggccaatttttctctttaaaccCATTTACATTGTTTGAATTTTCTACCTGAGCAggaatttctttaataattaaaaaaaatcttccttaaCATTTAAGGGTCAGAGTCACCTATTACTGAACATGCCATTATTCCTGTAATCTGCATACCCCTTTGTTCATTCTGTGT\" # 1838202\n",
    "print(\"Trained.\")\n",
    "returned = checkpoints[\"trained\"][\"pineconestore\"].query([query], top_k=5)[\"matches\"]\n",
    "for sample in returned:\n",
    "    returned = sample[\"metadata\"]\n",
    "    print(returned)\n",
    "\n",
    "print(\"Baseline.\")\n",
    "returned = checkpoints[\"init\"][\"pineconestore\"].query([query], top_k = 5)[\"matches\"]\n",
    "for sample in returned:\n",
    "    returned = sample[\"metadata\"]\n",
    "    print(returned)"
   ]
  },
  {
   "cell_type": "code",
   "execution_count": 48,
   "metadata": {},
   "outputs": [
    {
     "name": "stderr",
     "output_type": "stream",
     "text": [
      "100%|██████████| 700/700 [02:52<00:00,  4.07it/s]\n"
     ]
    },
    {
     "data": {
      "image/png": "[encoded data removed]",
      "text/plain": [
       "<Figure size 640x480 with 1 Axes>"
      ]
     },
     "metadata": {},
     "output_type": "display_data"
    }
   ],
   "source": [
    "big_query = \"CTGAAACGGAGCTATTAGTGGGGAGAGCTGATGTCCCAGTTCTTGTTTAACTTGGAAGAAAGATTTTCACCAAGAGGCAGTACAAAGATGACAGATAACTTCATTGAAAAGAAATACAGTGTAAACACCTTACTGTAGAAAAATAGGGAGGACAGGGCTGATCGTGCATGAAAACAGCCTAAGAGTCTTGTGCAGGGAAGTTACTCTAACTGTAACTTACAACAACTTAGTAGATTATACTTTTGTAAACAGAAGtgaagcatttatcttttttcttgcttGATTATTTACATAATCAAGCAAAATCtaacaaaacaataatattttaacaataatatttttaaaacaataatagtcTTACTTTGATTATGATCAAAAATGATGGTTACTACAGAGAGAATTTTTATGTTTCAATGGAAAAGTAtaacatggccaggcatggttgcacatgcctataattacagcactttgggaggccaggagttcaacatcagcctgggcaacatggtgaaaccacgtctctaccaaaaatacaaaaattagatgggcatggtggcatgtgcctgtagtcccaggtaatcaggaggctgaggagggaggatcgtttgcacccgggaagtagaggttgcagtgagctgagattgcacctttgcactccagcctaggcgacagagccagatcctgtctcaaaaaaaatttttttaaaggaaaactacagCCATTGTGGGTTATCAGATTCTagtcttgtttcttgtttctggGCTATTTTTACCTCTTTGTAAACTGCATCCTGCCATCTGATGAATTTTGTCCCACAATGATACTTGGGGAACAAGAAGCCAATTATTGTCTCTCCTACTAATGTATCTATTGTCAGTTAATTTGAAGGTCTCCAACCCTGGAACAAAGTTAGAAGAGGAAGGTTCTGCTCCCCAAAATGCATAAccaaattgtggtacattcatGTAATGGAACACTATTTAGCCATAGAAACGAACAA\"\n",
    "index = '12000'\n",
    "import numpy as np\n",
    "query = big_query\n",
    "train_flag = []\n",
    "init_flag = []\n",
    "for i in tqdm(range(len(big_query)-300)):\n",
    "    \n",
    "    returned = checkpoints[\"trained\"][\"pineconestore\"].query([query], top_k=5)[\"matches\"]\n",
    "    trained_positions = [sample[\"metadata\"][\"position\"] for sample in returned]\n",
    "    \n",
    "    returned = checkpoints[\"init\"][\"pineconestore\"].query([query], top_k=5)[\"matches\"]\n",
    "    init_positions = [sample[\"metadata\"][\"position\"] for sample in returned]\n",
    "    if index in trained_positions:\n",
    "        train_flag.append(1)\n",
    "    else:\n",
    "        train_flag.append(0)\n",
    "    \n",
    "    if index in init_positions:\n",
    "        init_flag.append(1)\n",
    "    else:\n",
    "        init_flag.append(0)\n",
    "        \n",
    "    if np.random.rand() > 0.5:\n",
    "        query = query[1:]\n",
    "    else:\n",
    "        query = query[:-1]\n",
    "\n",
    "plt.plot(range(len(big_query)-300), train_flag, label=\"train\")\n",
    "plt.plot(range(len(big_query)-300), init_flag, label=\"init\")\n",
    "plt.legend()\n",
    "plt.show()"
   ]
  },
  {
   "cell_type": "code",
   "execution_count": 6,
   "metadata": {},
   "outputs": [
    {
     "data": {
      "image/png": "[encoded data removed]",
      "text/plain": [
       "<Figure size 640x480 with 1 Axes>"
      ]
     },
     "metadata": {},
     "output_type": "display_data"
    }
   ],
   "source": [
    "big_query = \"CTGAAACGGAGCTATTAGTGGGGAGAGCTGATGTCCCAGTTCTTGTTTAACTTGGAAGAAAGATTTTCACCAAGAGGCAGTACAAAGATGACAGATAACTTCATTGAAAAGAAATACAGTGTAAACACCTTACTGTAGAAAAATAGGGAGGACAGGGCTGATCGTGCATGAAAACAGCCTAAGAGTCTTGTGCAGGGAAGTTACTCTAACTGTAACTTACAACAACTTAGTAGATTATACTTTTGTAAACAGAAGtgaagcatttatcttttttcttgcttGATTATTTACATAATCAAGCAAAATCtaacaaaacaataatattttaacaataatatttttaaaacaataatagtcTTACTTTGATTATGATCAAAAATGATGGTTACTACAGAGAGAATTTTTATGTTTCAATGGAAAAGTAtaacatggccaggcatggttgcacatgcctataattacagcactttgggaggccaggagttcaacatcagcctgggcaacatggtgaaaccacgtctctaccaaaaatacaaaaattagatgggcatggtggcatgtgcctgtagtcccaggtaatcaggaggctgaggagggaggatcgtttgcacccgggaagtagaggttgcagtgagctgagattgcacctttgcactccagcctaggcgacagagccagatcctgtctcaaaaaaaatttttttaaaggaaaactacagCCATTGTGGGTTATCAGATTCTagtcttgtttcttgtttctggGCTATTTTTACCTCTTTGTAAACTGCATCCTGCCATCTGATGAATTTTGTCCCACAATGATACTTGGGGAACAAGAAGCCAATTATTGTCTCTCCTACTAATGTATCTATTGTCAGTTAATTTGAAGGTCTCCAACCCTGGAACAAAGTTAGAAGAGGAAGGTTCTGCTCCCCAAAATGCATAAccaaattgtggtacattcatGTAATGGAACACTATTTAGCCATAGAAACGAACAA\"\n",
    "index = '12000'\n",
    "from tqdm import tqdm\n",
    "import numpy as np\n",
    "query = big_query\n",
    "train_flag = []\n",
    "init_flag = []\n",
    "for i in tqdm(range(len(big_query)-300)):\n",
    "    \n",
    "    returned = checkpoints[\"trained\"][\"pineconestore\"].query([query], top_k=2)[\"matches\"]\n",
    "    trained_positions = [sample[\"metadata\"][\"position\"] for sample in returned]\n",
    "    \n",
    "    returned = checkpoints[\"init\"][\"pineconestore\"].query([query], top_k=2)[\"matches\"]\n",
    "    init_positions = [sample[\"metadata\"][\"position\"] for sample in returned]\n",
    "    if index in trained_positions:\n",
    "        train_flag.append(1)\n",
    "    else:\n",
    "        train_flag.append(0)\n",
    "    \n",
    "    if index in init_positions:\n",
    "        init_flag.append(1)\n",
    "    else:\n",
    "        init_flag.append(0)\n",
    "        \n",
    "    if np.random.rand() > 0.5:\n",
    "        query = query[1:]\n",
    "    else:\n",
    "        query = query[:-1]\n",
    "import matplotlib.pyplot as plt\n",
    "plt.plot(range(len(big_query)-300), train_flag, label=\"train\")\n",
    "plt.plot(range(len(big_query)-300), init_flag, label=\"init\")\n",
    "plt.legend()\n",
    "plt.show()"
   ]
  },
  {
   "cell_type": "code",
   "execution_count": 8,
   "metadata": {},
   "outputs": [
    {
     "name": "stdout",
     "output_type": "stream",
     "text": [
      "Trained\n"
     ]
    },
    {
     "name": "stderr",
     "output_type": "stream",
     "text": [
      "100%|██████████| 1000/1000 [00:50<00:00, 19.62it/s]\n"
     ]
    },
    {
     "name": "stdout",
     "output_type": "stream",
     "text": [
      "Average distance:  94969201.418\n",
      "Edit distance:  887167\n",
      "Init\n"
     ]
    },
    {
     "name": "stderr",
     "output_type": "stream",
     "text": [
      "100%|██████████| 1000/1000 [03:10<00:00,  5.24it/s]"
     ]
    },
    {
     "name": "stdout",
     "output_type": "stream",
     "text": [
      "Average distance:  195319923.792\n",
      "Edit distance:  844198\n"
     ]
    },
    {
     "name": "stderr",
     "output_type": "stream",
     "text": [
      "\n"
     ]
    }
   ],
   "source": [
    "import editdistance\n",
    "with open(\"/home/pholur/dna2vec/tests/data/subsequences_sample_test.txt\", \"r\") as f:\n",
    "    lines = f.readlines()\n",
    "\n",
    "print(\"Trained\")\n",
    "distance = 0\n",
    "total_edit = 0\n",
    "\n",
    "from tqdm import tqdm\n",
    "for line in tqdm(lines):\n",
    "    text = line.split(\" <> \")[0]\n",
    "    index_scraped = int(line.split(\" <> \")[1])\n",
    "    returned_raw = checkpoints[\"trained\"][\"pineconestore\"].query([text], top_k=1)\n",
    "    returned = int(returned_raw[\"matches\"][0][\"metadata\"][\"position\"])\n",
    "    distance += abs(index_scraped - returned)\n",
    "    total_edit += editdistance.eval(text, returned_raw[\"matches\"][0][\"metadata\"][\"text\"])\n",
    "\n",
    "    \n",
    "print(\"Average distance: \", distance / len(lines))\n",
    "print(\"Edit distance: \", total_edit)\n",
    "\n",
    "print(\"Init\")\n",
    "total_edit = 0\n",
    "for line in tqdm(lines):\n",
    "    text = line.split(\" <> \")[0]\n",
    "    index_scraped = int(line.split(\" <> \")[1])\n",
    "    returned_raw = checkpoints[\"init\"][\"pineconestore\"].query([text], top_k=1)\n",
    "    returned = int(returned_raw[\"matches\"][0][\"metadata\"][\"position\"])\n",
    "    distance += abs(index_scraped - returned)\n",
    "    total_edit += editdistance.eval(text, returned_raw[\"matches\"][0][\"metadata\"][\"text\"])\n",
    "    \n",
    "print(\"Average distance: \", distance / len(lines))\n",
    "print(\"Edit distance: \", total_edit)"
   ]
  },
  {
   "cell_type": "code",
   "execution_count": 6,
   "metadata": {},
   "outputs": [
    {
     "name": "stdout",
     "output_type": "stream",
     "text": [
      "121096764.5\n"
     ]
    }
   ],
   "source": [
    "import os\n",
    "with open(os.path.join(\"/home/pholur/dna2vec/tests/data/NC_000002.12.txt\"), \"r\") as f:\n",
    "    sequence = f.read()\n",
    "    print(len(sequence)/2)"
   ]
  },
  {
   "cell_type": "code",
   "execution_count": 36,
   "metadata": {},
   "outputs": [
    {
     "name": "stdout",
     "output_type": "stream",
     "text": [
      "Trained\n"
     ]
    },
    {
     "name": "stderr",
     "output_type": "stream",
     "text": [
      "100%|██████████| 1000/1000 [00:50<00:00, 19.65it/s]\n"
     ]
    },
    {
     "name": "stdout",
     "output_type": "stream",
     "text": [
      "Init\n"
     ]
    },
    {
     "name": "stderr",
     "output_type": "stream",
     "text": [
      "100%|██████████| 1000/1000 [03:13<00:00,  5.17it/s]\n",
      "100%|██████████| 1000/1000 [00:51<00:00, 19.51it/s]\n"
     ]
    },
    {
     "name": "stdout",
     "output_type": "stream",
     "text": [
      "Init\n"
     ]
    },
    {
     "name": "stderr",
     "output_type": "stream",
     "text": [
      "100%|██████████| 1000/1000 [03:12<00:00,  5.19it/s]\n",
      "100%|██████████| 1000/1000 [00:52<00:00, 18.95it/s]\n"
     ]
    },
    {
     "name": "stdout",
     "output_type": "stream",
     "text": [
      "Init\n"
     ]
    },
    {
     "name": "stderr",
     "output_type": "stream",
     "text": [
      "100%|██████████| 1000/1000 [03:14<00:00,  5.15it/s]\n",
      "100%|██████████| 1000/1000 [00:53<00:00, 18.82it/s]\n"
     ]
    },
    {
     "name": "stdout",
     "output_type": "stream",
     "text": [
      "Init\n"
     ]
    },
    {
     "name": "stderr",
     "output_type": "stream",
     "text": [
      "100%|██████████| 1000/1000 [03:16<00:00,  5.08it/s]\n",
      "100%|██████████| 1000/1000 [00:56<00:00, 17.55it/s]\n"
     ]
    },
    {
     "name": "stdout",
     "output_type": "stream",
     "text": [
      "Init\n"
     ]
    },
    {
     "name": "stderr",
     "output_type": "stream",
     "text": [
      "100%|██████████| 1000/1000 [03:18<00:00,  5.03it/s]\n"
     ]
    }
   ],
   "source": [
    "print(\"Trained\")\n",
    "from tqdm import tqdm\n",
    "import numpy as np\n",
    "mapper_train = {}\n",
    "mapper_init = {}\n",
    "distance = 0\n",
    "\n",
    "for k in [1,2,5,10,20]:\n",
    "    distance = 0\n",
    "    for line in tqdm(lines):\n",
    "        text = line.split(\" <> \")[0]\n",
    "        index_scraped = int(line.split(\" <> \")[1])\n",
    "        returned_raw = checkpoints[\"trained\"][\"pineconestore\"].query([text], top_k=k)\n",
    "        offsets =  [abs(index_scraped - int(returned_raw[\"matches\"][i][\"metadata\"][\"position\"])) for i in range(k)]\n",
    "        returned = int(returned_raw[\"matches\"][np.argmin(offsets)][\"metadata\"][\"position\"])\n",
    "        distance += abs(index_scraped - returned)\n",
    "        \n",
    "    mapper_train[k] = distance/len(lines)\n",
    "\n",
    "    print(\"Init\")\n",
    "    distance = 0\n",
    "    for line in tqdm(lines):\n",
    "        text = line.split(\" <> \")[0]\n",
    "        index_scraped = int(line.split(\" <> \")[1])\n",
    "        returned_raw = checkpoints[\"init\"][\"pineconestore\"].query([text], top_k=k)\n",
    "        offsets =  [abs(index_scraped - int(returned_raw[\"matches\"][i][\"metadata\"][\"position\"])) for i in range(k)]\n",
    "        returned = int(returned_raw[\"matches\"][np.argmin(offsets)][\"metadata\"][\"position\"])\n",
    "        distance += abs(index_scraped - returned)\n",
    "    \n",
    "    mapper_init[k] = distance/len(lines)"
   ]
  },
  {
   "cell_type": "code",
   "execution_count": 37,
   "metadata": {},
   "outputs": [
    {
     "data": {
      "text/plain": [
       "{1: 100350722.374,\n",
       " 2: 74253937.0,\n",
       " 5: 41191574.226,\n",
       " 10: 23767714.728,\n",
       " 20: 12152399.94}"
      ]
     },
     "execution_count": 37,
     "metadata": {},
     "output_type": "execute_result"
    }
   ],
   "source": [
    "mapper_init"
   ]
  },
  {
   "cell_type": "code",
   "execution_count": 38,
   "metadata": {},
   "outputs": [
    {
     "data": {
      "text/plain": [
       "<matplotlib.legend.Legend at 0x7f0689b03810>"
      ]
     },
     "execution_count": 38,
     "metadata": {},
     "output_type": "execute_result"
    },
    {
     "data": {
      "image/png": "[encoded data removed]",
      "text/plain": [
       "<Figure size 640x480 with 1 Axes>"
      ]
     },
     "metadata": {},
     "output_type": "display_data"
    }
   ],
   "source": [
    "training_list = [mapper_train[k] for k in [1,2,5,10,20]]\n",
    "init_list = [mapper_init[k] for k in [1,2,5,10,20]]\n",
    "import matplotlib.pyplot as plt\n",
    "plt.plot([1,2,5,10,20], training_list, label=\"Train\")\n",
    "plt.plot([1,2,5,10,20], init_list, label=\"Init\")\n",
    "plt.legend()"
   ]
  },
  {
   "attachments": {},
   "cell_type": "markdown",
   "metadata": {},
   "source": [
    "## Edit Distance"
   ]
  },
  {
   "cell_type": "code",
   "execution_count": 23,
   "metadata": {},
   "outputs": [
    {
     "name": "stdout",
     "output_type": "stream",
     "text": [
      "Trained.\n",
      "160\n",
      "{'position': '121611960', 'text': 'GGCATTGGAGGAGTTACAGGATAAAGTggaactggaggaggaggagaaggagttacaggaggaagaggaactggAAGAGGAGGAGttacaggaggaagaggaactggaggaggaggagttggaggagttacaggagaaagaggaactggaggaggaggaggagttacaggaggaagaggaactggaggaggaggagttggaggagtttcaggaggaagaggatgaggaggaggagttaCAGGCAgaa'}\n",
      "133\n",
      "{'position': '121610571', 'text': 'ggaagaggaactggagaaggaggaggaggagttgcaggaggaagaggaactggaggaggaggaggagttacaggaggaagaggaactggaggaggaggagttggaggagttacaggagaaagaggaactggagaaggaggaggaggagttacaggagaaagaggaactggaggaggaagagttacaggaggaagaggaactggaggaggaggaaga'}\n",
      "136\n",
      "{'position': '172923968', 'text': 'taaaaaaaatctttgtatgtTGAGTCAAGCTCTAGAAAATCAGGCTCATAAAGATTCTAAAGGAACAAACTGATCTTGCCACCATTTTGGACATGGATGTCCCAAATTATCCATCCTACAACAAATAATACACAAATCATTTGCCaaataaagaaga'}\n",
      "143\n",
      "{'position': '133054186', 'text': 'GTTTACCCAGAAACTCAATTATTCCTTCCACAAACATTGATGGAGATCACACCTTGTTTAATAAAGTATTAGCAATATGATGGTATGTTACCTCCCCACCCCAGTAGGGAGAGAACCTGTACAGAAATAACCATAGAACAAAGCCAAATATG'}\n",
      "141\n",
      "{'position': '104221503', 'text': 'aaaagatTTGTTCTAATTTGTATTTGTGTCAAATGCCTTCCTGCTATATGAATATCCACTTCAAATCTTCCAGTTCCTGGGGTGGCTAAGGAAGCCTGCAATGCTGACCTATGGTGGGTATTAATGGACAACACCTGCAATACATTCTACACATGGACTATTTGAA'}\n",
      "Baseline.\n"
     ]
    },
    {
     "name": "stderr",
     "output_type": "stream",
     "text": [
      "/mnt/SSD2/pholur/environments/dna2vec/lib/python3.11/site-packages/torch/nn/modules/transformer.py:562: UserWarning: Converting mask without torch.bool dtype to bool; this will negatively affect performance. Prefer to use a boolean mask directly. (Triggered internally at ../aten/src/ATen/native/transformers/attention.cpp:150.)\n",
      "  return torch._transformer_encoder_layer_fwd(\n"
     ]
    },
    {
     "name": "stdout",
     "output_type": "stream",
     "text": [
      "192\n",
      "{'position': '134865024', 'text': 'gcaAAATCTTTAATAATGACTTAAATAGATGTTTGTGGACTCACCAGGCACTGTGACTACTGATCATTTACTCATTTAGTATTTACTGAGGTCTAACTACAGGCAAAAAATTTTCCATGTTTGTATCTATGGCGACTGCCCACCAGTCAGGAGATTGCCTGTTAAATTGCCTTCTAATGACTTGAAAGATTTAATGTTCCTCAATATACTGAACTCCCTGAAGCTTACTGGCTG'}\n",
      "147\n",
      "{'position': '85754925', 'text': 'TCAGCGCAGCCTTCGAGGCGCTCAGGAAGCAGGTACCCGCTCGCCGCCGCACGCCCTCACTGCGCCGGGGGACGACTGCGGGAATGGGTGGGCGAGTGGCCGGGGCGGGATAGAGGTGTGTTTAAGGGGCAAGCTGCCCCGCCCGGTCCGAC'}\n",
      "190\n",
      "{'position': '242047020', 'text': 'CGATGGGCTCCCCGCAGCGGAGACAGACGCCGGGGCGGCGATGGGCTCCCCGCAGCGGAGACAGACGCCGGGGCGGCGATGGGCTCCCCGCAGCGGAGACAGACGCCGGGGCGGCGATGGGCTCCCCGCAGCGGAGAGAGACGCCGGGGCGGCGATGGGCTCCCCGCAGCGGAGAGAGACGCCGGGGCCGCGATGGGCTCCCCGCAGCGGAGAGAGA'}\n",
      "142\n",
      "{'position': '174813138', 'text': 'TACTTTTTTCCCTCATATTATATctgagaaaaccaaacacagaagTAATAAGTAATTTACCCAAGGCCATGCATTTAGTACACAGTGGAACAGAACTCAAGCCTATGGATGATTCTAgagtccacattttaaaaatgtttactgtttAATTACAAAGGATATAGCTGAAGAGACGTATAGGATGAGGTATGGGGAAAGGGGT'}\n",
      "176\n",
      "{'position': '219442147', 'text': 'GGCGGGTCACCGCAGCTGGGCCCGGTGGAGGGGGCGCTGGATCGGCGCCTGCCCCACCCGAGCCCCGCCGAGGGCGGCGGGCCGGGCGCGATCTAGGGGCGCCCGGGTCTGTGTCCTGAGCGCGCAGGCCCCTCCCCGCGCTGAAGGGCAGATCCCCCGCTCCCCGATCGCCCGCAATCCCCGCGACCACCGGGGAAGGCCC'}\n"
     ]
    }
   ],
   "source": [
    "import editdistance\n",
    "query = \"aagaagacctagtatttgacagcacaacagggtgaatATAATCATAATgactgcacattttaaaataatgaaaagagtagaattggattgtaacacaaaggagaaatgtttgaggggatggataccccgtTTACCCTGATGTGGTTATTGCATGTTGCATGT\" # <> 158078701\n",
    "\n",
    "# query = \"tgtgcccggccaatttttctctttaaaccCATTTACATTGTTTGAATTTTCTACCTGAGCAggaatttctttaataattaaaaaaaatcttccttaaCATTTAAGGGTCAGAGTCACCTATTACTGAACATGCCATTATTCCTGTAATCTGCATACCCCTTTGTTCATTCTGTGT\" # 1838202\n",
    "\n",
    "print(\"Trained.\")\n",
    "returned = checkpoints[\"trained\"][\"pineconestore\"].query([query])[\"matches\"]\n",
    "for sample in returned:\n",
    "    returned_marg = sample[\"metadata\"]\n",
    "    print(editdistance.eval(query, returned_marg[\"text\"]))\n",
    "    print(returned_marg)\n",
    "\n",
    "print(\"Baseline.\")\n",
    "returned = checkpoints[\"init\"][\"pineconestore\"].query([query])[\"matches\"]\n",
    "for sample in returned:\n",
    "    returned_marg = sample[\"metadata\"]\n",
    "    print(editdistance.eval(query, returned_marg[\"text\"]))\n",
    "    print(returned_marg)"
   ]
  },
  {
   "cell_type": "code",
   "execution_count": null,
   "metadata": {},
   "outputs": [],
   "source": [
    "# Compute the edit distances\n",
    "# 10-most similar"
   ]
  }
 ],
 "metadata": {
  "kernelspec": {
   "display_name": "Python 3",
   "language": "python",
   "name": "python3"
  },
  "language_info": {
   "codemirror_mode": {
    "name": "ipython",
    "version": 3
   },
   "file_extension": ".py",
   "mimetype": "text/x-python",
   "name": "python",
   "nbconvert_exporter": "python",
   "pygments_lexer": "ipython3",
   "version": "3.11.3"
  },
  "orig_nbformat": 4
 },
 "nbformat": 4,
 "nbformat_minor": 2
}
