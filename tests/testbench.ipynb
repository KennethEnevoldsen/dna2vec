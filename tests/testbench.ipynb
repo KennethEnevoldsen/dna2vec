{
 "cells": [
  {
   "cell_type": "code",
   "execution_count": 2,
   "metadata": {},
   "outputs": [
    {
     "name": "stdout",
     "output_type": "stream",
     "text": [
      "The autoreload extension is already loaded. To reload it, use:\n",
      "  %reload_ext autoreload\n"
     ]
    }
   ],
   "source": [
    "%load_ext autoreload\n",
    "%autoreload 2\n",
    "\n",
    "import sys\n",
    "sys.path.append(\"../src/\")\n",
    "import torch"
   ]
  },
  {
   "cell_type": "code",
   "execution_count": 3,
   "metadata": {},
   "outputs": [],
   "source": [
    "checkpoint_path = \"/mnt/SSD5/pholur/checkpoints/checkpoint.pt\"\n",
    "from dna2vec.trainer import ContrastiveTrainer\n",
    "from dna2vec.model import model_from_config\n",
    "# The path for the tokenizer isn't relative.\n",
    "checkpoint = torch.load(checkpoint_path)\n",
    "config = checkpoint[\"config\"]\n",
    "config.model_config.tokenizer_path = \"/home/pholur/dna2vec/src/model/tokenizers/dna_tokenizer_10k.json\"\n",
    "encoder, pooling, tokenizer = model_from_config(config.model_config)"
   ]
  },
  {
   "cell_type": "code",
   "execution_count": 4,
   "metadata": {},
   "outputs": [
    {
     "data": {
      "text/plain": [
       "Encoder(\n",
       "  (emb_dropout): Dropout(p=0.1, inplace=False)\n",
       "  (positional_embedding): SinusoidalPositionalEncoding()\n",
       "  (embedding): Embedding(10004, 384)\n",
       "  (trf_encoder): TransformerEncoder(\n",
       "    (layers): ModuleList(\n",
       "      (0-5): 6 x TransformerEncoderLayer(\n",
       "        (self_attn): MultiheadAttention(\n",
       "          (out_proj): NonDynamicallyQuantizableLinear(in_features=384, out_features=384, bias=True)\n",
       "        )\n",
       "        (linear1): Linear(in_features=384, out_features=1536, bias=True)\n",
       "        (dropout): Dropout(p=0.1, inplace=False)\n",
       "        (linear2): Linear(in_features=1536, out_features=384, bias=True)\n",
       "        (norm1): LayerNorm((384,), eps=1e-05, elementwise_affine=True)\n",
       "        (norm2): LayerNorm((384,), eps=1e-05, elementwise_affine=True)\n",
       "        (dropout1): Dropout(p=0.1, inplace=False)\n",
       "        (dropout2): Dropout(p=0.1, inplace=False)\n",
       "      )\n",
       "    )\n",
       "  )\n",
       ")"
      ]
     },
     "execution_count": 4,
     "metadata": {},
     "output_type": "execute_result"
    }
   ],
   "source": [
    "encoder"
   ]
  },
  {
   "cell_type": "code",
   "execution_count": 5,
   "metadata": {},
   "outputs": [
    {
     "name": "stderr",
     "output_type": "stream",
     "text": [
      "/mnt/SSD2/pholur/environments/dna2vec/lib/python3.11/site-packages/pinecone/index.py:4: TqdmWarning: IProgress not found. Please update jupyter and ipywidgets. See https://ipywidgets.readthedocs.io/en/stable/user_install.html\n",
      "  from tqdm.autonotebook import tqdm\n"
     ]
    }
   ],
   "source": [
    "from dna2vec.pinecone_store import PineconeStore\n",
    "pinecone_store = PineconeStore(\n",
    "    device = torch.device(\"cuda:4\"),\n",
    "    index_name = \"dna-1-0504\",\n",
    "    metric = \"cosine\",\n",
    "    model_params = {\n",
    "        \"tokenizer\": tokenizer,\n",
    "        \"model\": encoder,\n",
    "        \"pooling\": pooling\n",
    "    }\n",
    ")"
   ]
  },
  {
   "cell_type": "code",
   "execution_count": 15,
   "metadata": {},
   "outputs": [
    {
     "name": "stderr",
     "output_type": "stream",
     "text": [
      "/mnt/SSD2/pholur/environments/dna2vec/lib/python3.11/site-packages/torch/nn/modules/transformer.py:562: UserWarning: Converting mask without torch.bool dtype to bool; this will negatively affect performance. Prefer to use a boolean mask directly. (Triggered internally at ../aten/src/ATen/native/transformers/attention.cpp:150.)\n",
      "  return torch._transformer_encoder_layer_fwd(\n"
     ]
    },
    {
     "name": "stdout",
     "output_type": "stream",
     "text": [
      "{'position': '634329', 'text': 'CACTCTGACCATCTGCATGCATAtctatctgtatttatttattttgggacag'}\n",
      "{'position': '2185158', 'text': 'CACTCTTATATACAAGCCTCCTTATAAAAGGCCtagacttaaaaataataataatagcaaacacaT'}\n",
      "{'position': '2474297', 'text': 'CACTCTCTTTCCCTGGAAGTTCTCAACCCTCATATTCCATATCCAACTATAATGT'}\n",
      "{'position': '1279245', 'text': 'CACTCTTATCGGATGTAGTCATGTCACATAAGGGCTACTGAAGTGCAAGAGCAGTGATGCTGGTATacagtaataattgttttattattcatttctatT'}\n",
      "{'position': '1427912', 'text': 'CACTCTGGGCATTACTGGGATGACAGACAGAAGAGCTAAAGGAGTGTTATTATTTAATCAAATGAAGCTATTG'}\n"
     ]
    }
   ],
   "source": [
    "query = \"caccaacagtgtaaaagcgttcctatttctccacatcctctccagcatctgttgtttcctttttaatgatcgccat\" #1195337\n",
    "# query = \"tgtgcccggccaatttttctctttaaaccCATTTACATTGTTTGAATTTTCTACCTGAGCAggaatttctttaataattaaaaaaaatcttccttaaCATTTAAGGGTCAGAGTCACCTATTACTGAACATGCCATTATTCCTGTAATCTGCATACCCCTTTGTTCATTCTGTGT\" # 1838202\n",
    "\n",
    "returned = pinecone_store.query([query])[\"matches\"]\n",
    "for sample in returned:\n",
    "    returned = sample[\"metadata\"]\n",
    "    print(returned)"
   ]
  },
  {
   "cell_type": "code",
   "execution_count": 17,
   "metadata": {},
   "outputs": [
    {
     "name": "stderr",
     "output_type": "stream",
     "text": [
      "100%|██████████| 1000/1000 [03:24<00:00,  4.90it/s]"
     ]
    },
    {
     "name": "stdout",
     "output_type": "stream",
     "text": [
      "Average distance:  1023152.533\n"
     ]
    },
    {
     "name": "stderr",
     "output_type": "stream",
     "text": [
      "\n"
     ]
    }
   ],
   "source": [
    "with open(\"/home/pholur/dna2vec/tests/data/subsequences_sample_test.txt\", \"r\") as f:\n",
    "    lines = f.readlines()\n",
    "\n",
    "distance = 0\n",
    "from tqdm import tqdm\n",
    "for line in tqdm(lines):\n",
    "    text = line.split(\" <> \")[0]\n",
    "    index_scraped = int(line.split(\" <> \")[1])\n",
    "    returned_raw = pinecone_store.query([text], top_k=1)\n",
    "    returned = int(returned_raw[\"matches\"][0][\"metadata\"][\"position\"])\n",
    "    distance += abs(index_scraped - returned)\n",
    "    \n",
    "print(\"Average distance: \", distance / len(lines))"
   ]
  },
  {
   "cell_type": "code",
   "execution_count": 18,
   "metadata": {},
   "outputs": [
    {
     "name": "stdout",
     "output_type": "stream",
     "text": [
      "1644887.0\n"
     ]
    }
   ],
   "source": [
    "import os\n",
    "with open(os.path.join(\"/home/pholur/dna2vec/tests/data/NC_000002.12.txt\"), \"r\") as f:\n",
    "    sequence = f.read()\n",
    "    print(len(sequence)/2)"
   ]
  },
  {
   "cell_type": "code",
   "execution_count": null,
   "metadata": {},
   "outputs": [],
   "source": [
    "# Compute the edit distances\n",
    "# 10-most similar"
   ]
  }
 ],
 "metadata": {
  "kernelspec": {
   "display_name": "Python 3",
   "language": "python",
   "name": "python3"
  },
  "language_info": {
   "codemirror_mode": {
    "name": "ipython",
    "version": 3
   },
   "file_extension": ".py",
   "mimetype": "text/x-python",
   "name": "python",
   "nbconvert_exporter": "python",
   "pygments_lexer": "ipython3",
   "version": "3.11.3"
  },
  "orig_nbformat": 4
 },
 "nbformat": 4,
 "nbformat_minor": 2
}
