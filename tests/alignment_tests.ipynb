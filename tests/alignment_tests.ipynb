{
 "cells": [
  {
   "cell_type": "code",
   "execution_count": 1,
   "metadata": {},
   "outputs": [
    {
     "name": "stderr",
     "output_type": "stream",
     "text": [
      "/mnt/SSD2/pholur/environments/dna2vec/lib/python3.11/site-packages/Bio/pairwise2.py:278: BiopythonDeprecationWarning: Bio.pairwise2 has been deprecated, and we intend to remove it in a future release of Biopython. As an alternative, please consider using Bio.Align.PairwiseAligner as a replacement, and contact the Biopython developers if you still need the Bio.pairwise2 module.\n",
      "  warnings.warn(\n"
     ]
    }
   ],
   "source": [
    "%load_ext autoreload\n",
    "%autoreload 2\n",
    "from alignment_metrics import   calculate_smith_waterman_distance, \\\n",
    "                                calculate_needleman_wunsch_distance"
   ]
  },
  {
   "cell_type": "code",
   "execution_count": 2,
   "metadata": {},
   "outputs": [],
   "source": [
    "string1 = \"ATGCTCGATCGATCGATCGAAATCGC\"\n",
    "string2 = \"ATCGCCCTAGCTCCTCTGACTCAAGAAGACTCGAATGCTCGATCGATCGATCGAAATCGCAGCCTCGAAGCCTCTTGAAA\""
   ]
  },
  {
   "cell_type": "code",
   "execution_count": 24,
   "metadata": {},
   "outputs": [
    {
     "name": "stdout",
     "output_type": "stream",
     "text": [
      "Best match:\n",
      " 1 ATGCTCGATCGATCGATCGAAATCGC\n",
      "   ||||||||||||||||||||||||||\n",
      "35 ATGCTCGATCGATCGATCGAAATCGC\n",
      "  Score=52\n",
      "\n"
     ]
    },
    {
     "data": {
      "text/plain": [
       "{'elapsed time': 0.002285003662109375, 'distance': -52.0, 'begins': [34]}"
      ]
     },
     "execution_count": 24,
     "metadata": {},
     "output_type": "execute_result"
    }
   ],
   "source": [
    "calculate_smith_waterman_distance(string1, \n",
    "                                    string2, \n",
    "                                    match_score=2,\n",
    "                                    mismatch_penalty=-1,\n",
    "                                    open_gap_penalty=-0.5,\n",
    "                                    continue_gap_penalty=-0.1,\n",
    "                                    debug = True)"
   ]
  },
  {
   "cell_type": "code",
   "execution_count": 20,
   "metadata": {},
   "outputs": [
    {
     "name": "stdout",
     "output_type": "stream",
     "text": [
      "Best match:\n",
      "----------------------------------ATGCTCGATCGATCGATCGAAATCGC--------------------\n",
      "                                  ||||||||||||||||||||||||||                    \n",
      "ATCGCCCTAGCTCCTCTGACTCAAGAAGACTCGAATGCTCGATCGATCGATCGAAATCGCAGCCTCGAAGCCTCTTGAAA\n",
      "  Score=45.8\n",
      "\n",
      "Alignment(seqA='----------------------------------ATGCTCGATCGATCGATCGAAATCGC--------------------', seqB='ATCGCCCTAGCTCCTCTGACTCAAGAAGACTCGAATGCTCGATCGATCGATCGAAATCGCAGCCTCGAAGCCTCTTGAAA', score=45.799999999999976, start=0, end=80)\n",
      "Alignment(seqA='A----------------------------------TGCTCGATCGATCGATCGAAATCGC--------------------', seqB='ATCGCCCTAGCTCCTCTGACTCAAGAAGACTCGAATGCTCGATCGATCGATCGAAATCGCAGCCTCGAAGCCTCTTGAAA', score=45.799999999999976, start=0, end=80)\n",
      "Alignment(seqA='AT----------------------------------GCTCGATCGATCGATCGAAATCGC--------------------', seqB='ATCGCCCTAGCTCCTCTGACTCAAGAAGACTCGAATGCTCGATCGATCGATCGAAATCGCAGCCTCGAAGCCTCTTGAAA', score=45.799999999999976, start=0, end=80)\n"
     ]
    },
    {
     "data": {
      "text/plain": [
       "{'elapsed time': 0.0013706684112548828,\n",
       " 'distance': -45.799999999999976,\n",
       " 'begins': [0, 0, 0]}"
      ]
     },
     "execution_count": 20,
     "metadata": {},
     "output_type": "execute_result"
    }
   ],
   "source": [
    "calculate_needleman_wunsch_distance(string1, \n",
    "                                    string2, \n",
    "                                    match_score=2,\n",
    "                                    mismatch_penalty=-1,\n",
    "                                    open_gap_penalty=-0.5,\n",
    "                                    continue_gap_penalty=-0.1,\n",
    "                                    debug = True)"
   ]
  },
  {
   "cell_type": "code",
   "execution_count": 17,
   "metadata": {},
   "outputs": [
    {
     "name": "stdout",
     "output_type": "stream",
     "text": [
      "Help on alignment_function in module Bio.pairwise2 object:\n",
      "\n",
      "localds = class alignment_function(builtins.object)\n",
      " |  localds(name)\n",
      " |  \n",
      " |  localds(sequenceA, sequenceB, match_dict, open, extend) -> alignments\n",
      " |  \n",
      " |  The following parameters can also be used with optional\n",
      " |  keywords of the same name.\n",
      " |  \n",
      " |  \n",
      " |  sequenceA and sequenceB must be of the same type, either\n",
      " |  strings, lists or Biopython sequence objects.\n",
      " |  \n",
      " |  \n",
      " |  match_dict is a dictionary where the keys are tuples\n",
      " |  of pairs of characters and the values are the scores,\n",
      " |  e.g. ('A', 'C') : 2.5.\n",
      " |  \n",
      " |  open and extend are the gap penalties when a gap is\n",
      " |  opened and extended.  They should be negative.\n",
      " |  \n",
      " |  alignments is a list of named tuples (seqA, seqB, score,\n",
      " |  begin, end). seqA and seqB are strings showing the alignment\n",
      " |  between the sequences.  score is the score of the alignment.\n",
      " |  begin and end are indexes of seqA and seqB that indicate\n",
      " |  where the alignment occurs.\n",
      " |  \n",
      " |  Methods defined here:\n",
      " |  \n",
      " |  __call__(self, *args, **keywds)\n",
      " |      Call the alignment instance already created.\n",
      " |  \n",
      " |  __init__(self, name)\n",
      " |      Check to make sure the name of the function is reasonable.\n",
      " |  \n",
      " |  decode(self, *args, **keywds)\n",
      " |      Decode the arguments for the _align function.\n",
      " |      \n",
      " |      keywds will get passed to it, so translate the arguments\n",
      " |      to this function into forms appropriate for _align.\n",
      " |  \n",
      " |  ----------------------------------------------------------------------\n",
      " |  Data descriptors defined here:\n",
      " |  \n",
      " |  __dict__\n",
      " |      dictionary for instance variables (if defined)\n",
      " |  \n",
      " |  __weakref__\n",
      " |      list of weak references to the object (if defined)\n",
      " |  \n",
      " |  ----------------------------------------------------------------------\n",
      " |  Data and other attributes defined here:\n",
      " |  \n",
      " |  match2args = {'c': (['match_fn'], 'match_fn is a callback function tha...\n",
      " |  \n",
      " |  penalty2args = {'c': (['gap_A_fn', 'gap_B_fn'], 'gap_A_fn and gap_B_fn...\n",
      "\n"
     ]
    }
   ],
   "source": [
    "from Bio import pairwise2\n",
    "\n",
    "help(pairwise2.align.localds)"
   ]
  }
 ],
 "metadata": {
  "kernelspec": {
   "display_name": "Python 3",
   "language": "python",
   "name": "python3"
  },
  "language_info": {
   "codemirror_mode": {
    "name": "ipython",
    "version": 3
   },
   "file_extension": ".py",
   "mimetype": "text/x-python",
   "name": "python",
   "nbconvert_exporter": "python",
   "pygments_lexer": "ipython3",
   "version": "3.11.3"
  },
  "orig_nbformat": 4
 },
 "nbformat": 4,
 "nbformat_minor": 2
}
