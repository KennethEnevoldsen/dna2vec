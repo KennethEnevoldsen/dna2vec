{
 "cells": [
  {
   "cell_type": "code",
   "execution_count": 2,
   "id": "9805c6d1-a620-4283-a099-c8c96086c93d",
   "metadata": {},
   "outputs": [],
   "source": [
    "import torch\n",
    "import torch.nn as nn\n",
    "import torch.nn.functional as F\n",
    "\n",
    "dim = 10\n",
    "batch_size = 16\n",
    "\n",
    "class Encoder(nn.Module):\n",
    "    def __init__(self):\n",
    "        super(Encoder, self).__init__()\n",
    "        self.layers = nn.Sequential(\n",
    "            nn.Linear(384, 128),\n",
    "            nn.BatchNorm1d(128),\n",
    "            nn.ReLU(),\n",
    "            nn.Linear(128, 64),\n",
    "            nn.BatchNorm1d(64),\n",
    "            nn.Linear(64, dim)\n",
    "        )\n",
    "\n",
    "    def forward(self, x):\n",
    "        z = self.layers(x)\n",
    "        return z"
   ]
  },
  {
   "cell_type": "code",
   "execution_count": 3,
   "id": "e2185107",
   "metadata": {},
   "outputs": [],
   "source": [
    "class Decoder(torch.nn.Module):\n",
    "    def __init__(self):\n",
    "        super(Decoder, self).__init__()\n",
    "        self.layers = nn.Sequential(\n",
    "            nn.Linear(dim, 64),\n",
    "            nn.BatchNorm1d(64),\n",
    "            nn.Linear(64, 128),\n",
    "            nn.ReLU(),\n",
    "            nn.BatchNorm1d(128),\n",
    "            nn.Linear(128, 384),\n",
    "            nn.Tanh()\n",
    "        )\n",
    "    def forward(self, z):\n",
    "        x_hat = self.layers(z)\n",
    "        return x_hat"
   ]
  },
  {
   "cell_type": "code",
   "execution_count": 4,
   "id": "cd8c00ca",
   "metadata": {},
   "outputs": [],
   "source": [
    "class Autoencoder(torch.nn.Module):\n",
    "    def __init__(self):\n",
    "        super(Autoencoder, self).__init__()\n",
    "        self.enc = Encoder()\n",
    "        self.dec = Decoder()\n",
    "    def forward(self, x):\n",
    "        z = self.enc(x)\n",
    "        x_hat = self.dec(z)\n",
    "        return x_hat"
   ]
  },
  {
   "cell_type": "code",
   "execution_count": 5,
   "id": "a6bbc15a",
   "metadata": {},
   "outputs": [],
   "source": [
    "import wandb\n",
    "import tqdm\n",
    "import torch.optim\n",
    "\n",
    "def train_vae(vae, data, epochs):\n",
    "    # start a new wandb run to track this script\n",
    "    wandb.init(\n",
    "        # set the wandb project where this run will be logged\n",
    "        project=\"dna2vec-vae\",\n",
    "\n",
    "        # track hyperparameters and run metadata\n",
    "        config={\n",
    "            \"architecture\": \"VAE\",\n",
    "            \"epochs\": epochs\n",
    "        }\n",
    "    )\n",
    "    optim = torch.optim.Adam(vae.parameters(), lr=1e-4)\n",
    "    wandb.watch(vae, F.mse_loss, log=\"all\", log_freq=1)\n",
    "    for epoch in tqdm.tqdm(range(epochs)):\n",
    "        for i, x in enumerate(data):\n",
    "            x = x.to('cuda')\n",
    "            optim.zero_grad()\n",
    "            x_hat = vae(x)\n",
    "            L = F.mse_loss(x, x_hat)\n",
    "            wandb.log({\"loss\": L, \"epoch\": epoch, \"batch\": i})\n",
    "            L.backward()\n",
    "            optim.step()\n",
    "    return vae"
   ]
  },
  {
   "cell_type": "code",
   "execution_count": 6,
   "id": "f3a63cdf",
   "metadata": {},
   "outputs": [],
   "source": [
    "# PATH fix to locate dna2vec package\n",
    "import os, sys\n",
    "sys.path.append(os.getcwd() + \"/../src\")"
   ]
  },
  {
   "cell_type": "code",
   "execution_count": 7,
   "id": "6b3d3b29",
   "metadata": {},
   "outputs": [
    {
     "name": "stderr",
     "output_type": "stream",
     "text": [
      "/mnt/SSD5/jshiffer/miniconda3/envs/dna2vec/lib/python3.11/site-packages/tqdm/auto.py:21: TqdmWarning: IProgress not found. Please update jupyter and ipywidgets. See https://ipywidgets.readthedocs.io/en/stable/user_install.html\n",
      "  from .autonotebook import tqdm as notebook_tqdm\n",
      "/mnt/SSD5/jshiffer/miniconda3/envs/dna2vec/lib/python3.11/site-packages/torch/nn/modules/transformer.py:282: UserWarning: enable_nested_tensor is True, but self.use_nested_tensor is False because encoder_layer.norm_first was True\n",
      "  warnings.warn(f\"enable_nested_tensor is True, but self.use_nested_tensor is False because {why_not_sparsity_fast_path}\")\n"
     ]
    }
   ],
   "source": [
    "from inference_models import EvalModel\n",
    "import torch\n",
    "import yaml\n",
    "\n",
    "with open(\"configs/model_checkpoints.yaml\", 'r') as stream:\n",
    "    checkpoints = yaml.safe_load(stream)\n",
    "\n",
    "from dna2vec.model import model_from_config\n",
    "\n",
    "def _load_model_for_inference(alias, device=\"cuda:3\"):\n",
    "    received = torch.load(checkpoints[alias], map_location=\"cpu\")\n",
    "    config = received[\"config\"]\n",
    "    config.model_config.tokenizer_path = checkpoints[\"tokenizer\"]\n",
    "    encoder, pooling, tokenizer = model_from_config(config.model_config)\n",
    "    encoder.load_state_dict(received[\"model\"])\n",
    "    encoder.eval()\n",
    "    model_params = {\n",
    "        \"tokenizer\": tokenizer,\n",
    "        \"model\": encoder,\n",
    "        \"pooling\": pooling,\n",
    "    }\n",
    "    eval_model = EvalModel(\n",
    "        model_params[\"tokenizer\"],\n",
    "        model_params[\"model\"],\n",
    "        model_params[\"pooling\"],\n",
    "        device = device\n",
    "    )\n",
    "    return eval_model\n",
    "\n",
    "eval_model = _load_model_for_inference(\"trained-all-longer\")"
   ]
  },
  {
   "cell_type": "code",
   "execution_count": 8,
   "id": "0bb3ca21",
   "metadata": {},
   "outputs": [],
   "source": [
    "from random import shuffle\n",
    "from aligners.helpers import load_reference_genome\n",
    "fasta_file = \"/mnt/SSD2/pholur/General_Models/data/thermus_aquaticus/thermus_aquaticus.fasta\"\n",
    "dictionary_of_reference = load_reference_genome(fasta_file)\n",
    "subsequence_of_reference = dictionary_of_reference[\"NZ_CP010822.1\"]\n",
    "\n",
    "\n",
    "def get_subsequences(sequence, min_read_length=200, reads_per_step=100, read_length_step=0):\n",
    "    read_lengths = []\n",
    "    i = 0\n",
    "    read_length = min_read_length\n",
    "    while sum(read_lengths) < len(sequence):\n",
    "        read_lengths.append(min(read_length, len(sequence)-sum(read_lengths)))\n",
    "        i += 1\n",
    "        if i % reads_per_step == 0:\n",
    "            read_length += read_length_step\n",
    "    print(\"Reads up to length\", max(read_lengths))\n",
    "    shuffle(read_lengths)\n",
    "\n",
    "    start = 0\n",
    "    subsequences = {}\n",
    "    i = 0\n",
    "    for j, read_length in enumerate(read_lengths):\n",
    "        if batch_size not in subsequences:\n",
    "            subsequences[batch_size] = []\n",
    "        if j % batch_size == 0:\n",
    "            subsequences[batch_size].append([])\n",
    "        subsequences[batch_size][-1].append(sequence[start:start + read_length].upper())\n",
    "        start += read_length\n",
    "    # flatten by one layer\n",
    "    flattened = []\n",
    "    for batches_by_size in subsequences.values():\n",
    "        # no batches under batch_size\n",
    "        flattened += list(filter(lambda x: len(x) == batch_size, batches_by_size))\n",
    "    return flattened"
   ]
  },
  {
   "cell_type": "code",
   "execution_count": 9,
   "id": "33444782",
   "metadata": {},
   "outputs": [
    {
     "name": "stdout",
     "output_type": "stream",
     "text": [
      "Reads up to length 200\n",
      "Num. batches: 674\n",
      "Batch size: 16\n",
      "Read length: 200\n",
      "torch.Size([16, 384])\n"
     ]
    }
   ],
   "source": [
    "batched_reads = get_subsequences(subsequence_of_reference)\n",
    "batches = []\n",
    "print(\"Num. batches:\", len(batched_reads))\n",
    "print(\"Batch size:\", len(batched_reads[0]))\n",
    "print(\"Read length:\", len(batched_reads[0][0]))\n",
    "for batch in batched_reads:\n",
    "    enc = eval_model.encode(batch)\n",
    "    tensor = torch.Tensor(enc)\n",
    "    batches.append(tensor)\n",
    "print(tensor.shape)"
   ]
  },
  {
   "cell_type": "code",
   "execution_count": 16,
   "id": "c777fdd9",
   "metadata": {},
   "outputs": [
    {
     "data": {
      "text/html": [
       "Finishing last run (ID:6ocasijd) before initializing another..."
      ],
      "text/plain": [
       "<IPython.core.display.HTML object>"
      ]
     },
     "metadata": {},
     "output_type": "display_data"
    },
    {
     "name": "stderr",
     "output_type": "stream",
     "text": [
      "wandb: WARNING Source type is set to 'repo' but some required information is missing from the environment. A job will not be created from this run. See https://docs.wandb.ai/guides/launch/create-job\n"
     ]
    },
    {
     "data": {
      "text/html": [
       "<style>\n",
       "    table.wandb td:nth-child(1) { padding: 0 10px; text-align: left ; width: auto;} td:nth-child(2) {text-align: left ; width: 100%}\n",
       "    .wandb-row { display: flex; flex-direction: row; flex-wrap: wrap; justify-content: flex-start; width: 100% }\n",
       "    .wandb-col { display: flex; flex-direction: column; flex-basis: 100%; flex: 1; padding: 10px; }\n",
       "    </style>\n",
       "<div class=\"wandb-row\"><div class=\"wandb-col\"><h3>Run history:</h3><br/><table class=\"wandb\"><tr><td>batch</td><td>▁▁▁▂▂▂▂▂▂▃▃▃▃▃▃▄▄▄▄▄▅▅▅▅▅▅▆▆▆▆▆▆▇▇▇▇▇███</td></tr><tr><td>epoch</td><td>▁▁▁▁▁▁▁▁▁▁▁▁▁▁▁▁▁▁▁▁▁▁▁▁▁▁▁▁▁▁▁▁▁▁▁▁▁▁▁▁</td></tr><tr><td>loss</td><td>█▇▇▆▅▅▄▄▄▃▃▃▂▂▂▂▂▂▂▂▁▁▂▁▁▁▁▁▁▁▁▁▁▁▁▁▁▁▁▁</td></tr></table><br/></div><div class=\"wandb-col\"><h3>Run summary:</h3><br/><table class=\"wandb\"><tr><td>batch</td><td>673</td></tr><tr><td>epoch</td><td>0</td></tr><tr><td>loss</td><td>0.05576</td></tr></table><br/></div></div>"
      ],
      "text/plain": [
       "<IPython.core.display.HTML object>"
      ]
     },
     "metadata": {},
     "output_type": "display_data"
    },
    {
     "data": {
      "text/html": [
       " View run <strong style=\"color:#cdcd00\">robust-cherry-27</strong> at: <a href='https://wandb.ai/scoliono/dna2vec-vae/runs/6ocasijd' target=\"_blank\">https://wandb.ai/scoliono/dna2vec-vae/runs/6ocasijd</a><br/>Synced 6 W&B file(s), 0 media file(s), 0 artifact file(s) and 0 other file(s)"
      ],
      "text/plain": [
       "<IPython.core.display.HTML object>"
      ]
     },
     "metadata": {},
     "output_type": "display_data"
    },
    {
     "data": {
      "text/html": [
       "Find logs at: <code>./wandb/run-20240205_101105-6ocasijd/logs</code>"
      ],
      "text/plain": [
       "<IPython.core.display.HTML object>"
      ]
     },
     "metadata": {},
     "output_type": "display_data"
    },
    {
     "data": {
      "text/html": [
       "Successfully finished last run (ID:6ocasijd). Initializing new run:<br/>"
      ],
      "text/plain": [
       "<IPython.core.display.HTML object>"
      ]
     },
     "metadata": {},
     "output_type": "display_data"
    },
    {
     "data": {
      "text/html": [
       "Tracking run with wandb version 0.16.2"
      ],
      "text/plain": [
       "<IPython.core.display.HTML object>"
      ]
     },
     "metadata": {},
     "output_type": "display_data"
    },
    {
     "data": {
      "text/html": [
       "Run data is saved locally in <code>/mnt/SSD5/jshiffer/dna2vec/evaluate/wandb/run-20240205_102025-on9v84zp</code>"
      ],
      "text/plain": [
       "<IPython.core.display.HTML object>"
      ]
     },
     "metadata": {},
     "output_type": "display_data"
    },
    {
     "data": {
      "text/html": [
       "Syncing run <strong><a href='https://wandb.ai/scoliono/dna2vec-vae/runs/on9v84zp' target=\"_blank\">trim-fire-28</a></strong> to <a href='https://wandb.ai/scoliono/dna2vec-vae' target=\"_blank\">Weights & Biases</a> (<a href='https://wandb.me/run' target=\"_blank\">docs</a>)<br/>"
      ],
      "text/plain": [
       "<IPython.core.display.HTML object>"
      ]
     },
     "metadata": {},
     "output_type": "display_data"
    },
    {
     "data": {
      "text/html": [
       " View project at <a href='https://wandb.ai/scoliono/dna2vec-vae' target=\"_blank\">https://wandb.ai/scoliono/dna2vec-vae</a>"
      ],
      "text/plain": [
       "<IPython.core.display.HTML object>"
      ]
     },
     "metadata": {},
     "output_type": "display_data"
    },
    {
     "data": {
      "text/html": [
       " View run at <a href='https://wandb.ai/scoliono/dna2vec-vae/runs/on9v84zp' target=\"_blank\">https://wandb.ai/scoliono/dna2vec-vae/runs/on9v84zp</a>"
      ],
      "text/plain": [
       "<IPython.core.display.HTML object>"
      ]
     },
     "metadata": {},
     "output_type": "display_data"
    },
    {
     "name": "stderr",
     "output_type": "stream",
     "text": [
      "100%|██████████| 2/2 [15:24<00:00, 462.13s/it]\n"
     ]
    }
   ],
   "source": [
    "vae = Autoencoder().to('cuda')\n",
    "vae = train_vae(vae, batches, 2)"
   ]
  },
  {
   "cell_type": "code",
   "execution_count": 17,
   "id": "3da6b5c9",
   "metadata": {},
   "outputs": [],
   "source": [
    "torch.save(vae.state_dict(), 'autoencoder.pth')"
   ]
  },
  {
   "cell_type": "code",
   "execution_count": 18,
   "id": "337cb0a7",
   "metadata": {},
   "outputs": [
    {
     "data": {
      "text/plain": [
       "<All keys matched successfully>"
      ]
     },
     "execution_count": 18,
     "metadata": {},
     "output_type": "execute_result"
    }
   ],
   "source": [
    "vae = Autoencoder().to('cuda')\n",
    "vae.load_state_dict(torch.load('autoencoder.pth'))"
   ]
  },
  {
   "cell_type": "code",
   "execution_count": 45,
   "id": "e76f7ed4",
   "metadata": {},
   "outputs": [
    {
     "name": "stdout",
     "output_type": "stream",
     "text": [
      "Loss: 0.007560219150036573\n"
     ]
    },
    {
     "data": {
      "text/plain": [
       "<matplotlib.legend.Legend at 0x7f15c3092050>"
      ]
     },
     "execution_count": 45,
     "metadata": {},
     "output_type": "execute_result"
    },
    {
     "data": {
      "image/png": "[encoded data removed]",
      "text/plain": [
       "<Figure size 640x480 with 1 Axes>"
      ]
     },
     "metadata": {},
     "output_type": "display_data"
    }
   ],
   "source": [
    "from random import randint\n",
    "seq = dictionary_of_reference[\"NZ_CP010823.1\"]\n",
    "rand_idx = randint(0, len(seq) - 201)\n",
    "read = seq[rand_idx:rand_idx+200]\n",
    "\n",
    "vae.eval()\n",
    "read_enc = torch.Tensor(eval_model.encode([read])).to('cuda').view(1, 384)\n",
    "enc = vae.enc(read_enc)\n",
    "#print(enc)\n",
    "read_hat = vae(read_enc)\n",
    "print(\"Loss:\", F.mse_loss(read_enc, read_hat).item())\n",
    "#print(read_enc)\n",
    "#print(read_hat)\n",
    "\n",
    "import matplotlib.pyplot as plt\n",
    "plt.plot(read_enc[0].detach().cpu().numpy()[:50], label=\"read\")\n",
    "plt.plot(read_hat[0].detach().cpu().numpy()[:50], label=\"read_hat\")\n",
    "plt.xlabel(\"index\")\n",
    "plt.legend()"
   ]
  }
 ],
 "metadata": {
  "kernelspec": {
   "display_name": "dna2vec",
   "language": "python",
   "name": "python3"
  },
  "language_info": {
   "codemirror_mode": {
    "name": "ipython",
    "version": 3
   },
   "file_extension": ".py",
   "mimetype": "text/x-python",
   "name": "python",
   "nbconvert_exporter": "python",
   "pygments_lexer": "ipython3",
   "version": "3.11.7"
  }
 },
 "nbformat": 4,
 "nbformat_minor": 5
}
