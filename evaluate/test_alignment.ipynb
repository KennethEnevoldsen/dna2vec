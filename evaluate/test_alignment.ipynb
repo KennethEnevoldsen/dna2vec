{
 "cells": [
  {
   "attachments": {},
   "cell_type": "markdown",
   "metadata": {},
   "source": [
    "## Load and setup simple test bench"
   ]
  },
  {
   "cell_type": "code",
   "execution_count": 1,
   "metadata": {},
   "outputs": [
    {
     "name": "stderr",
     "output_type": "stream",
     "text": [
      "/mnt/SSD2/pholur/environments/dna2vec/lib/python3.11/site-packages/Bio/pairwise2.py:278: BiopythonDeprecationWarning: Bio.pairwise2 has been deprecated, and we intend to remove it in a future release of Biopython. As an alternative, please consider using Bio.Align.PairwiseAligner as a replacement, and contact the Biopython developers if you still need the Bio.pairwise2 module.\n",
      "  warnings.warn(\n"
     ]
    }
   ],
   "source": [
    "%load_ext autoreload\n",
    "%autoreload 2\n",
    "import sys\n",
    "sys.path.append(\"../evaluate/\")\n",
    "from aligners.smith_waterman import calculate_smith_waterman_distance\n",
    "from aligners.bwamem2 import bwa_mem2_align\n",
    "from aligners.minimap2 import minimap2_align\n",
    "from aligners.bowtie2 import bowtie2_align\n",
    "\n",
    "import matplotlib.pyplot as plt"
   ]
  },
  {
   "cell_type": "code",
   "execution_count": 4,
   "metadata": {},
   "outputs": [],
   "source": [
    "string2 = \"ATGCTCGATCGATCGATCGAAATCGC\"\n",
    "string1 = \"ATCGCCCTATGCTCGATCGATCGATCGAAATCGCAGCTCCTCTGACTCAAGAAGACTCGAATGCTCGATCGATCGATCGAAATCGCAGCCTCGAAGCCTCTTGAAA\"\n",
    "intervals = [1,10,50,100,500,1000,2000,5000,10000,100000]\n",
    "reference_path = \"/home/pholur/dna2vec/evaluate/data/chromosome_2/NC_000002.fasta\"\n",
    "with open(reference_path, \"r\") as f:\n",
    "    control = f.read().replace(\"\\n\",\"\")\n",
    "sample_read = \"AAATATAAGTCAGATATATCAAAATATAAGTCAGAATTTTACAAATATTGAAGTGTCATATCACATCAGAGTAACAACACCACCTAAGTACCAAATGATGATAATGAAACTTAGACCTACTGGAATTGAGTAGAGGTGAACATCATGTGA\""
   ]
  },
  {
   "attachments": {},
   "cell_type": "markdown",
   "metadata": {},
   "source": [
    "## Naive Smith-Waterman Distance"
   ]
  },
  {
   "cell_type": "code",
   "execution_count": 14,
   "metadata": {},
   "outputs": [
    {
     "name": "stdout",
     "output_type": "stream",
     "text": [
      "Best match:\n",
      "target            8 ATGCTCGATCGATCGATCGAAATCGC 34\n",
      "                  0 |||||||||||||||||||||||||| 26\n",
      "query             0 ATGCTCGATCGATCGATCGAAATCGC 26\n",
      "\n",
      "{'elapsed time': 0.0021452903747558594, 'distance': -52.0, 'begins': [8]}\n",
      "0.002481698989868164\n"
     ]
    }
   ],
   "source": [
    "import time\n",
    "start = time.time()\n",
    "# EXPENSIVE!\n",
    "print(calculate_smith_waterman_distance(string1, \n",
    "                                    string2, \n",
    "                                    match_score=2,\n",
    "                                    mismatch_penalty=-1,\n",
    "                                    open_gap_penalty=-0.5,\n",
    "                                    continue_gap_penalty=-0.1,\n",
    "                                    debug = True))\n",
    "print(time.time() - start)"
   ]
  },
  {
   "attachments": {},
   "cell_type": "markdown",
   "metadata": {},
   "source": [
    "## BWA-Mem 2"
   ]
  },
  {
   "cell_type": "code",
   "execution_count": 25,
   "metadata": {},
   "outputs": [
    {
     "name": "stderr",
     "output_type": "stream",
     "text": [
      "Looking to launch executable \"/home/pholur/dna2vec/evaluate/aligners/bwa-mem2-2.2.1_x64-linux/bwa-mem2.avx2\", simd = .avx2\n",
      "Launching executable \"/home/pholur/dna2vec/evaluate/aligners/bwa-mem2-2.2.1_x64-linux/bwa-mem2.avx2\"\n",
      "-----------------------------\n",
      "Executing in AVX2 mode!!\n",
      "-----------------------------\n",
      "* SA compression enabled with xfactor: 8\n",
      "* Ref file: /mnt/SSD2/pholur/General_Models/data/all/chm13v2.0.fa\n",
      "* Entering FMI_search\n",
      "* Index file found. Loading index from /mnt/SSD2/pholur/General_Models/data/all/chm13v2.0.fa.bwt.2bit.64\n",
      "* Reference seq len for bi-index = 6234584141\n",
      "* sentinel-index: 2011801443\n",
      "* Count:\n",
      "0,\t1\n",
      "1,\t1846872793\n",
      "2,\t3117292071\n",
      "3,\t4387711349\n",
      "4,\t6234584141\n",
      "\n",
      "* Reading other elements of the index from files /mnt/SSD2/pholur/General_Models/data/all/chm13v2.0.fa\n",
      "* Index prefix: /mnt/SSD2/pholur/General_Models/data/all/chm13v2.0.fa\n",
      "* Read 0 ALT contigs\n",
      "* Done reading Index!!\n",
      "* Reading reference genome..\n",
      "* Binary seq file = /mnt/SSD2/pholur/General_Models/data/all/chm13v2.0.fa.0123\n",
      "* Reference genome size: 6234584140 bp\n",
      "* Done reading reference genome !!\n",
      "\n",
      "------------------------------------------\n",
      "1. Memory pre-allocation for Chaining: 139.3584 MB\n",
      "2. Memory pre-allocation for BSW: 239.6170 MB\n",
      "3. Memory pre-allocation for BWT: 77.3142 MB\n",
      "------------------------------------------\n",
      "* Threads used (compute): 1\n",
      "* No. of pipeline threads: 2\n",
      "\n",
      "[0000] read_chunk: 10000000, work_chunk_size: 3125000, nseq: 12500\n",
      "\t[0000][ M::kt_pipeline] read 12500 sequences (3125000 bp)...\n",
      "[0000] Calling mem_process_seqs.., task: 0\n",
      "[0000] 1. Calling kt_for - worker_bwt\n",
      "[0000] read_chunk: 10000000, work_chunk_size: 0, nseq: 0\n",
      "[0000] 2. Calling kt_for - worker_aln\n",
      "[0000] 3. Calling kt_for - worker_sam\n",
      "\t[0000][ M::mem_process_seqs] Processed 12500 reads in 17.841 CPU sec, 17.846 real sec\n",
      "[0000] read_chunk: 10000000, work_chunk_size: 0, nseq: 0\n",
      "[0000] Computation ends..\n"
     ]
    },
    {
     "name": "stdout",
     "output_type": "stream",
     "text": [
      "BWA-MEM2 alignment completed successfully.\n"
     ]
    },
    {
     "name": "stderr",
     "output_type": "stream",
     "text": [
      "No. of OMP threads: 1\n",
      "Processor is running @2000.219040 MHz\n",
      "Runtime profile:\n",
      "\n",
      "\tTime taken for main_mem function: 27.14 sec\n",
      "\n",
      "\tIO times (sec) :\n",
      "\tReading IO time (reads) avg: 0.02, (0.02, 0.02)\n",
      "\tWriting IO time (SAM) avg: 0.05, (0.05, 0.05)\n",
      "\tReading IO time (Reference Genome) avg: 3.07, (3.07, 3.07)\n",
      "\tIndex read time avg: 5.21, (5.21, 5.21)\n",
      "\n",
      "\tOverall time (sec) (Excluding Index reading time):\n",
      "\tPROCESS() (Total compute time + (read + SAM) IO time) : 17.92\n",
      "\tMEM_PROCESS_SEQ() (Total compute time (Kernel + SAM)), avg: 17.84, (17.84, 17.84)\n",
      "\n",
      "\t SAM Processing time (sec):\n",
      "\t--WORKER_SAM avg: 0.65, (0.65, 0.65)\n",
      "\n",
      "\tKernels' compute time (sec):\n",
      "\tTotal kernel (smem+sal+bsw) time avg: 17.20, (17.20, 17.20)\n",
      "\t\tSMEM compute avg: 2.32, (2.32, 2.32)\n",
      "\t\tSAL compute avg: 0.28, (0.28, 0.28)\n",
      "\t\t\t\tMEM_SA avg: 0.16, (0.16, 0.16)\n",
      "\n",
      "\t\tBSW time, avg: 14.19, (14.19, 14.19)\n",
      "\n",
      "Important parameter settings: \n",
      "\tBATCH_SIZE: 512\n",
      "\tMAX_SEQ_LEN_REF: 256\n",
      "\tMAX_SEQ_LEN_QER: 128\n",
      "\tMAX_SEQ_LEN8: 128\n",
      "\tSEEDS_PER_READ: 500\n",
      "\tSIMD_WIDTH8 X: 32\n",
      "\tSIMD_WIDTH16 X: 16\n",
      "\tAVG_SEEDS_PER_READ: 64\n"
     ]
    }
   ],
   "source": [
    "time_per_read_bwa = []\n",
    "for i in range(1):\n",
    "    start = time.time()\n",
    "    indices = bwa_mem2_align(\"/mnt/SSD2/pholur/General_Models/data/all/chm13v2.0.fa\", \n",
    "                             \"/mnt/SSD2/pholur/dna2vec/simulated_reads/reads_500_250_IR1-dot-0_DR1-dot-0_Q10-20_MSv3.fq\", \n",
    "                             \"/home/pholur/dna2vec/evaluate/aligners\", \"./test.sam\");"
   ]
  },
  {
   "attachments": {},
   "cell_type": "markdown",
   "metadata": {},
   "source": [
    "## Minimap2"
   ]
  },
  {
   "cell_type": "code",
   "execution_count": 22,
   "metadata": {},
   "outputs": [
    {
     "name": "stderr",
     "output_type": "stream",
     "text": [
      "[M::mm_idx_gen::62.812*1.49] collected minimizers\n",
      "[M::mm_idx_gen::77.606*1.77] sorted minimizers\n",
      "[M::main::77.606*1.77] loaded/built the index for 25 target sequence(s)\n",
      "[M::mm_mapopt_update::77.606*1.77] mid_occ = 1000\n",
      "[M::mm_idx_stat] kmer size: 21; skip: 11; is_hpc: 0; #seq: 25\n",
      "[M::mm_idx_stat::80.496*1.75] distinct minimizers: 382283879 (95.25% are singletons); average occurrences: 1.364; average spacing: 5.978; total length: 3117292070\n",
      "[M::worker_pipeline::81.751*1.76] mapped 12500 sequences\n",
      "[M::main] Version: 2.26-r1175\n",
      "[M::main] CMD: /home/pholur/dna2vec/evaluate/aligners/minimap2/minimap2 -ax sr -B 5 -O 30 -E 30 /mnt/SSD2/pholur/General_Models/data/all/chm13v2.0.fa /mnt/SSD2/pholur/dna2vec/simulated_reads/reads_500_250_IR1-dot-0_DR1-dot-0_Q10-20_MSv3.fq\n",
      "[M::main] Real time: 81.901 sec; CPU: 144.249 sec; Peak RSS: 11.568 GB\n"
     ]
    },
    {
     "name": "stdout",
     "output_type": "stream",
     "text": [
      "minimap2 alignment completed successfully.\n"
     ]
    }
   ],
   "source": [
    "time_per_read_minimap = []\n",
    "for i in range(1):\n",
    "    start = time.time()\n",
    "    indices = minimap2_align(\"/mnt/SSD2/pholur/General_Models/data/all/chm13v2.0.fa\", \n",
    "                             \"/mnt/SSD2/pholur/dna2vec/simulated_reads/reads_500_250_IR1-dot-0_DR1-dot-0_Q10-20_MSv3.fq\", #reads_25_250_IR0-dot-0001_DR0-dot-0001_Q60-90_MSv3.fq\", \n",
    "                             \"/home/pholur/dna2vec/evaluate/aligners\", \n",
    "                             \"./test.sam\");"
   ]
  },
  {
   "attachments": {},
   "cell_type": "markdown",
   "metadata": {},
   "source": [
    "## Bowtie2"
   ]
  },
  {
   "cell_type": "code",
   "execution_count": 4,
   "metadata": {},
   "outputs": [
    {
     "name": "stdout",
     "output_type": "stream",
     "text": [
      "Bowtie2 alignment completed successfully.\n",
      "Bowtie2 alignment completed successfully.\n"
     ]
    },
    {
     "name": "stderr",
     "output_type": "stream",
     "text": [
      "10000 reads; of these:\n",
      "  10000 (100.00%) were unpaired; of these:\n",
      "    28 (0.28%) aligned 0 times\n",
      "    9246 (92.46%) aligned exactly 1 time\n",
      "    726 (7.26%) aligned >1 times\n",
      "99.72% overall alignment rate\n"
     ]
    }
   ],
   "source": [
    "time_per_read_bowtie = []\n",
    "reads = []\n",
    "with open(\"/mnt/SSD5/pholur/dna/reads.txt\", \"r\") as f:\n",
    "    reads = f.readlines()\n",
    "\n",
    "reads = [read.strip()[:] for read in reads if read.strip() != \"\"]\n",
    "# reads = [\"\".join([\"A\"]*250)]*250\n",
    "import time\n",
    "for i in range(1):\n",
    "    start = time.time()\n",
    "    # indices = bowtie2_align(\"/home/pholur/dna2vec/evaluate/data/chromosome_2/NC_000002\", [sample_read]*i, \"/home/pholur/dna2vec/evaluate/aligners/bowtie2-2.5.1-linux-x86_64\", \"./test.sam\");\n",
    "    indices = bowtie2_align(\"/mnt/SSD2/pholur/General_Models/data/all/chm13v2.0.fa\", \n",
    "                            reads,\n",
    "                            # \"/mnt/SSD2/pholur/dna2vec/External_Data/sample_250_illumina_wgs.fastq\",\n",
    "                            # \"/mnt/SSD2/pholur/dna2vec/simulated_reads/reads_25_250_IR0-dot-0001_DR0-dot-0001_Q60-90_MSv3.fq\", \n",
    "                            # \"/mnt/SSD2/pholur/dna2vec/simulated_reads/reads_500_250_IR1-dot-0_DR1-dot-0_Q10-20_MSv3.fq\",\n",
    "                            \"/home/pholur/dna2vec/evaluate/aligners/bowtie2-2.5.1-linux-x86_64\", \n",
    "                            \"./test.sam\");"
   ]
  },
  {
   "cell_type": "code",
   "execution_count": 4,
   "metadata": {},
   "outputs": [],
   "source": [
    "from aligners.helpers import load_reference_genome, compute_sw\n",
    "reference = load_reference_genome(\"/mnt/SSD2/pholur/General_Models/data/all/chm13v2.0.fa\")"
   ]
  },
  {
   "cell_type": "code",
   "execution_count": 5,
   "metadata": {},
   "outputs": [
    {
     "name": "stderr",
     "output_type": "stream",
     "text": [
      "  4%|▍         | 424/10027 [00:05<02:17, 69.70it/s]"
     ]
    },
    {
     "name": "stdout",
     "output_type": "stream",
     "text": [
      "250\n",
      "GATAATAAATCATTTGATCACACTATTAATGGGATATTCGAATATTTCAAAGAATTCAGCACAGTTGACAGGTCTAGGCATATAAGACTCTCAGGCAGCCTGAAGATTAGCCATGAGGTGAGCCAGGTGGTGGCAGCTTCACCCTGTCGATGCCAGAACTCATTCTGACATCAGGACTGGGCAGACGGGCTTCCTCGGGCTGCTTGTTCCATGAGAATTCTCCTGGAATGATGTGCTTGGATGAAAAAGA\n",
      "AATGAGTAGTAACATTGAATTAGCACTCAGAATCTTCCTGCCATGAAGTCTGTTGTGTTCTCTACATTTTCTGACACCCGCTTTTTGTGTAAAGTTTTGTTTATTACCTGATGAATAGAACAAAACTTGTTCGTGCCCATTAAACAGGTAATTCATGTTTTCGAAAGATAAGCATTATCTCTCCTTTATCATTCCCAATAATTCAACTCTGGAGTCCTGATCAGTGTGGCTTACAAACTGGAAGACAAAAACATTTCGAAAAAACCTAATAGCTAAGTTAGTTTTttaagctattattattgttaaaataataatagtgaactattatttttagttcacttgaaaaaaatcacttggGCATTGTAGAGACACAGCACTGTGCCAACAAAAAGCTGATTACTAAAGGtaggatgaccatatatcctggtttgtccagaaaaaatgtctgagtgtaattatcagtaggaccctctttcagtctcagaagtctccagatttggataataaatcatttgatcacactaTTAATGggatatttgaatatttcaaagAATTCAGCACAGTTGACAGGTCTAGGCATATAAGACTCTCAGGCAGCCTGAAGATTAGCCATGAGGTGAGCCAGGTGGTGGCAGCTTCACCCTGTCGATGCCAGAACTCATTCTGACATCAGGACTGGGCAGACGGGCTTCCTCAGGCTGCTTGTTCCATGAGAATTCTCCTGGAATGATGTGCTTGGATGAAAAAGACAATTTCCTGAGGTAGGGGGAATGCTTTTCTGTTCAGTAGAGCTACAACACTCGAGCTAGACTCCCGAAATAAGTGCTTGTTGTATTCCTCCAGAATAAATAGTAACTGATATtgatagctcacatttattcgcacttgtcgcaggtcactcagtgagtactctacatacgtggctttattcaaccctgacagcaatcctgaggtagattcttttatagttcccatttcacatgtgaggaaatgaggctcagagaagtaacttgccttgagtcacagagctggcaagcgatagagttgagatttgaagagacagagacagttgGAAAATTGGGTAGGTCACAGGAATTAAAGTTGAACAACTAAGCAtcagaaagaacagaaatcaggGCACTGTTGGGGATCTCAAcgtttattcaatgaacatttgtgtggtttttactatgttccagaagttctgctaggttctagggctgtgtctaaggaaggcacagtctctgcag\n",
      "114439\n"
     ]
    },
    {
     "name": "stderr",
     "output_type": "stream",
     "text": [
      " 13%|█▎        | 1323/10027 [00:18<02:04, 70.16it/s]"
     ]
    }
   ],
   "source": [
    "compute_sw(\"./test.sam\", reference)"
   ]
  }
 ],
 "metadata": {
  "kernelspec": {
   "display_name": "Python 3",
   "language": "python",
   "name": "python3"
  },
  "language_info": {
   "codemirror_mode": {
    "name": "ipython",
    "version": 3
   },
   "file_extension": ".py",
   "mimetype": "text/x-python",
   "name": "python",
   "nbconvert_exporter": "python",
   "pygments_lexer": "ipython3",
   "version": "3.11.0"
  },
  "orig_nbformat": 4
 },
 "nbformat": 4,
 "nbformat_minor": 2
}
