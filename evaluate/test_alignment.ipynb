{
 "cells": [
  {
   "attachments": {},
   "cell_type": "markdown",
   "metadata": {},
   "source": [
    "## Load and setup simple test bench"
   ]
  },
  {
   "cell_type": "code",
   "execution_count": 10,
   "metadata": {},
   "outputs": [
    {
     "name": "stdout",
     "output_type": "stream",
     "text": [
      "The autoreload extension is already loaded. To reload it, use:\n",
      "  %reload_ext autoreload\n"
     ]
    }
   ],
   "source": [
    "%load_ext autoreload\n",
    "%autoreload 2\n",
    "import sys\n",
    "sys.path.append(\"../evaluate/\")\n",
    "from aligners.smith_waterman import calculate_smith_waterman_distance\n",
    "from aligners.bwamem2 import bwa_mem2_align\n",
    "from aligners.minimap2 import minimap2_align\n",
    "from aligners.bowtie2 import bowtie2_align"
   ]
  },
  {
   "cell_type": "code",
   "execution_count": 3,
   "metadata": {},
   "outputs": [],
   "source": [
    "string2 = \"ATGCTCGATCGATCGATCGAAATCGC\"\n",
    "string1 = \"ATCGCCCTATGCTCGATCGATCGATCGAAATCGCAGCTCCTCTGACTCAAGAAGACTCGAATGCTCGATCGATCGATCGAAATCGCAGCCTCGAAGCCTCTTGAAA\"\n",
    "reference_path = \"/home/pholur/dna2vec/evaluate/data/chromosome_2/NC_000002.fasta\"\n",
    "with open(reference_path, \"r\") as f:\n",
    "    control = f.read().replace(\"\\n\",\"\")\n",
    "sample_read = \"AAATATAAGTCAGATATATCAAAATATAAGTCAGAATTTTACAAATATTGAAGTGTCATATCACATCAGAGTAACAACACCACCTAAGTACCAAATGATGATAATGAAACTTAGACCTACTGGAATTGAGTAGAGGTGAACATCATGTGA\""
   ]
  },
  {
   "attachments": {},
   "cell_type": "markdown",
   "metadata": {},
   "source": [
    "## Naive Smith-Waterman Distance"
   ]
  },
  {
   "cell_type": "code",
   "execution_count": 5,
   "metadata": {},
   "outputs": [
    {
     "name": "stdout",
     "output_type": "stream",
     "text": [
      "Best match:\n",
      "target      6409941 AAATATAAGTCAGATATATCAAAATATAAGTCAGAATTTTACAAATATTGAAGTGTCATA\n",
      "                  0 ||||||||||||||||||||||||||||||||||||||||||||||||||||||||||||\n",
      "query             0 AAATATAAGTCAGATATATCAAAATATAAGTCAGAATTTTACAAATATTGAAGTGTCATA\n",
      "\n",
      "target      6410001 TCACATCAGAGTAACAACACCACCTAAGTACCAAATGATGATAATGAAACTTAGACCTAC\n",
      "                 60 ||||||||||||||||||||||||||||||||||||||||||||||||||||||||||||\n",
      "query            60 TCACATCAGAGTAACAACACCACCTAAGTACCAAATGATGATAATGAAACTTAGACCTAC\n",
      "\n",
      "target      6410061 TGGAATTGAGTAGAGGTGAACATCATGTGA 6410091\n",
      "                120 ||||||||||||||||||||||||||||||     150\n",
      "query           120 TGGAATTGAGTAGAGGTGAACATCATGTGA     150\n",
      "\n",
      "{'elapsed time': 2424.680049419403, 'distance': -300.0, 'begins': [6409941]}\n",
      "2486.0885140895844\n"
     ]
    }
   ],
   "source": [
    "import time\n",
    "start = time.time()\n",
    "# EXPENSIVE!\n",
    "print(calculate_smith_waterman_distance(control, \n",
    "                                    sample_read, \n",
    "                                    match_score=2,\n",
    "                                    mismatch_penalty=-1,\n",
    "                                    open_gap_penalty=-0.5,\n",
    "                                    continue_gap_penalty=-0.1,\n",
    "                                    debug = True))\n",
    "print(time.time() - start)"
   ]
  },
  {
   "cell_type": "code",
   "execution_count": 4,
   "metadata": {},
   "outputs": [
    {
     "name": "stdout",
     "output_type": "stream",
     "text": [
      "Best match:\n",
      "target            8 ATGCTCGATCGATCGATCGAAATCGC 34\n",
      "                  0 |||||||||||||||||||||||||| 26\n",
      "query             0 ATGCTCGATCGATCGATCGAAATCGC 26\n",
      "\n"
     ]
    },
    {
     "data": {
      "text/plain": [
       "{'elapsed time': 0.0021584033966064453, 'distance': -52.0, 'begins': [8]}"
      ]
     },
     "execution_count": 4,
     "metadata": {},
     "output_type": "execute_result"
    }
   ],
   "source": [
    "calculate_smith_waterman_distance(string1, \n",
    "                                    string2, \n",
    "                                    match_score=2,\n",
    "                                    mismatch_penalty=-1,\n",
    "                                    open_gap_penalty=-0.5,\n",
    "                                    continue_gap_penalty=-0.1,\n",
    "                                    debug = True)"
   ]
  },
  {
   "attachments": {},
   "cell_type": "markdown",
   "metadata": {},
   "source": [
    "## BWA-Mem 2"
   ]
  },
  {
   "cell_type": "code",
   "execution_count": 17,
   "metadata": {},
   "outputs": [
    {
     "name": "stderr",
     "output_type": "stream",
     "text": [
      "Looking to launch executable \"/home/pholur/dna2vec/evaluate/aligners/bwa-mem2-2.2.1_x64-linux/bwa-mem2.avx2\", simd = .avx2\n",
      "Launching executable \"/home/pholur/dna2vec/evaluate/aligners/bwa-mem2-2.2.1_x64-linux/bwa-mem2.avx2\"\n",
      "-----------------------------\n",
      "Executing in AVX2 mode!!\n",
      "-----------------------------\n",
      "* SA compression enabled with xfactor: 8\n",
      "* Ref file: /home/pholur/dna2vec/evaluate/data/chromosome_2/NC_000002.fasta\n",
      "* Entering FMI_search\n",
      "* Index file found. Loading index from /home/pholur/dna2vec/evaluate/data/chromosome_2/NC_000002.fasta.bwt.2bit.64\n",
      "* Reference seq len for bi-index = 484387059\n",
      "* sentinel-index: 206661405\n",
      "* Count:\n",
      "0,\t1\n",
      "1,\t144601590\n",
      "2,\t242193530\n",
      "3,\t339785470\n",
      "4,\t484387059\n",
      "\n",
      "* Reading other elements of the index from files /home/pholur/dna2vec/evaluate/data/chromosome_2/NC_000002.fasta\n",
      "* Index prefix: /home/pholur/dna2vec/evaluate/data/chromosome_2/NC_000002.fasta\n",
      "* Read 0 ALT contigs\n",
      "* Done reading Index!!\n",
      "* Reading reference genome..\n",
      "* Binary seq file = /home/pholur/dna2vec/evaluate/data/chromosome_2/NC_000002.fasta.0123\n",
      "* Reference genome size: 484387058 bp\n",
      "* Done reading reference genome !!\n",
      "\n",
      "------------------------------------------\n",
      "1. Memory pre-allocation for Chaining: 139.3584 MB\n",
      "2. Memory pre-allocation for BSW: 239.6170 MB\n",
      "3. Memory pre-allocation for BWT: 77.3142 MB\n",
      "------------------------------------------\n",
      "* Threads used (compute): 1\n",
      "* No. of pipeline threads: 2\n",
      "\n",
      "[0000] read_chunk: 10000000, work_chunk_size: 1500000, nseq: 10000\n",
      "\t[0000][ M::kt_pipeline] read 10000 sequences (1500000 bp)...\n",
      "[0000] Calling mem_process_seqs.., task: 0\n",
      "[0000] 1. Calling kt_for - worker_bwt\n",
      "[0000] read_chunk: 10000000, work_chunk_size: 0, nseq: 0\n",
      "[0000] 2. Calling kt_for - worker_aln\n",
      "[0000] 3. Calling kt_for - worker_sam\n",
      "\t[0000][ M::mem_process_seqs] Processed 10000 reads in 0.358 CPU sec, 0.358 real sec\n",
      "[0000] read_chunk: 10000000, work_chunk_size: 0, nseq: 0\n",
      "[0000] Computation ends..\n"
     ]
    },
    {
     "name": "stdout",
     "output_type": "stream",
     "text": [
      "BWA-MEM2 alignment completed successfully.\n",
      "Time per read:  0.00023491265773773194\n"
     ]
    },
    {
     "name": "stderr",
     "output_type": "stream",
     "text": [
      "No. of OMP threads: 1\n",
      "Processor is running @2000.135280 MHz\n",
      "Runtime profile:\n",
      "\n",
      "\tTime taken for main_mem function: 1.29 sec\n",
      "\n",
      "\tIO times (sec) :\n",
      "\tReading IO time (reads) avg: 0.02, (0.02, 0.02)\n",
      "\tWriting IO time (SAM) avg: 0.02, (0.02, 0.02)\n",
      "\tReading IO time (Reference Genome) avg: 0.26, (0.26, 0.26)\n",
      "\tIndex read time avg: 0.55, (0.55, 0.55)\n",
      "\n",
      "\tOverall time (sec) (Excluding Index reading time):\n",
      "\tPROCESS() (Total compute time + (read + SAM) IO time) : 0.40\n",
      "\tMEM_PROCESS_SEQ() (Total compute time (Kernel + SAM)), avg: 0.36, (0.36, 0.36)\n",
      "\n",
      "\t SAM Processing time (sec):\n",
      "\t--WORKER_SAM avg: 0.02, (0.02, 0.02)\n",
      "\n",
      "\tKernels' compute time (sec):\n",
      "\tTotal kernel (smem+sal+bsw) time avg: 0.33, (0.33, 0.33)\n",
      "\t\tSMEM compute avg: 0.18, (0.18, 0.18)\n",
      "\t\tSAL compute avg: 0.02, (0.02, 0.02)\n",
      "\t\t\t\tMEM_SA avg: 0.01, (0.01, 0.01)\n",
      "\n",
      "\t\tBSW time, avg: 0.13, (0.13, 0.13)\n",
      "\n",
      "Important parameter settings: \n",
      "\tBATCH_SIZE: 512\n",
      "\tMAX_SEQ_LEN_REF: 256\n",
      "\tMAX_SEQ_LEN_QER: 128\n",
      "\tMAX_SEQ_LEN8: 128\n",
      "\tSEEDS_PER_READ: 500\n",
      "\tSIMD_WIDTH8 X: 32\n",
      "\tSIMD_WIDTH16 X: 16\n",
      "\tAVG_SEEDS_PER_READ: 64\n"
     ]
    }
   ],
   "source": [
    "import time\n",
    "# They might be doing optimizations for repeats. Do a more thorough test\n",
    "start = time.time()\n",
    "bwa_mem2_align(reference_path, [sample_read]*10000, \"/home/pholur/dna2vec/evaluate/aligners\", \"./test.sam\");\n",
    "print(\"Time per read: \", (time.time() - start) / 10000 )  "
   ]
  },
  {
   "attachments": {},
   "cell_type": "markdown",
   "metadata": {},
   "source": [
    "## Minimap2"
   ]
  },
  {
   "cell_type": "code",
   "execution_count": 17,
   "metadata": {},
   "outputs": [
    {
     "name": "stdout",
     "output_type": "stream",
     "text": [
      "minimap2 alignment completed successfully.\n"
     ]
    },
    {
     "name": "stderr",
     "output_type": "stream",
     "text": [
      "[M::mm_idx_gen::0.010*0.23] collected minimizers\n",
      "[M::mm_idx_gen::0.012*0.30] sorted minimizers\n",
      "[M::main::0.012*0.30] loaded/built the index for 1 target sequence(s)\n",
      "[M::mm_mapopt_update::0.012*0.30] mid_occ = 1000\n",
      "[M::mm_idx_stat] kmer size: 21; skip: 11; is_hpc: 0; #seq: 1\n",
      "[M::mm_idx_stat::0.012*0.31] distinct minimizers: 0 (-nan% are singletons); average occurrences: -nan; average spacing: inf; total length: 48\n",
      "[M::worker_pipeline::0.059*1.44] mapped 10000 sequences\n",
      "[M::main] Version: 2.26-r1175\n",
      "[M::main] CMD: /home/pholur/dna2vec/evaluate/aligners/minimap2/minimap2 -ax sr temp_reference.fasta temp_reads.fastq\n",
      "[M::main] Real time: 0.060 sec; CPU: 0.086 sec; Peak RSS: 0.006 GB\n"
     ]
    }
   ],
   "source": [
    "minimap2_align(\"/home/pholur/dna2vec/evaluate/data/chromosome_2/\", [sample_read]*10000, \n",
    "               \"/home/pholur/dna2vec/evaluate/aligners\", \"./test.sam\");"
   ]
  },
  {
   "attachments": {},
   "cell_type": "markdown",
   "metadata": {},
   "source": [
    "## Bowtie2"
   ]
  },
  {
   "cell_type": "code",
   "execution_count": 16,
   "metadata": {},
   "outputs": [
    {
     "name": "stdout",
     "output_type": "stream",
     "text": [
      "Error during Bowtie2 alignment: Command '/home/pholur/dna2vec/evaluate/aligners/bowtie2-2.5.1-linux-x86_64/bowtie2 -x /home/pholur/dna2vec/evaluate/data/chromosome_2/NC_000002.fasta -U temp_interleaved.fastq -S ./test.sam --interleaved' returned non-zero exit status 255.\n"
     ]
    },
    {
     "name": "stderr",
     "output_type": "stream",
     "text": [
      "(ERR): \"/home/pholur/dna2vec/evaluate/data/chromosome_2/NC_000002.fasta\" does not exist or is not a Bowtie 2 index\n",
      "Exiting now ...\n"
     ]
    }
   ],
   "source": [
    "bowtie2_align(reference_path, [sample_read]*10000, \"/home/pholur/dna2vec/evaluate/aligners/bowtie2-2.5.1-linux-x86_64\", \"./test.sam\");"
   ]
  }
 ],
 "metadata": {
  "kernelspec": {
   "display_name": "Python 3",
   "language": "python",
   "name": "python3"
  },
  "language_info": {
   "codemirror_mode": {
    "name": "ipython",
    "version": 3
   },
   "file_extension": ".py",
   "mimetype": "text/x-python",
   "name": "python",
   "nbconvert_exporter": "python",
   "pygments_lexer": "ipython3",
   "version": "3.11.3"
  },
  "orig_nbformat": 4
 },
 "nbformat": 4,
 "nbformat_minor": 2
}
